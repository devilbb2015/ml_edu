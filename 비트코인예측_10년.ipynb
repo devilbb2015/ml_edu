{
 "cells": [
  {
   "cell_type": "code",
   "execution_count": 103,
   "id": "be6f3438",
   "metadata": {},
   "outputs": [],
   "source": [
    "import pandas as pd\n",
    "import numpy as np\n",
    "import matplotlib.pyplot as plt"
   ]
  },
  {
   "cell_type": "code",
   "execution_count": 104,
   "id": "34bd2665",
   "metadata": {},
   "outputs": [],
   "source": [
    "import warnings\n",
    "\n",
    "warnings.filterwarnings(action='ignore')"
   ]
  },
  {
   "cell_type": "code",
   "execution_count": 105,
   "id": "5f9274f5",
   "metadata": {},
   "outputs": [],
   "source": [
    "file_path = './data/market-price.csv'\n",
    "df = pd.read_csv(file_path, names=['day','price'])"
   ]
  },
  {
   "cell_type": "code",
   "execution_count": 106,
   "id": "eb7b3ba6",
   "metadata": {},
   "outputs": [
    {
     "data": {
      "text/html": [
       "<div>\n",
       "<style scoped>\n",
       "    .dataframe tbody tr th:only-of-type {\n",
       "        vertical-align: middle;\n",
       "    }\n",
       "\n",
       "    .dataframe tbody tr th {\n",
       "        vertical-align: top;\n",
       "    }\n",
       "\n",
       "    .dataframe thead th {\n",
       "        text-align: right;\n",
       "    }\n",
       "</style>\n",
       "<table border=\"1\" class=\"dataframe\">\n",
       "  <thead>\n",
       "    <tr style=\"text-align: right;\">\n",
       "      <th></th>\n",
       "      <th>day</th>\n",
       "      <th>price</th>\n",
       "    </tr>\n",
       "  </thead>\n",
       "  <tbody>\n",
       "    <tr>\n",
       "      <th>0</th>\n",
       "      <td>2010-08-17</td>\n",
       "      <td>0.00</td>\n",
       "    </tr>\n",
       "    <tr>\n",
       "      <th>1</th>\n",
       "      <td>2010-08-20</td>\n",
       "      <td>0.07</td>\n",
       "    </tr>\n",
       "    <tr>\n",
       "      <th>2</th>\n",
       "      <td>2010-08-23</td>\n",
       "      <td>0.07</td>\n",
       "    </tr>\n",
       "    <tr>\n",
       "      <th>3</th>\n",
       "      <td>2010-08-26</td>\n",
       "      <td>0.07</td>\n",
       "    </tr>\n",
       "    <tr>\n",
       "      <th>4</th>\n",
       "      <td>2010-08-29</td>\n",
       "      <td>0.06</td>\n",
       "    </tr>\n",
       "    <tr>\n",
       "      <th>...</th>\n",
       "      <td>...</td>\n",
       "      <td>...</td>\n",
       "    </tr>\n",
       "    <tr>\n",
       "      <th>1373</th>\n",
       "      <td>2021-11-26</td>\n",
       "      <td>58935.45</td>\n",
       "    </tr>\n",
       "    <tr>\n",
       "      <th>1374</th>\n",
       "      <td>2021-11-29</td>\n",
       "      <td>57292.28</td>\n",
       "    </tr>\n",
       "    <tr>\n",
       "      <th>1375</th>\n",
       "      <td>2021-12-02</td>\n",
       "      <td>57229.76</td>\n",
       "    </tr>\n",
       "    <tr>\n",
       "      <th>1376</th>\n",
       "      <td>2021-12-05</td>\n",
       "      <td>49253.86</td>\n",
       "    </tr>\n",
       "    <tr>\n",
       "      <th>1377</th>\n",
       "      <td>2021-12-08</td>\n",
       "      <td>50645.41</td>\n",
       "    </tr>\n",
       "  </tbody>\n",
       "</table>\n",
       "<p>1378 rows × 2 columns</p>\n",
       "</div>"
      ],
      "text/plain": [
       "             day     price\n",
       "0     2010-08-17      0.00\n",
       "1     2010-08-20      0.07\n",
       "2     2010-08-23      0.07\n",
       "3     2010-08-26      0.07\n",
       "4     2010-08-29      0.06\n",
       "...          ...       ...\n",
       "1373  2021-11-26  58935.45\n",
       "1374  2021-11-29  57292.28\n",
       "1375  2021-12-02  57229.76\n",
       "1376  2021-12-05  49253.86\n",
       "1377  2021-12-08  50645.41\n",
       "\n",
       "[1378 rows x 2 columns]"
      ]
     },
     "execution_count": 106,
     "metadata": {},
     "output_type": "execute_result"
    }
   ],
   "source": [
    "df"
   ]
  },
  {
   "cell_type": "code",
   "execution_count": 107,
   "id": "f1fdc660",
   "metadata": {},
   "outputs": [
    {
     "data": {
      "text/html": [
       "<div>\n",
       "<style scoped>\n",
       "    .dataframe tbody tr th:only-of-type {\n",
       "        vertical-align: middle;\n",
       "    }\n",
       "\n",
       "    .dataframe tbody tr th {\n",
       "        vertical-align: top;\n",
       "    }\n",
       "\n",
       "    .dataframe thead th {\n",
       "        text-align: right;\n",
       "    }\n",
       "</style>\n",
       "<table border=\"1\" class=\"dataframe\">\n",
       "  <thead>\n",
       "    <tr style=\"text-align: right;\">\n",
       "      <th></th>\n",
       "      <th>day</th>\n",
       "      <th>price</th>\n",
       "    </tr>\n",
       "  </thead>\n",
       "  <tbody>\n",
       "    <tr>\n",
       "      <th>656</th>\n",
       "      <td>2016-01-06</td>\n",
       "      <td>432.43</td>\n",
       "    </tr>\n",
       "    <tr>\n",
       "      <th>657</th>\n",
       "      <td>2016-01-09</td>\n",
       "      <td>452.64</td>\n",
       "    </tr>\n",
       "    <tr>\n",
       "      <th>658</th>\n",
       "      <td>2016-01-12</td>\n",
       "      <td>447.98</td>\n",
       "    </tr>\n",
       "    <tr>\n",
       "      <th>659</th>\n",
       "      <td>2016-01-15</td>\n",
       "      <td>429.55</td>\n",
       "    </tr>\n",
       "    <tr>\n",
       "      <th>660</th>\n",
       "      <td>2016-01-18</td>\n",
       "      <td>380.16</td>\n",
       "    </tr>\n",
       "    <tr>\n",
       "      <th>...</th>\n",
       "      <td>...</td>\n",
       "      <td>...</td>\n",
       "    </tr>\n",
       "    <tr>\n",
       "      <th>1368</th>\n",
       "      <td>2021-11-11</td>\n",
       "      <td>64976.73</td>\n",
       "    </tr>\n",
       "    <tr>\n",
       "      <th>1369</th>\n",
       "      <td>2021-11-14</td>\n",
       "      <td>64420.94</td>\n",
       "    </tr>\n",
       "    <tr>\n",
       "      <th>1370</th>\n",
       "      <td>2021-11-17</td>\n",
       "      <td>60172.26</td>\n",
       "    </tr>\n",
       "    <tr>\n",
       "      <th>1371</th>\n",
       "      <td>2021-11-20</td>\n",
       "      <td>58133.02</td>\n",
       "    </tr>\n",
       "    <tr>\n",
       "      <th>1372</th>\n",
       "      <td>2021-11-23</td>\n",
       "      <td>56301.52</td>\n",
       "    </tr>\n",
       "  </tbody>\n",
       "</table>\n",
       "<p>717 rows × 2 columns</p>\n",
       "</div>"
      ],
      "text/plain": [
       "             day     price\n",
       "656   2016-01-06    432.43\n",
       "657   2016-01-09    452.64\n",
       "658   2016-01-12    447.98\n",
       "659   2016-01-15    429.55\n",
       "660   2016-01-18    380.16\n",
       "...          ...       ...\n",
       "1368  2021-11-11  64976.73\n",
       "1369  2021-11-14  64420.94\n",
       "1370  2021-11-17  60172.26\n",
       "1371  2021-11-20  58133.02\n",
       "1372  2021-11-23  56301.52\n",
       "\n",
       "[717 rows x 2 columns]"
      ]
     },
     "execution_count": 107,
     "metadata": {},
     "output_type": "execute_result"
    }
   ],
   "source": [
    "train_df = df.iloc[656:1373]\n",
    "train_df"
   ]
  },
  {
   "cell_type": "code",
   "execution_count": 108,
   "id": "1f63d852",
   "metadata": {},
   "outputs": [
    {
     "name": "stdout",
     "output_type": "stream",
     "text": [
      "<class 'pandas.core.frame.DataFrame'>\n",
      "RangeIndex: 717 entries, 656 to 1372\n",
      "Data columns (total 2 columns):\n",
      " #   Column  Non-Null Count  Dtype  \n",
      "---  ------  --------------  -----  \n",
      " 0   day     717 non-null    object \n",
      " 1   price   717 non-null    float64\n",
      "dtypes: float64(1), object(1)\n",
      "memory usage: 11.3+ KB\n"
     ]
    }
   ],
   "source": [
    "train_df.info()"
   ]
  },
  {
   "cell_type": "code",
   "execution_count": 109,
   "id": "62120978",
   "metadata": {},
   "outputs": [
    {
     "data": {
      "text/plain": [
       "656    2016-01-06\n",
       "657    2016-01-09\n",
       "658    2016-01-12\n",
       "659    2016-01-15\n",
       "660    2016-01-18\n",
       "          ...    \n",
       "1368   2021-11-11\n",
       "1369   2021-11-14\n",
       "1370   2021-11-17\n",
       "1371   2021-11-20\n",
       "1372   2021-11-23\n",
       "Name: day, Length: 717, dtype: datetime64[ns]"
      ]
     },
     "execution_count": 109,
     "metadata": {},
     "output_type": "execute_result"
    }
   ],
   "source": [
    "pd.to_datetime(train_df['day'])"
   ]
  },
  {
   "cell_type": "code",
   "execution_count": 110,
   "id": "74f77d2b",
   "metadata": {},
   "outputs": [
    {
     "data": {
      "text/html": [
       "<div>\n",
       "<style scoped>\n",
       "    .dataframe tbody tr th:only-of-type {\n",
       "        vertical-align: middle;\n",
       "    }\n",
       "\n",
       "    .dataframe tbody tr th {\n",
       "        vertical-align: top;\n",
       "    }\n",
       "\n",
       "    .dataframe thead th {\n",
       "        text-align: right;\n",
       "    }\n",
       "</style>\n",
       "<table border=\"1\" class=\"dataframe\">\n",
       "  <thead>\n",
       "    <tr style=\"text-align: right;\">\n",
       "      <th></th>\n",
       "      <th>price</th>\n",
       "    </tr>\n",
       "    <tr>\n",
       "      <th>day</th>\n",
       "      <th></th>\n",
       "    </tr>\n",
       "  </thead>\n",
       "  <tbody>\n",
       "    <tr>\n",
       "      <th>2016-01-06</th>\n",
       "      <td>432.43</td>\n",
       "    </tr>\n",
       "    <tr>\n",
       "      <th>2016-01-09</th>\n",
       "      <td>452.64</td>\n",
       "    </tr>\n",
       "    <tr>\n",
       "      <th>2016-01-12</th>\n",
       "      <td>447.98</td>\n",
       "    </tr>\n",
       "    <tr>\n",
       "      <th>2016-01-15</th>\n",
       "      <td>429.55</td>\n",
       "    </tr>\n",
       "    <tr>\n",
       "      <th>2016-01-18</th>\n",
       "      <td>380.16</td>\n",
       "    </tr>\n",
       "    <tr>\n",
       "      <th>...</th>\n",
       "      <td>...</td>\n",
       "    </tr>\n",
       "    <tr>\n",
       "      <th>2021-11-11</th>\n",
       "      <td>64976.73</td>\n",
       "    </tr>\n",
       "    <tr>\n",
       "      <th>2021-11-14</th>\n",
       "      <td>64420.94</td>\n",
       "    </tr>\n",
       "    <tr>\n",
       "      <th>2021-11-17</th>\n",
       "      <td>60172.26</td>\n",
       "    </tr>\n",
       "    <tr>\n",
       "      <th>2021-11-20</th>\n",
       "      <td>58133.02</td>\n",
       "    </tr>\n",
       "    <tr>\n",
       "      <th>2021-11-23</th>\n",
       "      <td>56301.52</td>\n",
       "    </tr>\n",
       "  </tbody>\n",
       "</table>\n",
       "<p>717 rows × 1 columns</p>\n",
       "</div>"
      ],
      "text/plain": [
       "               price\n",
       "day                 \n",
       "2016-01-06    432.43\n",
       "2016-01-09    452.64\n",
       "2016-01-12    447.98\n",
       "2016-01-15    429.55\n",
       "2016-01-18    380.16\n",
       "...              ...\n",
       "2021-11-11  64976.73\n",
       "2021-11-14  64420.94\n",
       "2021-11-17  60172.26\n",
       "2021-11-20  58133.02\n",
       "2021-11-23  56301.52\n",
       "\n",
       "[717 rows x 1 columns]"
      ]
     },
     "execution_count": 110,
     "metadata": {},
     "output_type": "execute_result"
    }
   ],
   "source": [
    "train_df.set_index('day', inplace=True)\n",
    "train_df"
   ]
  },
  {
   "cell_type": "code",
   "execution_count": 111,
   "id": "92f93e11",
   "metadata": {},
   "outputs": [
    {
     "data": {
      "image/png": "[encoded data removed]",
      "text/plain": [
       "<Figure size 432x288 with 1 Axes>"
      ]
     },
     "metadata": {
      "needs_background": "light"
     },
     "output_type": "display_data"
    }
   ],
   "source": [
    "train_df.plot()\n",
    "plt.show()"
   ]
  },
  {
   "cell_type": "code",
   "execution_count": 112,
   "id": "03c3862f",
   "metadata": {},
   "outputs": [],
   "source": [
    "from statsmodels.tsa.arima_model import ARIMA\n",
    "import statsmodels.api as sm"
   ]
  },
  {
   "cell_type": "code",
   "execution_count": 113,
   "id": "2bd3d3a6",
   "metadata": {},
   "outputs": [],
   "source": [
    "model = ARIMA(train_df.price.values, order = (2,1,2))\n",
    "model_fit = model.fit(trend='c', full_output=True, disp=True)"
   ]
  },
  {
   "cell_type": "code",
   "execution_count": 114,
   "id": "b3d6e487",
   "metadata": {},
   "outputs": [
    {
     "name": "stdout",
     "output_type": "stream",
     "text": [
      "                             ARIMA Model Results                              \n",
      "==============================================================================\n",
      "Dep. Variable:                    D.y   No. Observations:                  716\n",
      "Model:                 ARIMA(2, 1, 2)   Log Likelihood               -6171.421\n",
      "Method:                       css-mle   S.D. of innovations           1338.817\n",
      "Date:                Fri, 10 Dec 2021   AIC                          12354.841\n",
      "Time:                        12:37:39   BIC                          12382.283\n",
      "Sample:                             1   HQIC                         12365.438\n",
      "                                                                              \n",
      "==============================================================================\n",
      "                 coef    std err          z      P>|z|      [0.025      0.975]\n",
      "------------------------------------------------------------------------------\n",
      "const         78.0299     54.124      1.442      0.149     -28.051     184.111\n",
      "ar.L1.D.y      1.0286      0.023     45.540      0.000       0.984       1.073\n",
      "ar.L2.D.y     -0.9341      0.025    -37.796      0.000      -0.983      -0.886\n",
      "ma.L1.D.y     -0.9928      0.018    -56.679      0.000      -1.027      -0.958\n",
      "ma.L2.D.y      0.9724      0.015     66.497      0.000       0.944       1.001\n",
      "                                    Roots                                    \n",
      "=============================================================================\n",
      "                  Real          Imaginary           Modulus         Frequency\n",
      "-----------------------------------------------------------------------------\n",
      "AR.1            0.5506           -0.8760j            1.0346           -0.1607\n",
      "AR.2            0.5506           +0.8760j            1.0346            0.1607\n",
      "MA.1            0.5105           -0.8762j            1.0141           -0.1660\n",
      "MA.2            0.5105           +0.8762j            1.0141            0.1660\n",
      "-----------------------------------------------------------------------------\n"
     ]
    }
   ],
   "source": [
    "print(model_fit.summary())"
   ]
  },
  {
   "cell_type": "code",
   "execution_count": 115,
   "id": "1fb63a1a",
   "metadata": {},
   "outputs": [
    {
     "data": {
      "image/png": "[encoded data removed]",
      "text/plain": [
       "<Figure size 432x288 with 1 Axes>"
      ]
     },
     "metadata": {
      "needs_background": "light"
     },
     "output_type": "display_data"
    }
   ],
   "source": [
    "fig = model_fit.plot_predict()"
   ]
  },
  {
   "cell_type": "code",
   "execution_count": 116,
   "id": "cd9f5d0c",
   "metadata": {},
   "outputs": [
    {
     "data": {
      "text/plain": [
       "(array([55768.34814675, 56168.48969909, 57148.81145401, 57854.0785025 ,\n",
       "        57734.43728109]),\n",
       " array([1338.81693399, 1927.60628553, 2434.71374804, 2884.03760807,\n",
       "        3256.47014333]),\n",
       " array([[53144.31517424, 58392.38111926],\n",
       "        [52390.45080308, 59946.52859511],\n",
       "        [52376.86019518, 61920.76271284],\n",
       "        [52201.46866063, 63506.68834438],\n",
       "        [51351.87308344, 64117.00147874]]))"
      ]
     },
     "execution_count": 116,
     "metadata": {},
     "output_type": "execute_result"
    }
   ],
   "source": [
    "forecast_data = model_fit.forecast(steps=5)\n",
    "forecast_data"
   ]
  },
  {
   "cell_type": "code",
   "execution_count": 117,
   "id": "fec74bd4",
   "metadata": {},
   "outputs": [
    {
     "data": {
      "text/html": [
       "<div>\n",
       "<style scoped>\n",
       "    .dataframe tbody tr th:only-of-type {\n",
       "        vertical-align: middle;\n",
       "    }\n",
       "\n",
       "    .dataframe tbody tr th {\n",
       "        vertical-align: top;\n",
       "    }\n",
       "\n",
       "    .dataframe thead th {\n",
       "        text-align: right;\n",
       "    }\n",
       "</style>\n",
       "<table border=\"1\" class=\"dataframe\">\n",
       "  <thead>\n",
       "    <tr style=\"text-align: right;\">\n",
       "      <th></th>\n",
       "      <th>day</th>\n",
       "      <th>price</th>\n",
       "    </tr>\n",
       "  </thead>\n",
       "  <tbody>\n",
       "    <tr>\n",
       "      <th>1373</th>\n",
       "      <td>2021-11-26</td>\n",
       "      <td>58935.45</td>\n",
       "    </tr>\n",
       "    <tr>\n",
       "      <th>1374</th>\n",
       "      <td>2021-11-29</td>\n",
       "      <td>57292.28</td>\n",
       "    </tr>\n",
       "    <tr>\n",
       "      <th>1375</th>\n",
       "      <td>2021-12-02</td>\n",
       "      <td>57229.76</td>\n",
       "    </tr>\n",
       "    <tr>\n",
       "      <th>1376</th>\n",
       "      <td>2021-12-05</td>\n",
       "      <td>49253.86</td>\n",
       "    </tr>\n",
       "    <tr>\n",
       "      <th>1377</th>\n",
       "      <td>2021-12-08</td>\n",
       "      <td>50645.41</td>\n",
       "    </tr>\n",
       "  </tbody>\n",
       "</table>\n",
       "</div>"
      ],
      "text/plain": [
       "             day     price\n",
       "1373  2021-11-26  58935.45\n",
       "1374  2021-11-29  57292.28\n",
       "1375  2021-12-02  57229.76\n",
       "1376  2021-12-05  49253.86\n",
       "1377  2021-12-08  50645.41"
      ]
     },
     "execution_count": 117,
     "metadata": {},
     "output_type": "execute_result"
    }
   ],
   "source": [
    "test_df = df[1373:]\n",
    "test_df"
   ]
  },
  {
   "cell_type": "code",
   "execution_count": 118,
   "id": "2e668b14",
   "metadata": {},
   "outputs": [],
   "source": [
    "pred_y = forecast_data[0].tolist()   # 마지막 5일 예측데이터\n",
    "test_y = test_df.price.values   # 실제 5일 데이터\n",
    "pred_y_lower = []  # 마지막 5일의 예측 데이터 최소값\n",
    "pred_y_upper = []  # 마지막 5일의 예측 데이터 최대값"
   ]
  },
  {
   "cell_type": "code",
   "execution_count": 119,
   "id": "ef838ea5",
   "metadata": {},
   "outputs": [
    {
     "data": {
      "text/plain": [
       "array([[53144.31517424, 58392.38111926],\n",
       "       [52390.45080308, 59946.52859511],\n",
       "       [52376.86019518, 61920.76271284],\n",
       "       [52201.46866063, 63506.68834438],\n",
       "       [51351.87308344, 64117.00147874]])"
      ]
     },
     "execution_count": 119,
     "metadata": {},
     "output_type": "execute_result"
    }
   ],
   "source": [
    "forecast_data[2]"
   ]
  },
  {
   "cell_type": "code",
   "execution_count": 120,
   "id": "97bc4bd7",
   "metadata": {},
   "outputs": [],
   "source": [
    "for lower_upper in forecast_data[2]:\n",
    "    lower = lower_upper[0]\n",
    "    upper = lower_upper[1]\n",
    "    pred_y_lower.append(lower)\n",
    "    pred_y_upper.append(upper)"
   ]
  },
  {
   "cell_type": "code",
   "execution_count": 121,
   "id": "44512a3c",
   "metadata": {},
   "outputs": [
    {
     "data": {
      "text/plain": [
       "array(['2021-11-26', '2021-11-29', '2021-12-02', '2021-12-05',\n",
       "       '2021-12-08'], dtype=object)"
      ]
     },
     "execution_count": 121,
     "metadata": {},
     "output_type": "execute_result"
    }
   ],
   "source": [
    "pred_days = test_df.day.values\n",
    "pred_days"
   ]
  },
  {
   "cell_type": "code",
   "execution_count": 122,
   "id": "ecd58984",
   "metadata": {},
   "outputs": [],
   "source": [
    "plt.rcParams['font.family'] = 'Malgun Gothic'"
   ]
  },
  {
   "cell_type": "code",
   "execution_count": 126,
   "id": "5d9bd5f2",
   "metadata": {},
   "outputs": [
    {
     "data": {
      "image/png": "[encoded data removed]",
      "text/plain": [
       "<Figure size 576x432 with 1 Axes>"
      ]
     },
     "metadata": {
      "needs_background": "light"
     },
     "output_type": "display_data"
    }
   ],
   "source": [
    "plt.figure(figsize=(8,6))\n",
    "plt.xlabel('Day')\n",
    "plt.ylabel('Price')\n",
    "plt.plot(pred_days, pred_y)  # 예측가격\n",
    "plt.plot(pred_days, pred_y_lower)  # 최저가격\n",
    "plt.plot(pred_days, pred_y_upper)  # 최대가격\n",
    "plt.plot(pred_days, test_y)  # 실제가격\n",
    "plt.legend(['예측가격','최저가격','최대가격','실제가격'])\n",
    "plt.show()"
   ]
  },
  {
   "cell_type": "code",
   "execution_count": 124,
   "id": "12ccff56",
   "metadata": {},
   "outputs": [
    {
     "data": {
      "image/png": "[encoded data removed]",
      "text/plain": [
       "<Figure size 720x288 with 1 Axes>"
      ]
     },
     "metadata": {
      "needs_background": "light"
     },
     "output_type": "display_data"
    }
   ],
   "source": [
    "plt.figure(figsize=(10,4))\n",
    "plt.xlabel('Day')\n",
    "plt.ylabel('Price')\n",
    "plt.hist(pred_y, bins=5, histtype='step')  # 예측가격\n",
    "plt.hist(pred_y_lower, bins=5, histtype='step')  # 최저가격\n",
    "plt.hist(pred_y_upper, bins=5, histtype='step')  # 최대가격\n",
    "plt.hist(test_y, bins=5, histtype='step')  # 실제가격\n",
    "plt.legend(['예측가격','최저가격','최대가격','실제가격'])\n",
    "plt.show()"
   ]
  },
  {
   "cell_type": "code",
   "execution_count": 125,
   "id": "d658f993",
   "metadata": {},
   "outputs": [
    {
     "data": {
      "text/plain": [
       "[<matplotlib.lines.Line2D at 0x1ede58c53a0>]"
      ]
     },
     "execution_count": 125,
     "metadata": {},
     "output_type": "execute_result"
    },
    {
     "data": {
      "image/png": "[encoded data removed]",
      "text/plain": [
       "<Figure size 432x288 with 1 Axes>"
      ]
     },
     "metadata": {
      "needs_background": "light"
     },
     "output_type": "display_data"
    }
   ],
   "source": [
    "plt.plot(pred_y, color='gold')   # 예측가격\n",
    "plt.plot(pred_y_lower, color = 'red')  # 최저가격\n",
    "plt.plot(pred_y_upper, color = 'blue') # 최대가격\n",
    "plt.plot(test_y, color='green') # 실제가격"
   ]
  },
  {
   "cell_type": "code",
   "execution_count": null,
   "id": "5f73ffc5",
   "metadata": {},
   "outputs": [],
   "source": []
  }
 ],
 "metadata": {
  "kernelspec": {
   "display_name": "Python 3 (ipykernel)",
   "language": "python",
   "name": "python3"
  },
  "language_info": {
   "codemirror_mode": {
    "name": "ipython",
    "version": 3
   },
   "file_extension": ".py",
   "mimetype": "text/x-python",
   "name": "python",
   "nbconvert_exporter": "python",
   "pygments_lexer": "ipython3",
   "version": "3.9.7"
  },
  "toc": {
   "base_numbering": 1,
   "nav_menu": {},
   "number_sections": true,
   "sideBar": true,
   "skip_h1_title": false,
   "title_cell": "Table of Contents",
   "title_sidebar": "Contents",
   "toc_cell": false,
   "toc_position": {},
   "toc_section_display": true,
   "toc_window_display": false
  }
 },
 "nbformat": 4,
 "nbformat_minor": 5
}
