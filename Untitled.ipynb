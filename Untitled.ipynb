{
 "cells": [
  {
   "cell_type": "code",
   "execution_count": 4,
   "id": "e9767b9c",
   "metadata": {},
   "outputs": [
    {
     "name": "stdout",
     "output_type": "stream",
     "text": [
      "Collecting easyocr\n",
      "  Downloading easyocr-1.4.1-py3-none-any.whl (63.6 MB)\n",
      "Requirement already satisfied: numpy in c:\\anaconda3\\lib\\site-packages (from easyocr) (1.20.3)\n",
      "Collecting Pillow<8.3.0\n",
      "  Downloading Pillow-8.2.0-cp39-cp39-win_amd64.whl (2.2 MB)\n",
      "Collecting torchvision>=0.5\n",
      "  Downloading torchvision-0.11.2-cp39-cp39-win_amd64.whl (985 kB)\n",
      "Collecting torch\n",
      "  Downloading torch-1.10.1-cp39-cp39-win_amd64.whl (226.5 MB)\n",
      "Requirement already satisfied: scikit-image in c:\\anaconda3\\lib\\site-packages (from easyocr) (0.18.3)\n",
      "Requirement already satisfied: PyYAML in c:\\anaconda3\\lib\\site-packages (from easyocr) (6.0)\n",
      "Collecting opencv-python-headless\n",
      "  Downloading opencv_python_headless-4.5.5.62-cp36-abi3-win_amd64.whl (35.3 MB)\n",
      "Collecting python-bidi\n",
      "  Downloading python_bidi-0.4.2-py2.py3-none-any.whl (30 kB)\n",
      "Requirement already satisfied: scipy in c:\\anaconda3\\lib\\site-packages (from easyocr) (1.7.1)\n",
      "Requirement already satisfied: typing-extensions in c:\\anaconda3\\lib\\site-packages (from torch->easyocr) (3.10.0.2)\n",
      "Requirement already satisfied: six in c:\\anaconda3\\lib\\site-packages (from python-bidi->easyocr) (1.16.0)\n",
      "Requirement already satisfied: matplotlib!=3.0.0,>=2.0.0 in c:\\anaconda3\\lib\\site-packages (from scikit-image->easyocr) (3.5.0)\n",
      "Requirement already satisfied: networkx>=2.0 in c:\\anaconda3\\lib\\site-packages (from scikit-image->easyocr) (2.6.3)\n",
      "Requirement already satisfied: imageio>=2.3.0 in c:\\anaconda3\\lib\\site-packages (from scikit-image->easyocr) (2.9.0)\n",
      "Requirement already satisfied: tifffile>=2019.7.26 in c:\\anaconda3\\lib\\site-packages (from scikit-image->easyocr) (2021.7.2)\n",
      "Requirement already satisfied: PyWavelets>=1.1.1 in c:\\anaconda3\\lib\\site-packages (from scikit-image->easyocr) (1.1.1)\n",
      "Requirement already satisfied: fonttools>=4.22.0 in c:\\anaconda3\\lib\\site-packages (from matplotlib!=3.0.0,>=2.0.0->scikit-image->easyocr) (4.25.0)\n",
      "Requirement already satisfied: kiwisolver>=1.0.1 in c:\\anaconda3\\lib\\site-packages (from matplotlib!=3.0.0,>=2.0.0->scikit-image->easyocr) (1.3.1)\n",
      "Requirement already satisfied: pyparsing>=2.2.1 in c:\\anaconda3\\lib\\site-packages (from matplotlib!=3.0.0,>=2.0.0->scikit-image->easyocr) (3.0.4)\n",
      "Requirement already satisfied: cycler>=0.10 in c:\\anaconda3\\lib\\site-packages (from matplotlib!=3.0.0,>=2.0.0->scikit-image->easyocr) (0.11.0)\n",
      "Requirement already satisfied: packaging>=20.0 in c:\\anaconda3\\lib\\site-packages (from matplotlib!=3.0.0,>=2.0.0->scikit-image->easyocr) (21.3)\n",
      "Requirement already satisfied: python-dateutil>=2.7 in c:\\anaconda3\\lib\\site-packages (from matplotlib!=3.0.0,>=2.0.0->scikit-image->easyocr) (2.8.2)\n",
      "Installing collected packages: Pillow, torch, torchvision, python-bidi, opencv-python-headless, easyocr\n",
      "  Attempting uninstall: Pillow\n",
      "    Found existing installation: Pillow 8.4.0\n",
      "    Uninstalling Pillow-8.4.0:\n",
      "      Successfully uninstalled Pillow-8.4.0\n",
      "Successfully installed Pillow-8.2.0 easyocr-1.4.1 opencv-python-headless-4.5.5.62 python-bidi-0.4.2 torch-1.10.1 torchvision-0.11.2\n",
      "Note: you may need to restart the kernel to use updated packages.\n"
     ]
    }
   ],
   "source": [
    "pip install easyocr"
   ]
  },
  {
   "cell_type": "code",
   "execution_count": 5,
   "id": "e97263df",
   "metadata": {},
   "outputs": [
    {
     "name": "stdout",
     "output_type": "stream",
     "text": [
      "Collecting git+git://github.com/jaidedai/easyocr.git\n",
      "  Cloning git://github.com/jaidedai/easyocr.git to c:\\users\\ts.sbyoo\\appdata\\local\\temp\\pip-req-build-4iup7lsh\n",
      "  Resolved git://github.com/jaidedai/easyocr.git to commit ea2db54101f83bc96637382228611120654f1dbd\n",
      "Requirement already satisfied: torch in c:\\anaconda3\\lib\\site-packages (from easyocr==1.4.1) (1.10.1)\n",
      "Requirement already satisfied: torchvision>=0.5 in c:\\anaconda3\\lib\\site-packages (from easyocr==1.4.1) (0.11.2)\n",
      "Requirement already satisfied: opencv-python-headless in c:\\anaconda3\\lib\\site-packages (from easyocr==1.4.1) (4.5.5.62)\n",
      "Requirement already satisfied: scipy in c:\\anaconda3\\lib\\site-packages (from easyocr==1.4.1) (1.7.1)\n",
      "Requirement already satisfied: numpy in c:\\anaconda3\\lib\\site-packages (from easyocr==1.4.1) (1.20.3)\n",
      "Requirement already satisfied: Pillow in c:\\anaconda3\\lib\\site-packages (from easyocr==1.4.1) (8.2.0)\n",
      "Requirement already satisfied: scikit-image in c:\\anaconda3\\lib\\site-packages (from easyocr==1.4.1) (0.18.3)\n",
      "Requirement already satisfied: python-bidi in c:\\anaconda3\\lib\\site-packages (from easyocr==1.4.1) (0.4.2)\n",
      "Requirement already satisfied: PyYAML in c:\\anaconda3\\lib\\site-packages (from easyocr==1.4.1) (6.0)\n",
      "Requirement already satisfied: typing-extensions in c:\\anaconda3\\lib\\site-packages (from torch->easyocr==1.4.1) (3.10.0.2)\n",
      "Requirement already satisfied: six in c:\\anaconda3\\lib\\site-packages (from python-bidi->easyocr==1.4.1) (1.16.0)\n",
      "Requirement already satisfied: matplotlib!=3.0.0,>=2.0.0 in c:\\anaconda3\\lib\\site-packages (from scikit-image->easyocr==1.4.1) (3.5.0)\n",
      "Requirement already satisfied: networkx>=2.0 in c:\\anaconda3\\lib\\site-packages (from scikit-image->easyocr==1.4.1) (2.6.3)\n",
      "Requirement already satisfied: imageio>=2.3.0 in c:\\anaconda3\\lib\\site-packages (from scikit-image->easyocr==1.4.1) (2.9.0)\n",
      "Requirement already satisfied: tifffile>=2019.7.26 in c:\\anaconda3\\lib\\site-packages (from scikit-image->easyocr==1.4.1) (2021.7.2)\n",
      "Requirement already satisfied: PyWavelets>=1.1.1 in c:\\anaconda3\\lib\\site-packages (from scikit-image->easyocr==1.4.1) (1.1.1)\n",
      "Requirement already satisfied: packaging>=20.0 in c:\\anaconda3\\lib\\site-packages (from matplotlib!=3.0.0,>=2.0.0->scikit-image->easyocr==1.4.1) (21.3)\n",
      "Requirement already satisfied: kiwisolver>=1.0.1 in c:\\anaconda3\\lib\\site-packages (from matplotlib!=3.0.0,>=2.0.0->scikit-image->easyocr==1.4.1) (1.3.1)\n",
      "Requirement already satisfied: pyparsing>=2.2.1 in c:\\anaconda3\\lib\\site-packages (from matplotlib!=3.0.0,>=2.0.0->scikit-image->easyocr==1.4.1) (3.0.4)\n",
      "Requirement already satisfied: fonttools>=4.22.0 in c:\\anaconda3\\lib\\site-packages (from matplotlib!=3.0.0,>=2.0.0->scikit-image->easyocr==1.4.1) (4.25.0)\n",
      "Requirement already satisfied: cycler>=0.10 in c:\\anaconda3\\lib\\site-packages (from matplotlib!=3.0.0,>=2.0.0->scikit-image->easyocr==1.4.1) (0.11.0)\n",
      "Requirement already satisfied: python-dateutil>=2.7 in c:\\anaconda3\\lib\\site-packages (from matplotlib!=3.0.0,>=2.0.0->scikit-image->easyocr==1.4.1) (2.8.2)\n",
      "Note: you may need to restart the kernel to use updated packages.\n"
     ]
    },
    {
     "name": "stderr",
     "output_type": "stream",
     "text": [
      "  Running command git clone -q git://github.com/jaidedai/easyocr.git 'C:\\Users\\ts.sbyoo\\AppData\\Local\\Temp\\pip-req-build-4iup7lsh'\n"
     ]
    }
   ],
   "source": [
    "pip install git+git://github.com/jaidedai/easyocr.git"
   ]
  },
  {
   "cell_type": "code",
   "execution_count": 1,
   "id": "8f6f348a",
   "metadata": {},
   "outputs": [
    {
     "name": "stdout",
     "output_type": "stream",
     "text": [
      "Collecting package metadata (current_repodata.json): ...working... done\n",
      "Solving environment: ...working... failed with initial frozen solve. Retrying with flexible solve.\n",
      "Collecting package metadata (repodata.json): ...working... done\n",
      "Solving environment: ...working... failed with initial frozen solve. Retrying with flexible solve.\n",
      "Solving environment: ...working... \n",
      "Found conflicts! Looking for incompatible packages.\n",
      "This can take several minutes.  Press CTRL-C to abort.\n",
      "failed\n",
      "\n",
      "Note: you may need to restart the kernel to use updated packages.\n"
     ]
    },
    {
     "name": "stderr",
     "output_type": "stream",
     "text": [
      "\n",
      "Building graph of deps:   0%|          | 0/5 [00:00<?, ?it/s]\n",
      "Examining @/win-64::__cuda==8.0=0:   0%|          | 0/5 [00:00<?, ?it/s]\n",
      "Examining pytorch==1.4.0:  20%|##        | 1/5 [00:00<00:00, 999.12it/s]\n",
      "Examining @/win-64::__archspec==1=x86_64:  40%|####      | 2/5 [00:00<00:00, 22.21it/s]\n",
      "Examining python=3.9:  60%|######    | 3/5 [00:00<00:00, 33.32it/s]                    \n",
      "Examining @/win-64::__win==0=0:  80%|########  | 4/5 [00:00<00:00, 23.12it/s]\n",
      "Examining @/win-64::__win==0=0: 100%|##########| 5/5 [00:00<00:00, 28.73it/s]\n",
      "                                                                             \n",
      "\n",
      "Determining conflicts:   0%|          | 0/5 [00:00<?, ?it/s]\n",
      "Examining conflict for pytorch python:   0%|          | 0/5 [00:00<?, ?it/s]\n",
      "                                                                            \n",
      "\n",
      "UnsatisfiableError: The following specifications were found\n",
      "to be incompatible with the existing python installation in your environment:\n",
      "\n",
      "Specifications:\n",
      "\n",
      "  - pytorch==1.4.0 -> python[version='>=3.6,<3.7.0a0|>=3.7,<3.8.0a0|>=3.8,<3.9.0a0']\n",
      "\n",
      "Your python: python=3.9\n",
      "\n",
      "If python is on the left-most side of the chain, that's the version you've asked for.\n",
      "When python appears to the right, that indicates that the thing on the left is somehow\n",
      "not available for the python version you are constrained to. Note that conda will not\n",
      "change your python version to a different minor version unless you explicitly specify\n",
      "that.\n",
      "\n",
      "\n",
      "\n"
     ]
    }
   ],
   "source": [
    "conda install pytorch==1.4.0"
   ]
  },
  {
   "cell_type": "code",
   "execution_count": null,
   "id": "026975f5",
   "metadata": {},
   "outputs": [],
   "source": [
    "c.Notebook.App.max_buffer_size =10000000"
   ]
  },
  {
   "cell_type": "code",
   "execution_count": null,
   "id": "2ecac372",
   "metadata": {},
   "outputs": [],
   "source": []
  },
  {
   "cell_type": "code",
   "execution_count": null,
   "id": "c5f0451c",
   "metadata": {},
   "outputs": [],
   "source": []
  },
  {
   "cell_type": "code",
   "execution_count": null,
   "id": "6e0ab344",
   "metadata": {},
   "outputs": [],
   "source": [
    "import easyocr"
   ]
  },
  {
   "cell_type": "code",
   "execution_count": null,
   "id": "b0ae1825",
   "metadata": {},
   "outputs": [],
   "source": [
    "reader = easyocr.Reader(['ch_sim','en']) # need to run only once to load model into memory\n",
    "result = reader.readtext('img001.jpg')"
   ]
  }
 ],
 "metadata": {
  "kernelspec": {
   "display_name": "Python 3 (ipykernel)",
   "language": "python",
   "name": "python3"
  },
  "language_info": {
   "codemirror_mode": {
    "name": "ipython",
    "version": 3
   },
   "file_extension": ".py",
   "mimetype": "text/x-python",
   "name": "python",
   "nbconvert_exporter": "python",
   "pygments_lexer": "ipython3",
   "version": "3.9.7"
  },
  "toc": {
   "base_numbering": 1,
   "nav_menu": {},
   "number_sections": true,
   "sideBar": true,
   "skip_h1_title": false,
   "title_cell": "Table of Contents",
   "title_sidebar": "Contents",
   "toc_cell": false,
   "toc_position": {},
   "toc_section_display": true,
   "toc_window_display": false
  }
 },
 "nbformat": 4,
 "nbformat_minor": 5
}
