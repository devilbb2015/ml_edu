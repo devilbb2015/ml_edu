{
 "cells": [
  {
   "cell_type": "code",
   "execution_count": 1,
   "metadata": {
    "executionInfo": {
     "elapsed": 27,
     "status": "ok",
     "timestamp": 1639552712127,
     "user": {
      "displayName": "HO CHAN KI",
      "photoUrl": "https://lh3.googleusercontent.com/a/default-user=s64",
      "userId": "15221316930316916898"
     },
     "user_tz": -540
    },
    "id": "Hdotoyq_mj_f"
   },
   "outputs": [],
   "source": [
    "from konlpy.tag import Okt"
   ]
  },
  {
   "cell_type": "code",
   "execution_count": 2,
   "metadata": {
    "colab": {
     "base_uri": "https://localhost:8080/"
    },
    "executionInfo": {
     "elapsed": 28,
     "status": "ok",
     "timestamp": 1639552712128,
     "user": {
      "displayName": "HO CHAN KI",
      "photoUrl": "https://lh3.googleusercontent.com/a/default-user=s64",
      "userId": "15221316930316916898"
     },
     "user_tz": -540
    },
    "id": "8_hj9Kp9mt7l",
    "outputId": "1e09dbd4-93da-42d0-d690-ecb83b9be66d"
   },
   "outputs": [
    {
     "data": {
      "text/plain": [
       "<konlpy.tag._okt.Okt at 0x22d36037cd0>"
      ]
     },
     "execution_count": 2,
     "metadata": {},
     "output_type": "execute_result"
    }
   ],
   "source": [
    "okt=Okt()\n",
    "okt"
   ]
  },
  {
   "cell_type": "code",
   "execution_count": 3,
   "metadata": {
    "executionInfo": {
     "elapsed": 25,
     "status": "ok",
     "timestamp": 1639552712129,
     "user": {
      "displayName": "HO CHAN KI",
      "photoUrl": "https://lh3.googleusercontent.com/a/default-user=s64",
      "userId": "15221316930316916898"
     },
     "user_tz": -540
    },
    "id": "NHztDxa4mz7x"
   },
   "outputs": [],
   "source": [
    "words='나는 한글이다.1!!!!'"
   ]
  },
  {
   "cell_type": "code",
   "execution_count": 4,
   "metadata": {
    "colab": {
     "base_uri": "https://localhost:8080/"
    },
    "executionInfo": {
     "elapsed": 24,
     "status": "ok",
     "timestamp": 1639552712129,
     "user": {
      "displayName": "HO CHAN KI",
      "photoUrl": "https://lh3.googleusercontent.com/a/default-user=s64",
      "userId": "15221316930316916898"
     },
     "user_tz": -540
    },
    "id": "q4342lxMnCwc",
    "outputId": "cd86d828-3765-4709-aade-12d2f397a39c"
   },
   "outputs": [
    {
     "data": {
      "text/plain": [
       "['나', '한글']"
      ]
     },
     "execution_count": 4,
     "metadata": {},
     "output_type": "execute_result"
    }
   ],
   "source": [
    "noun_list =okt.nouns(words)\n",
    "noun_list"
   ]
  },
  {
   "cell_type": "code",
   "execution_count": 5,
   "metadata": {
    "executionInfo": {
     "elapsed": 23,
     "status": "ok",
     "timestamp": 1639552712130,
     "user": {
      "displayName": "HO CHAN KI",
      "photoUrl": "https://lh3.googleusercontent.com/a/default-user=s64",
      "userId": "15221316930316916898"
     },
     "user_tz": -540
    },
    "id": "a9oaKurKnklY"
   },
   "outputs": [],
   "source": [
    "from collections import Counter"
   ]
  },
  {
   "cell_type": "code",
   "execution_count": 6,
   "metadata": {
    "colab": {
     "base_uri": "https://localhost:8080/"
    },
    "executionInfo": {
     "elapsed": 23,
     "status": "ok",
     "timestamp": 1639552712130,
     "user": {
      "displayName": "HO CHAN KI",
      "photoUrl": "https://lh3.googleusercontent.com/a/default-user=s64",
      "userId": "15221316930316916898"
     },
     "user_tz": -540
    },
    "id": "1jXVNGtxnpXI",
    "outputId": "b14b35a4-7620-47dc-8363-3a7f07b70ed0"
   },
   "outputs": [
    {
     "data": {
      "text/plain": [
       "Counter({'나': 1, '한글': 1})"
      ]
     },
     "execution_count": 6,
     "metadata": {},
     "output_type": "execute_result"
    }
   ],
   "source": [
    "count = Counter(noun_list)\n",
    "count"
   ]
  },
  {
   "cell_type": "code",
   "execution_count": 7,
   "metadata": {
    "colab": {
     "base_uri": "https://localhost:8080/"
    },
    "executionInfo": {
     "elapsed": 21,
     "status": "ok",
     "timestamp": 1639552712131,
     "user": {
      "displayName": "HO CHAN KI",
      "photoUrl": "https://lh3.googleusercontent.com/a/default-user=s64",
      "userId": "15221316930316916898"
     },
     "user_tz": -540
    },
    "id": "rTNXBhnMnw1e",
    "outputId": "b8c007d4-d96d-4fe4-de2c-32defbb626ef"
   },
   "outputs": [
    {
     "data": {
      "text/plain": [
       "[('나', 1), ('한글', 1)]"
      ]
     },
     "execution_count": 7,
     "metadata": {},
     "output_type": "execute_result"
    }
   ],
   "source": [
    "count.most_common(2)"
   ]
  },
  {
   "cell_type": "code",
   "execution_count": 8,
   "metadata": {
    "executionInfo": {
     "elapsed": 19,
     "status": "ok",
     "timestamp": 1639552712132,
     "user": {
      "displayName": "HO CHAN KI",
      "photoUrl": "https://lh3.googleusercontent.com/a/default-user=s64",
      "userId": "15221316930316916898"
     },
     "user_tz": -540
    },
    "id": "M35A3t-hn0Y3"
   },
   "outputs": [],
   "source": [
    "news=\"서울시는 이미 준공돼 사업정산을 완료한 28개 단지(5개 지구-마곡지구, 내곡지구, 세곡2지구, 오금지구, 항동지구)에 대해서는 내년 상반기 중에, 준공과 정산을 앞두고 있는 5개 단지(마곡지구 9단지, 고덕강일지구 8단지·14단지, 위례신도시A1-5BL·A1-12BL)는 각 단지별로 검증절차를 거쳐 하반기 중에 분양원가 공개를 각각 마친다는 계획이다. 설계내역서와 도급내역서의 경우 작년에 공개한 항동 공공주택지구 4단지를 포함해 총 35개 단지에 대한 정보를 이미 SH공사 홈페이지를 통해 공개 완료했다. 이후에도 SH공사가 조성하는 아파트는 원칙적으로 분양원가와 분양수익 사용계획을 투명하게 공개한다.김헌동 SH공사 사장은 “세금으로 운영되는 건설공기업으로서 열린경영‧투명경영을 실현해 가겠다”면서 “작년에 공개한 분양원가 61개 항목에 더해 택지조성원가와 설계·도급·하도급 내역서까지 대폭 공개범위를 확대하는 것이다. 풍선처럼 부풀려진 주택분양가의 거품 제거에 기여할 수 있길 바란다. 앞으로도 주택가격 안정화를 위해 모든 노력을 다하겠다”고 말했다.김성보 서울시 주택정책실장은 “택지조성원가와 건설원가, 하도급·설계내역서까지 낱낱이 공개하는 것은 지자체 최초”라며 “공공주택은 시민의 세금으로 짓고 관리되는 ‘시민의 집’으로, 이번 분양원가 확대 공개는 주인인 시민에게 정확한 정보를 투명하게 공개한다는 점에서 의미가 크다”고 했다.\""
   ]
  },
  {
   "cell_type": "code",
   "execution_count": 9,
   "metadata": {
    "colab": {
     "base_uri": "https://localhost:8080/"
    },
    "executionInfo": {
     "elapsed": 19,
     "status": "ok",
     "timestamp": 1639552712132,
     "user": {
      "displayName": "HO CHAN KI",
      "photoUrl": "https://lh3.googleusercontent.com/a/default-user=s64",
      "userId": "15221316930316916898"
     },
     "user_tz": -540
    },
    "id": "7UVlukDzonP_",
    "outputId": "02f01a6e-a2ce-4f13-eda7-d9704f0e1fd1"
   },
   "outputs": [
    {
     "data": {
      "text/plain": [
       "['서울시',\n",
       " '준공',\n",
       " '사업',\n",
       " '정산',\n",
       " '완료',\n",
       " '개',\n",
       " '단지',\n",
       " '개',\n",
       " '지구',\n",
       " '마곡지구',\n",
       " '내곡',\n",
       " '지구',\n",
       " '세곡',\n",
       " '지구',\n",
       " '오금',\n",
       " '지구',\n",
       " '항동',\n",
       " '지구',\n",
       " '대해',\n",
       " '내년',\n",
       " '상반기',\n",
       " '중',\n",
       " '준공',\n",
       " '정산',\n",
       " '개',\n",
       " '단지',\n",
       " '마곡지구',\n",
       " '단지',\n",
       " '고덕',\n",
       " '강일',\n",
       " '지구',\n",
       " '단지',\n",
       " '단지',\n",
       " '위례신도시',\n",
       " '각',\n",
       " '단지',\n",
       " '별로',\n",
       " '검증',\n",
       " '절차',\n",
       " '하반기',\n",
       " '중',\n",
       " '분양',\n",
       " '원가',\n",
       " '공개',\n",
       " '각각',\n",
       " '계획',\n",
       " '설계',\n",
       " '역서',\n",
       " '도급',\n",
       " '역서',\n",
       " '경우',\n",
       " '작년',\n",
       " '공개',\n",
       " '항동',\n",
       " '주택',\n",
       " '지구',\n",
       " '단지',\n",
       " '포함',\n",
       " '총',\n",
       " '개',\n",
       " '단지',\n",
       " '대한',\n",
       " '정보',\n",
       " '공사',\n",
       " '홈페이지',\n",
       " '통해',\n",
       " '공개',\n",
       " '완료',\n",
       " '이후',\n",
       " '공사',\n",
       " '조성하',\n",
       " '아파트',\n",
       " '원칙',\n",
       " '분양',\n",
       " '원가',\n",
       " '분양',\n",
       " '수익',\n",
       " '사용',\n",
       " '계획',\n",
       " '공개',\n",
       " '김헌',\n",
       " '공사',\n",
       " '사장',\n",
       " '세금',\n",
       " '운영',\n",
       " '건설',\n",
       " '공기업',\n",
       " '경영',\n",
       " '투명',\n",
       " '경영',\n",
       " '실현',\n",
       " '면서',\n",
       " '작년',\n",
       " '공개',\n",
       " '분양',\n",
       " '원가',\n",
       " '개',\n",
       " '항목',\n",
       " '택지',\n",
       " '원가',\n",
       " '설계',\n",
       " '도급',\n",
       " '하도급',\n",
       " '역서',\n",
       " '대폭',\n",
       " '공개',\n",
       " '범위',\n",
       " '확대',\n",
       " '것',\n",
       " '풍선',\n",
       " '주택',\n",
       " '양가',\n",
       " '거품',\n",
       " '제거',\n",
       " '기여',\n",
       " '수',\n",
       " '앞',\n",
       " '주택',\n",
       " '가격',\n",
       " '안정화',\n",
       " '위해',\n",
       " '모든',\n",
       " '노력',\n",
       " '고',\n",
       " '말',\n",
       " '김성',\n",
       " '보',\n",
       " '서울시',\n",
       " '주택',\n",
       " '정책',\n",
       " '실장',\n",
       " '택지',\n",
       " '원가',\n",
       " '건설',\n",
       " '원가',\n",
       " '하도급',\n",
       " '설계',\n",
       " '역서',\n",
       " '낱낱이',\n",
       " '공개',\n",
       " '것',\n",
       " '지자체',\n",
       " '최초',\n",
       " '라며',\n",
       " '주택',\n",
       " '시민',\n",
       " '세금',\n",
       " '관리',\n",
       " '시민',\n",
       " '집',\n",
       " '이번',\n",
       " '분양',\n",
       " '원가',\n",
       " '확대',\n",
       " '공개',\n",
       " '주인',\n",
       " '시민',\n",
       " '정보',\n",
       " '공개',\n",
       " '점',\n",
       " '의미',\n",
       " '고']"
      ]
     },
     "execution_count": 9,
     "metadata": {},
     "output_type": "execute_result"
    }
   ],
   "source": [
    "noun_list =okt.nouns(news)\n",
    "noun_list"
   ]
  },
  {
   "cell_type": "code",
   "execution_count": 10,
   "metadata": {
    "colab": {
     "base_uri": "https://localhost:8080/"
    },
    "executionInfo": {
     "elapsed": 568,
     "status": "ok",
     "timestamp": 1639552712684,
     "user": {
      "displayName": "HO CHAN KI",
      "photoUrl": "https://lh3.googleusercontent.com/a/default-user=s64",
      "userId": "15221316930316916898"
     },
     "user_tz": -540
    },
    "id": "_ntHMVk3otP5",
    "outputId": "6f60b98d-4323-4b7a-c4ae-b9e8f5f73e6e"
   },
   "outputs": [
    {
     "data": {
      "text/plain": [
       "Counter({'서울시': 2,\n",
       "         '준공': 2,\n",
       "         '사업': 1,\n",
       "         '정산': 2,\n",
       "         '완료': 2,\n",
       "         '개': 5,\n",
       "         '단지': 8,\n",
       "         '지구': 7,\n",
       "         '마곡지구': 2,\n",
       "         '내곡': 1,\n",
       "         '세곡': 1,\n",
       "         '오금': 1,\n",
       "         '항동': 2,\n",
       "         '대해': 1,\n",
       "         '내년': 1,\n",
       "         '상반기': 1,\n",
       "         '중': 2,\n",
       "         '고덕': 1,\n",
       "         '강일': 1,\n",
       "         '위례신도시': 1,\n",
       "         '각': 1,\n",
       "         '별로': 1,\n",
       "         '검증': 1,\n",
       "         '절차': 1,\n",
       "         '하반기': 1,\n",
       "         '분양': 5,\n",
       "         '원가': 7,\n",
       "         '공개': 9,\n",
       "         '각각': 1,\n",
       "         '계획': 2,\n",
       "         '설계': 3,\n",
       "         '역서': 4,\n",
       "         '도급': 2,\n",
       "         '경우': 1,\n",
       "         '작년': 2,\n",
       "         '주택': 5,\n",
       "         '포함': 1,\n",
       "         '총': 1,\n",
       "         '대한': 1,\n",
       "         '정보': 2,\n",
       "         '공사': 3,\n",
       "         '홈페이지': 1,\n",
       "         '통해': 1,\n",
       "         '이후': 1,\n",
       "         '조성하': 1,\n",
       "         '아파트': 1,\n",
       "         '원칙': 1,\n",
       "         '수익': 1,\n",
       "         '사용': 1,\n",
       "         '김헌': 1,\n",
       "         '사장': 1,\n",
       "         '세금': 2,\n",
       "         '운영': 1,\n",
       "         '건설': 2,\n",
       "         '공기업': 1,\n",
       "         '경영': 2,\n",
       "         '투명': 1,\n",
       "         '실현': 1,\n",
       "         '면서': 1,\n",
       "         '항목': 1,\n",
       "         '택지': 2,\n",
       "         '하도급': 2,\n",
       "         '대폭': 1,\n",
       "         '범위': 1,\n",
       "         '확대': 2,\n",
       "         '것': 2,\n",
       "         '풍선': 1,\n",
       "         '양가': 1,\n",
       "         '거품': 1,\n",
       "         '제거': 1,\n",
       "         '기여': 1,\n",
       "         '수': 1,\n",
       "         '앞': 1,\n",
       "         '가격': 1,\n",
       "         '안정화': 1,\n",
       "         '위해': 1,\n",
       "         '모든': 1,\n",
       "         '노력': 1,\n",
       "         '고': 2,\n",
       "         '말': 1,\n",
       "         '김성': 1,\n",
       "         '보': 1,\n",
       "         '정책': 1,\n",
       "         '실장': 1,\n",
       "         '낱낱이': 1,\n",
       "         '지자체': 1,\n",
       "         '최초': 1,\n",
       "         '라며': 1,\n",
       "         '시민': 3,\n",
       "         '관리': 1,\n",
       "         '집': 1,\n",
       "         '이번': 1,\n",
       "         '주인': 1,\n",
       "         '점': 1,\n",
       "         '의미': 1})"
      ]
     },
     "execution_count": 10,
     "metadata": {},
     "output_type": "execute_result"
    }
   ],
   "source": [
    "count = Counter(noun_list)\n",
    "count"
   ]
  },
  {
   "cell_type": "code",
   "execution_count": 11,
   "metadata": {
    "colab": {
     "base_uri": "https://localhost:8080/"
    },
    "executionInfo": {
     "elapsed": 27,
     "status": "ok",
     "timestamp": 1639552712685,
     "user": {
      "displayName": "HO CHAN KI",
      "photoUrl": "https://lh3.googleusercontent.com/a/default-user=s64",
      "userId": "15221316930316916898"
     },
     "user_tz": -540
    },
    "id": "Va6v4YoRoxoS",
    "outputId": "bd28dd48-6e82-4d87-a653-120c98922cb7"
   },
   "outputs": [
    {
     "data": {
      "text/plain": [
       "[('공개', 9), ('단지', 8), ('지구', 7), ('원가', 7), ('개', 5)]"
      ]
     },
     "execution_count": 11,
     "metadata": {},
     "output_type": "execute_result"
    }
   ],
   "source": [
    "count.most_common(5)"
   ]
  },
  {
   "cell_type": "code",
   "execution_count": 12,
   "metadata": {
    "colab": {
     "base_uri": "https://localhost:8080/"
    },
    "executionInfo": {
     "elapsed": 26,
     "status": "ok",
     "timestamp": 1639552712686,
     "user": {
      "displayName": "HO CHAN KI",
      "photoUrl": "https://lh3.googleusercontent.com/a/default-user=s64",
      "userId": "15221316930316916898"
     },
     "user_tz": -540
    },
    "id": "_cWXqNpypMVq",
    "outputId": "b993f5fd-d0a3-42c9-9f24-06c39347bc45"
   },
   "outputs": [
    {
     "name": "stdout",
     "output_type": "stream",
     "text": [
      "{'공개': 9, '단지': 8, '지구': 7, '원가': 7, '분양': 5, '주택': 5, '역서': 4, '설계': 3, '공사': 3, '시민': 3, '서울시': 2, '준공': 2, '정산': 2, '완료': 2}\n"
     ]
    }
   ],
   "source": [
    "word_count =dict()\n",
    "for tag, counts in count.most_common(15): \n",
    "    if(len(str(tag))>1):\n",
    "        word_count[tag] = counts\n",
    "print(word_count)"
   ]
  },
  {
   "cell_type": "code",
   "execution_count": 13,
   "metadata": {
    "executionInfo": {
     "elapsed": 23,
     "status": "ok",
     "timestamp": 1639552712686,
     "user": {
      "displayName": "HO CHAN KI",
      "photoUrl": "https://lh3.googleusercontent.com/a/default-user=s64",
      "userId": "15221316930316916898"
     },
     "user_tz": -540
    },
    "id": "Td0ul8I6vHok"
   },
   "outputs": [],
   "source": [
    "import json"
   ]
  },
  {
   "cell_type": "markdown",
   "metadata": {
    "id": "BqAZDurWwE4w"
   },
   "source": [
    "-  xml > <money>1000</money>\n",
    "-- eXtensible Markup Languages(확장가능한 ML)\n",
    "- json > {'money':1000}\n",
    "-- JavasSript object Notation(Json)"
   ]
  },
  {
   "cell_type": "code",
   "execution_count": 14,
   "metadata": {
    "colab": {
     "base_uri": "https://localhost:8080/"
    },
    "executionInfo": {
     "elapsed": 23,
     "status": "ok",
     "timestamp": 1639552712687,
     "user": {
      "displayName": "HO CHAN KI",
      "photoUrl": "https://lh3.googleusercontent.com/a/default-user=s64",
      "userId": "15221316930316916898"
     },
     "user_tz": -540
    },
    "id": "0ad1jeTCscl1",
    "outputId": "c64eb038-64f3-44a1-8f9a-64dad2258e34"
   },
   "outputs": [
    {
     "ename": "FileNotFoundError",
     "evalue": "[Errno 2] No such file or directory: '/content/etnews.kr_facebook_2016-01-01_2018-08-01_4차 산업혁명.json'",
     "output_type": "error",
     "traceback": [
      "\u001b[1;31m---------------------------------------------------------------------------\u001b[0m",
      "\u001b[1;31mFileNotFoundError\u001b[0m                         Traceback (most recent call last)",
      "\u001b[1;32mC:\\Users\\TS17EF~1.SBY\\AppData\\Local\\Temp/ipykernel_9520/2201960849.py\u001b[0m in \u001b[0;36m<module>\u001b[1;34m\u001b[0m\n\u001b[0;32m      1\u001b[0m \u001b[0mfile_name\u001b[0m\u001b[1;33m=\u001b[0m\u001b[1;34m'/content/etnews.kr_facebook_2016-01-01_2018-08-01_4차 산업혁명.json'\u001b[0m\u001b[1;33m\u001b[0m\u001b[1;33m\u001b[0m\u001b[0m\n\u001b[1;32m----> 2\u001b[1;33m \u001b[0mjson_data\u001b[0m\u001b[1;33m=\u001b[0m\u001b[0mjson\u001b[0m\u001b[1;33m.\u001b[0m\u001b[0mloads\u001b[0m\u001b[1;33m(\u001b[0m\u001b[0mopen\u001b[0m\u001b[1;33m(\u001b[0m\u001b[0mfile_name\u001b[0m\u001b[1;33m,\u001b[0m\u001b[1;34m'r'\u001b[0m\u001b[1;33m,\u001b[0m\u001b[0mencoding\u001b[0m\u001b[1;33m=\u001b[0m\u001b[1;34m'utf-8'\u001b[0m\u001b[1;33m)\u001b[0m\u001b[1;33m.\u001b[0m\u001b[0mread\u001b[0m\u001b[1;33m(\u001b[0m\u001b[1;33m)\u001b[0m\u001b[1;33m)\u001b[0m\u001b[1;33m\u001b[0m\u001b[1;33m\u001b[0m\u001b[0m\n\u001b[0m\u001b[0;32m      3\u001b[0m \u001b[0mjson_data\u001b[0m\u001b[1;33m\u001b[0m\u001b[1;33m\u001b[0m\u001b[0m\n",
      "\u001b[1;31mFileNotFoundError\u001b[0m: [Errno 2] No such file or directory: '/content/etnews.kr_facebook_2016-01-01_2018-08-01_4차 산업혁명.json'"
     ]
    }
   ],
   "source": [
    "file_name='/content/etnews.kr_facebook_2016-01-01_2018-08-01_4차 산업혁명.json'\n",
    "json_data=json.loads(open(file_name,'r',encoding='utf-8').read())\n",
    "json_data"
   ]
  },
  {
   "cell_type": "code",
   "execution_count": null,
   "metadata": {
    "executionInfo": {
     "elapsed": 20,
     "status": "ok",
     "timestamp": 1639552712688,
     "user": {
      "displayName": "HO CHAN KI",
      "photoUrl": "https://lh3.googleusercontent.com/a/default-user=s64",
      "userId": "15221316930316916898"
     },
     "user_tz": -540
    },
    "id": "YhIEAgqdwsZJ"
   },
   "outputs": [],
   "source": [
    "all_data ='' # 모든데이터를위한 스트링만들기"
   ]
  },
  {
   "cell_type": "code",
   "execution_count": null,
   "metadata": {
    "executionInfo": {
     "elapsed": 20,
     "status": "ok",
     "timestamp": 1639552712689,
     "user": {
      "displayName": "HO CHAN KI",
      "photoUrl": "https://lh3.googleusercontent.com/a/default-user=s64",
      "userId": "15221316930316916898"
     },
     "user_tz": -540
    },
    "id": "vubLOxhmw1ji"
   },
   "outputs": [],
   "source": [
    "import re"
   ]
  },
  {
   "cell_type": "code",
   "execution_count": null,
   "metadata": {
    "colab": {
     "base_uri": "https://localhost:8080/"
    },
    "executionInfo": {
     "elapsed": 20,
     "status": "ok",
     "timestamp": 1639552712689,
     "user": {
      "displayName": "HO CHAN KI",
      "photoUrl": "https://lh3.googleusercontent.com/a/default-user=s64",
      "userId": "15221316930316916898"
     },
     "user_tz": -540
    },
    "id": "QqBYgyZ8w1ge",
    "outputId": "fc25316d-f2dc-4702-c447-0b61287eae83"
   },
   "outputs": [],
   "source": [
    "for item in json_data : # dic의 리스트\n",
    "  if 'message' in item.keys():\n",
    "    all_data = all_data + re.sub(r'[^\\w]',' ',item['message']) + ' '\n",
    "print(all_data)"
   ]
  },
  {
   "cell_type": "code",
   "execution_count": null,
   "metadata": {
    "executionInfo": {
     "elapsed": 11,
     "status": "ok",
     "timestamp": 1639552712689,
     "user": {
      "displayName": "HO CHAN KI",
      "photoUrl": "https://lh3.googleusercontent.com/a/default-user=s64",
      "userId": "15221316930316916898"
     },
     "user_tz": -540
    },
    "id": "hxJRLMWsw1mX"
   },
   "outputs": [],
   "source": [
    "# 명사 단어 추출\n",
    "# 카운트 딕셔너리 확인\n",
    "# 5~10위 프린트\n"
   ]
  },
  {
   "cell_type": "code",
   "execution_count": null,
   "metadata": {
    "colab": {
     "base_uri": "https://localhost:8080/"
    },
    "executionInfo": {
     "elapsed": 470,
     "status": "ok",
     "timestamp": 1639552713148,
     "user": {
      "displayName": "HO CHAN KI",
      "photoUrl": "https://lh3.googleusercontent.com/a/default-user=s64",
      "userId": "15221316930316916898"
     },
     "user_tz": -540
    },
    "id": "r0-kwVK-yJIH",
    "outputId": "f319b458-eb41-4ea3-c9db-1d0a906acff3"
   },
   "outputs": [],
   "source": [
    "noun_list2 =okt.nouns(all_data)\n",
    "noun_list2"
   ]
  },
  {
   "cell_type": "code",
   "execution_count": null,
   "metadata": {
    "colab": {
     "base_uri": "https://localhost:8080/"
    },
    "executionInfo": {
     "elapsed": 15,
     "status": "ok",
     "timestamp": 1639552713150,
     "user": {
      "displayName": "HO CHAN KI",
      "photoUrl": "https://lh3.googleusercontent.com/a/default-user=s64",
      "userId": "15221316930316916898"
     },
     "user_tz": -540
    },
    "id": "xmQwFvE7yXW1",
    "outputId": "c1a9f529-a33d-4280-dd1e-f6a23b50d7df"
   },
   "outputs": [],
   "source": [
    "count2 = Counter(noun_list2)\n",
    "count2"
   ]
  },
  {
   "cell_type": "code",
   "execution_count": null,
   "metadata": {
    "colab": {
     "base_uri": "https://localhost:8080/"
    },
    "executionInfo": {
     "elapsed": 912,
     "status": "ok",
     "timestamp": 1639552714054,
     "user": {
      "displayName": "HO CHAN KI",
      "photoUrl": "https://lh3.googleusercontent.com/a/default-user=s64",
      "userId": "15221316930316916898"
     },
     "user_tz": -540
    },
    "id": "x0_ICg4mzkL3",
    "outputId": "c5599251-a7af-47a7-f78d-ebba47c7b791"
   },
   "outputs": [],
   "source": [
    "word_count2 =dict()\n",
    "for tag, counts2 in count2.most_common(15): \n",
    "    if(len(str(tag))>1):\n",
    "        word_count2[tag] = counts2\n",
    "print(word_count2)"
   ]
  },
  {
   "cell_type": "code",
   "execution_count": null,
   "metadata": {
    "colab": {
     "base_uri": "https://localhost:8080/"
    },
    "executionInfo": {
     "elapsed": 14,
     "status": "ok",
     "timestamp": 1639552714055,
     "user": {
      "displayName": "HO CHAN KI",
      "photoUrl": "https://lh3.googleusercontent.com/a/default-user=s64",
      "userId": "15221316930316916898"
     },
     "user_tz": -540
    },
    "id": "ON0n31hfyauz",
    "outputId": "3b0296ae-89de-499c-859f-8427f9c1c5a8"
   },
   "outputs": [],
   "source": [
    "count2.most_common(10)"
   ]
  },
  {
   "cell_type": "code",
   "execution_count": null,
   "metadata": {
    "executionInfo": {
     "elapsed": 11,
     "status": "ok",
     "timestamp": 1639552714055,
     "user": {
      "displayName": "HO CHAN KI",
      "photoUrl": "https://lh3.googleusercontent.com/a/default-user=s64",
      "userId": "15221316930316916898"
     },
     "user_tz": -540
    },
    "id": "nn79BpjB0S8e"
   },
   "outputs": [],
   "source": [
    "# !sudo apt-get install -y fonts-nanum"
   ]
  },
  {
   "cell_type": "code",
   "execution_count": null,
   "metadata": {
    "executionInfo": {
     "elapsed": 12,
     "status": "ok",
     "timestamp": 1639552714056,
     "user": {
      "displayName": "HO CHAN KI",
      "photoUrl": "https://lh3.googleusercontent.com/a/default-user=s64",
      "userId": "15221316930316916898"
     },
     "user_tz": -540
    },
    "id": "Rd3te9X91J-r"
   },
   "outputs": [],
   "source": [
    "# !sudo fc-cache -fstatvfs\n",
    "# !rm ~/.cache/matplotlib -rf"
   ]
  },
  {
   "cell_type": "code",
   "execution_count": null,
   "metadata": {
    "executionInfo": {
     "elapsed": 11,
     "status": "ok",
     "timestamp": 1639552714056,
     "user": {
      "displayName": "HO CHAN KI",
      "photoUrl": "https://lh3.googleusercontent.com/a/default-user=s64",
      "userId": "15221316930316916898"
     },
     "user_tz": -540
    },
    "id": "jdX5Hhy72K-s"
   },
   "outputs": [],
   "source": [
    "import matplotlib.pyplot as plt"
   ]
  },
  {
   "cell_type": "code",
   "execution_count": null,
   "metadata": {
    "executionInfo": {
     "elapsed": 12,
     "status": "ok",
     "timestamp": 1639552714057,
     "user": {
      "displayName": "HO CHAN KI",
      "photoUrl": "https://lh3.googleusercontent.com/a/default-user=s64",
      "userId": "15221316930316916898"
     },
     "user_tz": -540
    },
    "id": "tIUKdDwE2Pzb"
   },
   "outputs": [],
   "source": [
    "key_list = list(word_count2.keys())\n",
    "sorted_keys_list =sorted(key_list)"
   ]
  },
  {
   "cell_type": "code",
   "execution_count": null,
   "metadata": {
    "executionInfo": {
     "elapsed": 11,
     "status": "ok",
     "timestamp": 1639552714057,
     "user": {
      "displayName": "HO CHAN KI",
      "photoUrl": "https://lh3.googleusercontent.com/a/default-user=s64",
      "userId": "15221316930316916898"
     },
     "user_tz": -540
    },
    "id": "nE7NYL715e5y"
   },
   "outputs": [],
   "source": [
    "plt.rc('font',family='NanumGothic')"
   ]
  },
  {
   "cell_type": "code",
   "execution_count": null,
   "metadata": {
    "executionInfo": {
     "elapsed": 12,
     "status": "ok",
     "timestamp": 1639552714058,
     "user": {
      "displayName": "HO CHAN KI",
      "photoUrl": "https://lh3.googleusercontent.com/a/default-user=s64",
      "userId": "15221316930316916898"
     },
     "user_tz": -540
    },
    "id": "jQYaa6xg6IlK"
   },
   "outputs": [],
   "source": [
    "plt.figure(figsize=(12,5))\n",
    "plt.xlabel('word')\n",
    "plt.ylabel('count')\n",
    "plt.grid(True)\n",
    "\n",
    "plt.bar(range(len(word_count2)), word_count2.values(),align='center')\n",
    "plt.xticks(range(len(word_count2)), word_count2.keys(), rotation='85')\n",
    "plt.show()"
   ]
  },
  {
   "cell_type": "code",
   "execution_count": null,
   "metadata": {
    "colab": {
     "base_uri": "https://localhost:8080/"
    },
    "executionInfo": {
     "elapsed": 278,
     "status": "ok",
     "timestamp": 1639552743434,
     "user": {
      "displayName": "HO CHAN KI",
      "photoUrl": "https://lh3.googleusercontent.com/a/default-user=s64",
      "userId": "15221316930316916898"
     },
     "user_tz": -540
    },
    "id": "OmcZaW_89VMa",
    "outputId": "7e1c26cd-2e87-4b8a-d2c6-26485323dc33"
   },
   "outputs": [],
   "source": [
    "word_count2.keys()"
   ]
  },
  {
   "cell_type": "code",
   "execution_count": null,
   "metadata": {
    "colab": {
     "base_uri": "https://localhost:8080/"
    },
    "executionInfo": {
     "elapsed": 6,
     "status": "ok",
     "timestamp": 1639552752957,
     "user": {
      "displayName": "HO CHAN KI",
      "photoUrl": "https://lh3.googleusercontent.com/a/default-user=s64",
      "userId": "15221316930316916898"
     },
     "user_tz": -540
    },
    "id": "uVXLC4Q-9Ypg",
    "outputId": "2e6ad884-2f64-480b-c9cc-744ebf745190"
   },
   "outputs": [],
   "source": [
    "word_count2.values()"
   ]
  }
 ],
 "metadata": {
  "colab": {
   "authorship_tag": "ABX9TyNmfLaoM4sClJk/V5of69i/",
   "collapsed_sections": [],
   "name": "한글단어만들기_자연어처리(전자신문).ipynb",
   "provenance": []
  },
  "kernelspec": {
   "display_name": "Python 3 (ipykernel)",
   "language": "python",
   "name": "python3"
  },
  "language_info": {
   "codemirror_mode": {
    "name": "ipython",
    "version": 3
   },
   "file_extension": ".py",
   "mimetype": "text/x-python",
   "name": "python",
   "nbconvert_exporter": "python",
   "pygments_lexer": "ipython3",
   "version": "3.9.7"
  },
  "toc": {
   "base_numbering": 1,
   "nav_menu": {},
   "number_sections": true,
   "sideBar": true,
   "skip_h1_title": false,
   "title_cell": "Table of Contents",
   "title_sidebar": "Contents",
   "toc_cell": false,
   "toc_position": {},
   "toc_section_display": true,
   "toc_window_display": false
  }
 },
 "nbformat": 4,
 "nbformat_minor": 1
}
