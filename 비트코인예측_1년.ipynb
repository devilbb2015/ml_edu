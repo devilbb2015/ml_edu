{
 "cells": [
  {
   "cell_type": "code",
   "execution_count": 2,
   "id": "3f62e61e",
   "metadata": {},
   "outputs": [],
   "source": [
    "import pandas as pd\n",
    "import numpy as np\n",
    "import matplotlib.pyplot as plt"
   ]
  },
  {
   "cell_type": "code",
   "execution_count": 4,
   "id": "d28bbbf8",
   "metadata": {},
   "outputs": [],
   "source": [
    "file_path = \"data/block3.csv\"\n",
    "bitcoin_df = pd.read_csv(file_path, names = ['day', 'price'])"
   ]
  },
  {
   "cell_type": "code",
   "execution_count": 5,
   "id": "457d3738",
   "metadata": {},
   "outputs": [
    {
     "data": {
      "text/html": [
       "<div>\n",
       "<style scoped>\n",
       "    .dataframe tbody tr th:only-of-type {\n",
       "        vertical-align: middle;\n",
       "    }\n",
       "\n",
       "    .dataframe tbody tr th {\n",
       "        vertical-align: top;\n",
       "    }\n",
       "\n",
       "    .dataframe thead th {\n",
       "        text-align: right;\n",
       "    }\n",
       "</style>\n",
       "<table border=\"1\" class=\"dataframe\">\n",
       "  <thead>\n",
       "    <tr style=\"text-align: right;\">\n",
       "      <th></th>\n",
       "      <th>day</th>\n",
       "      <th>price</th>\n",
       "    </tr>\n",
       "  </thead>\n",
       "  <tbody>\n",
       "    <tr>\n",
       "      <th>0</th>\n",
       "      <td>2020-12-09</td>\n",
       "      <td>18318.87</td>\n",
       "    </tr>\n",
       "    <tr>\n",
       "      <th>1</th>\n",
       "      <td>2020-12-10</td>\n",
       "      <td>18554.15</td>\n",
       "    </tr>\n",
       "    <tr>\n",
       "      <th>2</th>\n",
       "      <td>2020-12-11</td>\n",
       "      <td>18247.76</td>\n",
       "    </tr>\n",
       "    <tr>\n",
       "      <th>3</th>\n",
       "      <td>2020-12-12</td>\n",
       "      <td>18029.36</td>\n",
       "    </tr>\n",
       "    <tr>\n",
       "      <th>4</th>\n",
       "      <td>2020-12-13</td>\n",
       "      <td>18803.44</td>\n",
       "    </tr>\n",
       "    <tr>\n",
       "      <th>...</th>\n",
       "      <td>...</td>\n",
       "      <td>...</td>\n",
       "    </tr>\n",
       "    <tr>\n",
       "      <th>356</th>\n",
       "      <td>2021-11-30</td>\n",
       "      <td>57828.45</td>\n",
       "    </tr>\n",
       "    <tr>\n",
       "      <th>357</th>\n",
       "      <td>2021-12-01</td>\n",
       "      <td>57025.79</td>\n",
       "    </tr>\n",
       "    <tr>\n",
       "      <th>358</th>\n",
       "      <td>2021-12-02</td>\n",
       "      <td>57229.76</td>\n",
       "    </tr>\n",
       "    <tr>\n",
       "      <th>359</th>\n",
       "      <td>2021-12-03</td>\n",
       "      <td>56508.48</td>\n",
       "    </tr>\n",
       "    <tr>\n",
       "      <th>360</th>\n",
       "      <td>2021-12-04</td>\n",
       "      <td>53713.84</td>\n",
       "    </tr>\n",
       "  </tbody>\n",
       "</table>\n",
       "<p>361 rows × 2 columns</p>\n",
       "</div>"
      ],
      "text/plain": [
       "            day     price\n",
       "0    2020-12-09  18318.87\n",
       "1    2020-12-10  18554.15\n",
       "2    2020-12-11  18247.76\n",
       "3    2020-12-12  18029.36\n",
       "4    2020-12-13  18803.44\n",
       "..          ...       ...\n",
       "356  2021-11-30  57828.45\n",
       "357  2021-12-01  57025.79\n",
       "358  2021-12-02  57229.76\n",
       "359  2021-12-03  56508.48\n",
       "360  2021-12-04  53713.84\n",
       "\n",
       "[361 rows x 2 columns]"
      ]
     },
     "execution_count": 5,
     "metadata": {},
     "output_type": "execute_result"
    }
   ],
   "source": [
    "bitcoin_train_df = bitcoin_df.iloc[:361]\n",
    "bitcoin_train_df"
   ]
  },
  {
   "cell_type": "code",
   "execution_count": 6,
   "id": "2aed4967",
   "metadata": {},
   "outputs": [
    {
     "data": {
      "text/plain": [
       "(361, 2)"
      ]
     },
     "execution_count": 6,
     "metadata": {},
     "output_type": "execute_result"
    }
   ],
   "source": [
    "bitcoin_train_df.shape"
   ]
  },
  {
   "cell_type": "code",
   "execution_count": 8,
   "id": "0611dab4",
   "metadata": {},
   "outputs": [
    {
     "name": "stdout",
     "output_type": "stream",
     "text": [
      "<class 'pandas.core.frame.DataFrame'>\n",
      "RangeIndex: 361 entries, 0 to 360\n",
      "Data columns (total 2 columns):\n",
      " #   Column  Non-Null Count  Dtype  \n",
      "---  ------  --------------  -----  \n",
      " 0   day     361 non-null    object \n",
      " 1   price   361 non-null    float64\n",
      "dtypes: float64(1), object(1)\n",
      "memory usage: 5.8+ KB\n"
     ]
    }
   ],
   "source": [
    "bitcoin_train_df.info()"
   ]
  },
  {
   "cell_type": "code",
   "execution_count": 9,
   "id": "00ff658e",
   "metadata": {},
   "outputs": [
    {
     "name": "stdout",
     "output_type": "stream",
     "text": [
      "<class 'pandas.core.frame.DataFrame'>\n",
      "RangeIndex: 361 entries, 0 to 360\n",
      "Data columns (total 2 columns):\n",
      " #   Column  Non-Null Count  Dtype         \n",
      "---  ------  --------------  -----         \n",
      " 0   day     361 non-null    datetime64[ns]\n",
      " 1   price   361 non-null    float64       \n",
      "dtypes: datetime64[ns](1), float64(1)\n",
      "memory usage: 5.8 KB\n"
     ]
    },
    {
     "name": "stderr",
     "output_type": "stream",
     "text": [
      "C:\\Users\\TS17EF~1.SBY\\AppData\\Local\\Temp/ipykernel_2188/896602734.py:1: SettingWithCopyWarning: \n",
      "A value is trying to be set on a copy of a slice from a DataFrame.\n",
      "Try using .loc[row_indexer,col_indexer] = value instead\n",
      "\n",
      "See the caveats in the documentation: https://pandas.pydata.org/pandas-docs/stable/user_guide/indexing.html#returning-a-view-versus-a-copy\n",
      "  bitcoin_train_df['day'] = pd.to_datetime(bitcoin_train_df['day'])\n"
     ]
    }
   ],
   "source": [
    "bitcoin_train_df['day'] = pd.to_datetime(bitcoin_train_df['day'])\n",
    "bitcoin_train_df.info()"
   ]
  },
  {
   "cell_type": "code",
   "execution_count": 10,
   "id": "85178b29",
   "metadata": {},
   "outputs": [
    {
     "data": {
      "text/html": [
       "<div>\n",
       "<style scoped>\n",
       "    .dataframe tbody tr th:only-of-type {\n",
       "        vertical-align: middle;\n",
       "    }\n",
       "\n",
       "    .dataframe tbody tr th {\n",
       "        vertical-align: top;\n",
       "    }\n",
       "\n",
       "    .dataframe thead th {\n",
       "        text-align: right;\n",
       "    }\n",
       "</style>\n",
       "<table border=\"1\" class=\"dataframe\">\n",
       "  <thead>\n",
       "    <tr style=\"text-align: right;\">\n",
       "      <th></th>\n",
       "      <th>price</th>\n",
       "    </tr>\n",
       "    <tr>\n",
       "      <th>day</th>\n",
       "      <th></th>\n",
       "    </tr>\n",
       "  </thead>\n",
       "  <tbody>\n",
       "    <tr>\n",
       "      <th>2020-12-09</th>\n",
       "      <td>18318.87</td>\n",
       "    </tr>\n",
       "    <tr>\n",
       "      <th>2020-12-10</th>\n",
       "      <td>18554.15</td>\n",
       "    </tr>\n",
       "    <tr>\n",
       "      <th>2020-12-11</th>\n",
       "      <td>18247.76</td>\n",
       "    </tr>\n",
       "    <tr>\n",
       "      <th>2020-12-12</th>\n",
       "      <td>18029.36</td>\n",
       "    </tr>\n",
       "    <tr>\n",
       "      <th>2020-12-13</th>\n",
       "      <td>18803.44</td>\n",
       "    </tr>\n",
       "    <tr>\n",
       "      <th>...</th>\n",
       "      <td>...</td>\n",
       "    </tr>\n",
       "    <tr>\n",
       "      <th>2021-11-30</th>\n",
       "      <td>57828.45</td>\n",
       "    </tr>\n",
       "    <tr>\n",
       "      <th>2021-12-01</th>\n",
       "      <td>57025.79</td>\n",
       "    </tr>\n",
       "    <tr>\n",
       "      <th>2021-12-02</th>\n",
       "      <td>57229.76</td>\n",
       "    </tr>\n",
       "    <tr>\n",
       "      <th>2021-12-03</th>\n",
       "      <td>56508.48</td>\n",
       "    </tr>\n",
       "    <tr>\n",
       "      <th>2021-12-04</th>\n",
       "      <td>53713.84</td>\n",
       "    </tr>\n",
       "  </tbody>\n",
       "</table>\n",
       "<p>361 rows × 1 columns</p>\n",
       "</div>"
      ],
      "text/plain": [
       "               price\n",
       "day                 \n",
       "2020-12-09  18318.87\n",
       "2020-12-10  18554.15\n",
       "2020-12-11  18247.76\n",
       "2020-12-12  18029.36\n",
       "2020-12-13  18803.44\n",
       "...              ...\n",
       "2021-11-30  57828.45\n",
       "2021-12-01  57025.79\n",
       "2021-12-02  57229.76\n",
       "2021-12-03  56508.48\n",
       "2021-12-04  53713.84\n",
       "\n",
       "[361 rows x 1 columns]"
      ]
     },
     "execution_count": 10,
     "metadata": {},
     "output_type": "execute_result"
    }
   ],
   "source": [
    "bitcoin_train_df.set_index('day', inplace=True)\n",
    "bitcoin_train_df"
   ]
  },
  {
   "cell_type": "code",
   "execution_count": 11,
   "id": "a248a1e9",
   "metadata": {},
   "outputs": [
    {
     "data": {
      "text/plain": [
       "<AxesSubplot:xlabel='day'>"
      ]
     },
     "execution_count": 11,
     "metadata": {},
     "output_type": "execute_result"
    },
    {
     "data": {
      "image/png": "[encoded data removed]",
      "text/plain": [
       "<Figure size 432x288 with 1 Axes>"
      ]
     },
     "metadata": {
      "needs_background": "light"
     },
     "output_type": "display_data"
    }
   ],
   "source": [
    "bitcoin_train_df.plot()"
   ]
  },
  {
   "cell_type": "markdown",
   "id": "7a9a1ce9",
   "metadata": {},
   "source": [
    "## ARIMA 모델 = AR + I + MA\n",
    "- AR : AutoRegression, 이전데이터들에서 학습한 내용을 가지고 예측\n",
    "- MA : MovingAverage, 이전데이터들의 오차를 반영해서 예측\n",
    "- I  : Defference, 차이"
   ]
  },
  {
   "cell_type": "markdown",
   "id": "59d9b041",
   "metadata": {},
   "source": [
    "### Additive 모델 = ARIMA  + 기간의 trend(경향성) : facebook"
   ]
  },
  {
   "cell_type": "code",
   "execution_count": 12,
   "id": "ad6a8b34",
   "metadata": {},
   "outputs": [],
   "source": [
    "from statsmodels.tsa.arima_model import ARIMA\n",
    "import statsmodels.api as sm"
   ]
  },
  {
   "cell_type": "code",
   "execution_count": 13,
   "id": "51445da7",
   "metadata": {},
   "outputs": [
    {
     "name": "stderr",
     "output_type": "stream",
     "text": [
      "C:\\Anaconda3\\lib\\site-packages\\statsmodels\\tsa\\arima_model.py:472: FutureWarning: \n",
      "statsmodels.tsa.arima_model.ARMA and statsmodels.tsa.arima_model.ARIMA have\n",
      "been deprecated in favor of statsmodels.tsa.arima.model.ARIMA (note the .\n",
      "between arima and model) and\n",
      "statsmodels.tsa.SARIMAX. These will be removed after the 0.12 release.\n",
      "\n",
      "statsmodels.tsa.arima.model.ARIMA makes use of the statespace framework and\n",
      "is both well tested and maintained.\n",
      "\n",
      "To silence this warning and continue using ARMA and ARIMA until they are\n",
      "removed, use:\n",
      "\n",
      "import warnings\n",
      "warnings.filterwarnings('ignore', 'statsmodels.tsa.arima_model.ARMA',\n",
      "                        FutureWarning)\n",
      "warnings.filterwarnings('ignore', 'statsmodels.tsa.arima_model.ARIMA',\n",
      "                        FutureWarning)\n",
      "\n",
      "  warnings.warn(ARIMA_DEPRECATION_WARN, FutureWarning)\n"
     ]
    },
    {
     "name": "stdout",
     "output_type": "stream",
     "text": [
      "                             ARIMA Model Results                              \n",
      "==============================================================================\n",
      "Dep. Variable:                    D.y   No. Observations:                  360\n",
      "Model:                 ARIMA(2, 1, 2)   Log Likelihood               -3226.094\n",
      "Method:                       css-mle   S.D. of innovations           1876.869\n",
      "Date:                Fri, 10 Dec 2021   AIC                           6464.187\n",
      "Time:                        10:23:08   BIC                           6487.504\n",
      "Sample:                             1   HQIC                          6473.458\n",
      "                                                                              \n",
      "==============================================================================\n",
      "                 coef    std err          z      P>|z|      [0.025      0.975]\n",
      "------------------------------------------------------------------------------\n",
      "const         98.3228    103.092      0.954      0.340    -103.734     300.380\n",
      "ar.L1.D.y      1.3617      0.025     54.663      0.000       1.313       1.410\n",
      "ar.L2.D.y     -0.9466      0.021    -44.731      0.000      -0.988      -0.905\n",
      "ma.L1.D.y     -1.3903      0.014   -101.431      0.000      -1.417      -1.363\n",
      "ma.L2.D.y      1.0000      0.016     61.508      0.000       0.968       1.032\n",
      "                                    Roots                                    \n",
      "=============================================================================\n",
      "                  Real          Imaginary           Modulus         Frequency\n",
      "-----------------------------------------------------------------------------\n",
      "AR.1            0.7192           -0.7342j            1.0278           -0.1266\n",
      "AR.2            0.7192           +0.7342j            1.0278            0.1266\n",
      "MA.1            0.6951           -0.7189j            1.0000           -0.1277\n",
      "MA.2            0.6951           +0.7189j            1.0000            0.1277\n",
      "-----------------------------------------------------------------------------\n"
     ]
    }
   ],
   "source": [
    "# (AR = 2, 차분 =1, MA=2) 파라미터로 ARIMA 모델을 학습한다.\n",
    "model = ARIMA(bitcoin_train_df.price.values, order = (2,1,2))\n",
    "model_fit = model.fit(trend = 'c', full_output = True, disp = True)\n",
    "print(model_fit.summary())"
   ]
  },
  {
   "cell_type": "code",
   "execution_count": 16,
   "id": "fc4f46c2",
   "metadata": {},
   "outputs": [
    {
     "data": {
      "image/png": "[encoded data removed]",
      "text/plain": [
       "<Figure size 432x288 with 1 Axes>"
      ]
     },
     "metadata": {
      "needs_background": "light"
     },
     "output_type": "display_data"
    }
   ],
   "source": [
    "# 학습 데이터에 대한 예측 결과\n",
    "fig = model_fit.plot_predict()"
   ]
  },
  {
   "cell_type": "code",
   "execution_count": 17,
   "id": "10fbd364",
   "metadata": {},
   "outputs": [
    {
     "data": {
      "text/plain": [
       "<AxesSubplot:>"
      ]
     },
     "execution_count": 17,
     "metadata": {},
     "output_type": "execute_result"
    },
    {
     "data": {
      "image/png": "[encoded data removed]",
      "text/plain": [
       "<Figure size 432x288 with 1 Axes>"
      ]
     },
     "metadata": {
      "needs_background": "light"
     },
     "output_type": "display_data"
    }
   ],
   "source": [
    "residuals = pd.DataFrame(model_fit.resid)\n",
    "residuals.plot()"
   ]
  },
  {
   "cell_type": "code",
   "execution_count": 30,
   "id": "edd4eb1c",
   "metadata": {
    "scrolled": true
   },
   "outputs": [
    {
     "data": {
      "text/plain": [
       "(array([54320.83738927, 54543.7260594 , 54330.14705095, 53885.84425584,\n",
       "        53540.53821699]),\n",
       " array([1876.86890993, 2616.61290757, 3204.72170672, 3745.14425676,\n",
       "        4260.78336266]),\n",
       " array([[50642.2419221 , 57999.43285644],\n",
       "        [49415.25899907, 59672.19311973],\n",
       "        [48049.00792531, 60611.2861766 ],\n",
       "        [46545.49639568, 61226.19211599],\n",
       "        [45189.55628025, 61891.52015373]]))"
      ]
     },
     "execution_count": 30,
     "metadata": {},
     "output_type": "execute_result"
    }
   ],
   "source": [
    "forecast_data = model_fit.forecast(steps=5)\n",
    "forecast_data"
   ]
  },
  {
   "cell_type": "code",
   "execution_count": 23,
   "id": "38189e0b",
   "metadata": {},
   "outputs": [
    {
     "data": {
      "text/html": [
       "<div>\n",
       "<style scoped>\n",
       "    .dataframe tbody tr th:only-of-type {\n",
       "        vertical-align: middle;\n",
       "    }\n",
       "\n",
       "    .dataframe tbody tr th {\n",
       "        vertical-align: top;\n",
       "    }\n",
       "\n",
       "    .dataframe thead th {\n",
       "        text-align: right;\n",
       "    }\n",
       "</style>\n",
       "<table border=\"1\" class=\"dataframe\">\n",
       "  <thead>\n",
       "    <tr style=\"text-align: right;\">\n",
       "      <th></th>\n",
       "      <th>day</th>\n",
       "      <th>price</th>\n",
       "    </tr>\n",
       "  </thead>\n",
       "  <tbody>\n",
       "    <tr>\n",
       "      <th>361</th>\n",
       "      <td>2021-12-05</td>\n",
       "      <td>49253.86</td>\n",
       "    </tr>\n",
       "    <tr>\n",
       "      <th>362</th>\n",
       "      <td>2021-12-06</td>\n",
       "      <td>49380.43</td>\n",
       "    </tr>\n",
       "    <tr>\n",
       "      <th>363</th>\n",
       "      <td>2021-12-07</td>\n",
       "      <td>50564.63</td>\n",
       "    </tr>\n",
       "    <tr>\n",
       "      <th>364</th>\n",
       "      <td>2021-12-08</td>\n",
       "      <td>50645.41</td>\n",
       "    </tr>\n",
       "    <tr>\n",
       "      <th>365</th>\n",
       "      <td>2021-12-09</td>\n",
       "      <td>50511.12</td>\n",
       "    </tr>\n",
       "  </tbody>\n",
       "</table>\n",
       "</div>"
      ],
      "text/plain": [
       "            day     price\n",
       "361  2021-12-05  49253.86\n",
       "362  2021-12-06  49380.43\n",
       "363  2021-12-07  50564.63\n",
       "364  2021-12-08  50645.41\n",
       "365  2021-12-09  50511.12"
      ]
     },
     "execution_count": 23,
     "metadata": {},
     "output_type": "execute_result"
    }
   ],
   "source": [
    "bitcoin_test_df = bitcoin_df[361:]\n",
    "bitcoin_test_df"
   ]
  },
  {
   "cell_type": "code",
   "execution_count": 31,
   "id": "dd4cbcbb",
   "metadata": {},
   "outputs": [
    {
     "data": {
      "text/plain": [
       "array([54320.83738927, 54543.7260594 , 54330.14705095, 53885.84425584,\n",
       "       53540.53821699])"
      ]
     },
     "execution_count": 31,
     "metadata": {},
     "output_type": "execute_result"
    }
   ],
   "source": [
    "pred_y = forecast_data[0]\n",
    "pred_y"
   ]
  },
  {
   "cell_type": "code",
   "execution_count": null,
   "id": "4189ff8f",
   "metadata": {},
   "outputs": [],
   "source": [
    "pred_y = forcast_data[0]\n",
    "pred_y"
   ]
  },
  {
   "cell_type": "code",
   "execution_count": 28,
   "id": "b5af0e6e",
   "metadata": {},
   "outputs": [
    {
     "data": {
      "text/plain": [
       "361    49253.86\n",
       "362    49380.43\n",
       "363    50564.63\n",
       "364    50645.41\n",
       "365    50511.12\n",
       "Name: price, dtype: float64"
      ]
     },
     "execution_count": 28,
     "metadata": {},
     "output_type": "execute_result"
    }
   ],
   "source": [
    "bitcoin_test_df.price"
   ]
  },
  {
   "cell_type": "code",
   "execution_count": 29,
   "id": "e453c96e",
   "metadata": {},
   "outputs": [
    {
     "data": {
      "text/plain": [
       "array([49253.86, 49380.43, 50564.63, 50645.41, 50511.12])"
      ]
     },
     "execution_count": 29,
     "metadata": {},
     "output_type": "execute_result"
    }
   ],
   "source": [
    "bitcoin_test_df.price.values"
   ]
  },
  {
   "cell_type": "code",
   "execution_count": 33,
   "id": "10b79b72",
   "metadata": {},
   "outputs": [
    {
     "data": {
      "text/plain": [
       "array([[50642.2419221 , 57999.43285644],\n",
       "       [49415.25899907, 59672.19311973],\n",
       "       [48049.00792531, 60611.2861766 ],\n",
       "       [46545.49639568, 61226.19211599],\n",
       "       [45189.55628025, 61891.52015373]])"
      ]
     },
     "execution_count": 33,
     "metadata": {},
     "output_type": "execute_result"
    }
   ],
   "source": [
    "forecast_data[2]  # 최저[0], 최고[1] => 그래프로!   ====> 2. dataset 의 양을 3년 이상으로 늘려보자.!"
   ]
  },
  {
   "cell_type": "code",
   "execution_count": 35,
   "id": "82eea121",
   "metadata": {},
   "outputs": [],
   "source": [
    "pred_y = forecast_data[0].tolist()   # 마지막 5일 예측데이터"
   ]
  },
  {
   "cell_type": "code",
   "execution_count": 36,
   "id": "c334972a",
   "metadata": {},
   "outputs": [],
   "source": [
    "test_y = bitcoin_test_df.price.values   # 실제 5일 데이터"
   ]
  },
  {
   "cell_type": "code",
   "execution_count": 37,
   "id": "6caada67",
   "metadata": {},
   "outputs": [],
   "source": [
    "pred_y_lower = []  # 마지막 5일의 예측 데이터 최소값\n",
    "pred_y_upper = []  # 마지막 5일의 예측 데이터 최대값"
   ]
  },
  {
   "cell_type": "code",
   "execution_count": 39,
   "id": "a2d0760b",
   "metadata": {},
   "outputs": [],
   "source": [
    "for lower_upper in forecast_data[2]:\n",
    "    lower = lower_upper[0]\n",
    "    upper = lower_upper[1]\n",
    "    pred_y_lower.append(lower)\n",
    "    pred_y_upper.append(upper)"
   ]
  },
  {
   "cell_type": "code",
   "execution_count": 41,
   "id": "3bcc82ce",
   "metadata": {},
   "outputs": [
    {
     "data": {
      "text/plain": [
       "[<matplotlib.lines.Line2D at 0x1946e5c2c70>]"
      ]
     },
     "execution_count": 41,
     "metadata": {},
     "output_type": "execute_result"
    },
    {
     "data": {
      "image/png": "[encoded data removed]",
      "text/plain": [
       "<Figure size 432x288 with 1 Axes>"
      ]
     },
     "metadata": {
      "needs_background": "light"
     },
     "output_type": "display_data"
    }
   ],
   "source": [
    "plt.plot(pred_y, color = 'gold') # 모델이 예측한 가격\n",
    "plt.plot(test_y, color = 'green') # 실제가격"
   ]
  },
  {
   "cell_type": "code",
   "execution_count": 42,
   "id": "dfeb565f",
   "metadata": {},
   "outputs": [
    {
     "ename": "ModuleNotFoundError",
     "evalue": "No module named 'fbprophet'",
     "output_type": "error",
     "traceback": [
      "\u001b[1;31m---------------------------------------------------------------------------\u001b[0m",
      "\u001b[1;31mModuleNotFoundError\u001b[0m                       Traceback (most recent call last)",
      "\u001b[1;32mC:\\Users\\TS17EF~1.SBY\\AppData\\Local\\Temp/ipykernel_2188/1130067940.py\u001b[0m in \u001b[0;36m<module>\u001b[1;34m\u001b[0m\n\u001b[1;32m----> 1\u001b[1;33m \u001b[1;32mfrom\u001b[0m \u001b[0mfbprophet\u001b[0m \u001b[1;32mimport\u001b[0m \u001b[0mProphet\u001b[0m\u001b[1;33m\u001b[0m\u001b[1;33m\u001b[0m\u001b[0m\n\u001b[0m",
      "\u001b[1;31mModuleNotFoundError\u001b[0m: No module named 'fbprophet'"
     ]
    }
   ],
   "source": [
    "from fbprophet import Prophet"
   ]
  },
  {
   "cell_type": "code",
   "execution_count": null,
   "id": "0b672196",
   "metadata": {},
   "outputs": [],
   "source": []
  }
 ],
 "metadata": {
  "kernelspec": {
   "display_name": "Python 3 (ipykernel)",
   "language": "python",
   "name": "python3"
  },
  "language_info": {
   "codemirror_mode": {
    "name": "ipython",
    "version": 3
   },
   "file_extension": ".py",
   "mimetype": "text/x-python",
   "name": "python",
   "nbconvert_exporter": "python",
   "pygments_lexer": "ipython3",
   "version": "3.9.7"
  },
  "toc": {
   "base_numbering": 1,
   "nav_menu": {},
   "number_sections": true,
   "sideBar": true,
   "skip_h1_title": false,
   "title_cell": "Table of Contents",
   "title_sidebar": "Contents",
   "toc_cell": false,
   "toc_position": {},
   "toc_section_display": true,
   "toc_window_display": false
  }
 },
 "nbformat": 4,
 "nbformat_minor": 5
}
