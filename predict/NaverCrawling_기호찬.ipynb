{
 "cells": [
  {
   "cell_type": "code",
   "execution_count": 1,
   "id": "1da3d26b",
   "metadata": {},
   "outputs": [],
   "source": [
    "#셋팅하기-필요한 모듈(라이브러리 모두 호출하기)\n",
    "import os\n",
    "import sys\n",
    "import urllib.request\n",
    "import datetime\n",
    "import time\n",
    "import json"
   ]
  },
  {
   "cell_type": "code",
   "execution_count": 2,
   "id": "08c1f365",
   "metadata": {},
   "outputs": [],
   "source": [
    "#네이버 개발자 생성한 개인 api 호출아이디 패스워드\n",
    "client_id = \"eqTP5XcwlDYyaCiKB7my\"\n",
    "client_secret = \"HU1HBaixz7\""
   ]
  },
  {
   "cell_type": "code",
   "execution_count": 3,
   "id": "3cbc171f",
   "metadata": {},
   "outputs": [],
   "source": [
    "#getRequsetUrl 함수를 정의 하여서 생성\n",
    "def getRequestUrl(url):\n",
    "    req = urllib.request.Request(url)\n",
    "    req.add_header(\"X-Naver-Client-Id\",client_id)\n",
    "    req.add_header(\"X-Naver-Client-Secret\",client_secret)\n",
    "    \n",
    "    try:\n",
    "        response=urllib.request.urlopen(req)\n",
    "        if response.getcode()==200:\n",
    "            print(\"[%s] Url Request Success\" % datetime.datetime.now())\n",
    "            return response.read().decode('utf-8')\n",
    "    except Exception as e:\n",
    "        print(e)\n",
    "        print(\"[%s] Error for Url : %s\" % (datetime.datetime.now(),url))\n",
    "        return None\n"
   ]
  },
  {
   "cell_type": "code",
   "execution_count": 4,
   "id": "0214933b",
   "metadata": {},
   "outputs": [],
   "source": [
    "def getNaverSearch(node,scrText,start,display):\n",
    "    base=\"https://openapi.naver.com/v1/search\"\n",
    "    node=\"/%s.json\" %node\n",
    "    parameters=\"?query=%s&start=%s&display=%s\" %(urllib.parse.quote(scrText),start,display)\n",
    "    \n",
    "    url=base + node + parameters\n",
    "    \n",
    "    responseDecode= getRequestUrl(url)\n",
    "    \n",
    "    if(responseDecode == None):\n",
    "        return None\n",
    "    else:\n",
    "        return json.loads(responseDecode)"
   ]
  },
  {
   "cell_type": "code",
   "execution_count": 5,
   "id": "4382a367",
   "metadata": {},
   "outputs": [],
   "source": [
    "def getPostData(post, jsonResult, cnt):\n",
    "    title=post['title']\n",
    "    description=post['description']\n",
    "    org_link = post['originallink']\n",
    "    link = post['link']\n",
    "    \n",
    "    pDate =datetime.datetime.strptime(post['pubDate'], '%a, %d %b %Y %H:%M:%S +0900')\n",
    "    pDate =pDate.strftime('%Y-%m-%d %H:%M:%S')\n",
    "    \n",
    "    jsonResult.append({'cnt':cnt ,\"title\":title ,'description':description,\n",
    "                      'org_link':org_link,'link':link,'pDate':pDate})"
   ]
  },
  {
   "cell_type": "code",
   "execution_count": null,
   "id": "d2258ffa",
   "metadata": {},
   "outputs": [],
   "source": [
    "getPostData()"
   ]
  },
  {
   "cell_type": "code",
   "execution_count": 30,
   "id": "4ce8a9ba",
   "metadata": {},
   "outputs": [],
   "source": [
    "def main():\n",
    "    node='news'\n",
    "    srcText=input('검색어를 입력하세요:')\n",
    "    cnt=0\n",
    "    jsonResult=[]\n",
    "    \n",
    "    jsonResponse = getNaverSearch(node,srcText,1,100)\n",
    "    print(jsonResponse)\n",
    "    total = jsonResponse['total']\n",
    "    print(total)\n",
    "    while((jsonResponse !=None) and (jsonResponse['display'] !=0)):\n",
    "#         for post in jsonResponse['items']:\n",
    "#             cnt +=1\n",
    "#             getPostData(post,jsonResult,cnt)\n",
    "            \n",
    "#         start = jsonResponse['start'] + jsonResponse['display']\n",
    "#         jsonResponse =getNaverSearch(node,srcText,1,100)\n",
    "        for i, post in enumerate(jsonResponse['items']):\n",
    "            start = jsonResponse['start'] + jsonResponse['display']\n",
    "#             jsonResponse =getNaverSearch(node,srcText,start,100)\n",
    "            getPostData(post,jsonResult,cnt)\n",
    "            if i // 5 == range(1,20):\n",
    "            \n",
    "                with open('%s_naver_%s%s.json' %(srcText,node,i),'w',encoding='utf-8') as outfile:\n",
    "                    jsonFIle=json.dumps(jsonResult,indent=4, sort_keys=True,\n",
    "                                       ensure_ascii=False)\n",
    "                    outfile.write(jsonFIle)            \n",
    "                    jsonResult =[]\n",
    "                \n",
    "        \n",
    "    print('전체 검색 :%d 건' %total)\n",
    "    \n",
    "#     with open('%s_naver_%s.json' %(srcText,node),'w',encoding='utf-8') as outfile:\n",
    "#         jsonFIle=json.dumps(jsonResult,indent=4, sort_keys=True,\n",
    "#                            ensure_ascii=False)\n",
    "#         outfile.write(jsonFIle)\n",
    "        \n",
    "    print(\"가져온 데이터 : %d 건\"%(cnt))\n",
    "    print('i.json SAVED' %(srcText,node))"
   ]
  },
  {
   "cell_type": "code",
   "execution_count": null,
   "id": "019f292e",
   "metadata": {},
   "outputs": [
    {
     "name": "stdout",
     "output_type": "stream",
     "text": [
      "검색어를 입력하세요:메이플스토리\n",
      "[2021-12-22 15:50:36.043510] Url Request Success\n",
      "{'lastBuildDate': 'Wed, 22 Dec 2021 15:50:36 +0900', 'total': 50816, 'start': 1, 'display': 100, 'items': [{'title': \"[기업분석]&quot;상장 10년 성과는 잊어라&quot;...넥슨, 게임 '새판짜기' 정조준\", 'originallink': 'http://www.dailyimpact.co.kr/news/articleView.html?idxno=74105', 'link': 'http://www.dailyimpact.co.kr/news/articleView.html?idxno=74105', 'description': \"넥슨 '바람의 나라, <b>메이플스토리</b>, 카트라이더, 던전 앤 파이터'까지, 넥슨은\\xa0막강한 지식재산권(IP)을\\xa0앞세워 21세기 게임업계의 큰 형님으로 자리해왔다. 지난\\xa0 2011년 일본 상장 이후 글로벌 무대에 진출해 10년 동안... \", 'pubDate': 'Wed, 22 Dec 2021 09:50:00 +0900'}, {'title': '‘게임 토크’ 나선 이재명 “확률형아이템, 제재 필요...확률 의무 공개”', 'originallink': 'https://www.vop.co.kr/A00001605743.html', 'link': 'https://www.vop.co.kr/A00001605743.html', 'description': \"앞서 올해 초 넥슨의 '<b>메이플스토리</b>'에서 확률형아이템의 확률을 속여왔다는 논란이 일었다. 넥슨 측은 지난 3월 '<b>메이플스토리</b>' 내에서 아이템에 3개까지 '잠재능력'을 부여하는 '큐브' 아이템의 확률을 밝혔는데... \", 'pubDate': 'Tue, 21 Dec 2021 20:40:00 +0900'}, {'title': '[2021결산] 게임업계, BM논란에 새 먹거리 찾기 나서', 'originallink': 'http://www.enewstoday.co.kr/news/articleView.html?idxno=1535853', 'link': 'http://www.enewstoday.co.kr/news/articleView.html?idxno=1535853', 'description': \"◇확률형아이템 논란, 이용자 목소리 커져=지난 2월 넥슨의 다중접속역할수행게임(MMORPG) <b>메이플스토리</b> '환생의 불꽃' 아이템에 부여되는 추가옵션에 동일 확률이 적용된다는 공지가 올라오면서 확률형 아이템 조작... \", 'pubDate': 'Tue, 21 Dec 2021 16:37:00 +0900'}, {'title': \"['21결산] 격변의 한 해…게임업계 '패러다임 전환' 예고\", 'originallink': 'https://www.ebn.co.kr/news/view/1512846/?sc=Naver', 'link': 'https://www.ebn.co.kr/news/view/1512846/?sc=Naver', 'description': '트럭 시위는 <b>메이플스토리</b>, 페이트 그랜드 오더, 리니지M 등 3N(넥슨, 넷마블, 엔씨소프트) 게임을 중심으로 시작돼 라그나로크 오리진 등 여러 게임으로 퍼져나갔다. 주요 게임사들은 트럭 시위 이후 이용자들과 적극... ', 'pubDate': 'Tue, 21 Dec 2021 08:32:00 +0900'}, {'title': \"[2021년 결산-게임] '불통 운영' 민원 쇄도…과도한 과금 유도·환불 불만도 ...\", 'originallink': 'http://www.consumernews.co.kr/news/articleView.html?idxno=639858', 'link': 'http://www.consumernews.co.kr/news/articleView.html?idxno=639858', 'description': \"넷마블이 서비스하는 모바일 RPG '페이트/그랜드 오더(이하 페그오)'를 시작으로 엔씨소프트 '프로야구 H2'와 '리니지M', 넥슨 '마비노기'와 '<b>메이플스토리</b>' 등 중대형 게임사들이 서비스하는 게임에 대해 소비자 권리를... \", 'pubDate': 'Tue, 21 Dec 2021 07:22:00 +0900'}, {'title': \"[시선 2.0] 매출 비례 재투자가 '장수 게임'을 만든다\", 'originallink': 'http://www.gameple.co.kr/news/articleView.html?idxno=201060', 'link': 'http://www.gameple.co.kr/news/articleView.html?idxno=201060', 'description': \"게임업계에서 '투자'라는 단어는 지난 4월 <b>메이플스토리</b> 유저 간담회에서 &quot;높은 매출 대비 투자가 거의 없다&quot;고 지적한 유저들의 일침에서 부각되기 시작했다. 당시 <b>메이플스토리</b>는 확률형 아이템 이슈 외에 노후된 콘텐츠... \", 'pubDate': 'Mon, 20 Dec 2021 18:28:00 +0900'}, {'title': '게임업계, 상업자 전용 카드로 신용카드 확대', 'originallink': 'http://www.gameshot.net/common/con_view.php?code=GA61c030bc234d1', 'link': 'http://www.gameshot.net/common/con_view.php?code=GA61c030bc234d1', 'description': '넥슨은 <b>메이플스토리</b>, 던전앤파이터, 카트라이더, 서든어택 등 인기 게임을 대거 보유하고 있다. 해당 게임들을 활용한 다양한 금융 서비스를 선보일 예정이다. 또한 데이터에 기반한 새로운 편익 서비스를 만들어나갈... ', 'pubDate': 'Mon, 20 Dec 2021 17:00:00 +0900'}, {'title': \"국내 게임업계, 올겨울 다 함께 '캐릭터 리뉴얼'\", 'originallink': 'http://www.gameple.co.kr/news/articleView.html?idxno=201057', 'link': 'http://www.gameple.co.kr/news/articleView.html?idxno=201057', 'description': '기사 요약 - 검은사막, 로스트아크, 던전앤파이터, <b>메이플스토리</b> 등 올 겨울 업데이트로 오래된\\xa0캐릭터들의 대대적인 리뉴얼을 진행하는\\xa0국내 인기\\xa0게임들. &quot;가성비가 떨어지는 작업이라도\\xa0 게임사의 의무인 만큼 최선을... ', 'pubDate': 'Mon, 20 Dec 2021 15:32:00 +0900'}, {'title': '[금주의쟁점] 게임 사업 진출한 세원이앤씨\\xa0첫 작품 론칭 준비', 'originallink': 'http://www.tgdaily.co.kr/news/articleView.html?idxno=313737', 'link': 'http://www.tgdaily.co.kr/news/articleView.html?idxno=313737', 'description': \"넥슨 '<b>메이플스토리</b>' 23일 겨울 쇼케이스 개최 넥슨(대표 이정헌)은 오는 23일 온라인 게임 '<b>메이플스토리</b>'의 겨울 쇼케이스인 '데스티니(DESTINY)'를 온라인으로 개최한다. 이 회사는 이번 쇼케이스를 통해 작품의 업데이트... \", 'pubDate': 'Mon, 20 Dec 2021 14:06:00 +0900'}, {'title': '[차트-온라인]디아블로3, 시즌25 타고 2주 연속 순위 상승', 'originallink': 'https://www.fomos.kr/redirect/news_view?news_cate_id=10&entry_id=106492', 'link': 'https://sports.news.naver.com/news.nhn?oid=236&aid=0000219576', 'description': \"전주 대비 18.1% 일 이용시간이 줄어든 '아이온'에 '발로란트(-2.5%)'와 '<b>메이플스토리</b>(-12.7%)'도 한 계단 순위 상승을 누렸다. '리니지'도 6.4% 감소했음에도 '워크래프트 3(-21.9%)'와 '월드 오브 워크래프트(-18.7%)'의... \", 'pubDate': 'Mon, 20 Dec 2021 11:50:00 +0900'}, {'title': \"[금주의 게임일정]넥슨 '던파 모바일' 게릴라 테스트 20일 진행, '<b>메이플</b>스토...\", 'originallink': 'http://gamefocus.co.kr/detail.php?number=124964', 'link': 'http://gamefocus.co.kr/detail.php?number=124964', 'description': \"아울러 23일 넥슨은 '<b>메이플스토리</b>'의 겨울 쇼케이스를 개최할 예정이다. 이번 주 다양한 게임업계 소식을 게임포커스가 정리해보았다. # 테스트 일정 20일 잔디소프트 '매드월드' 글로벌 알파 테스트 4.0 진행... \", 'pubDate': 'Mon, 20 Dec 2021 11:22:00 +0900'}, {'title': \"[12월3주순위] 새 시즌 '디아블로3' 상승세\", 'originallink': 'http://www.tgdaily.co.kr/news/articleView.html?idxno=313732', 'link': 'http://www.tgdaily.co.kr/news/articleView.html?idxno=313732', 'description': \"이 가운데 '발로란트'가 전주 대비 한 계단 상승한 9위에 올라서며 강세를 보였고 '<b>메이플스토리</b>'가 10위로 한 계단 떨어지며 서로 자리를 바꿨다. 이후 '던전앤파이터' '아이온' '리니지2' 등 11위부터 13위까지는 순위가... \", 'pubDate': 'Mon, 20 Dec 2021 11:06:00 +0900'}, {'title': \"일반 '놓지마 정신줄' 아동 '쿠키런 시리즈'…부천시립도서관 베스트 만화 탑...\", 'originallink': 'http://www.lecturernews.com/news/articleView.html?idxno=84118', 'link': 'http://www.lecturernews.com/news/articleView.html?idxno=84118', 'description': '2021 베스트 만화도서(아동)[사진출처=부천시청] 아동만화 분야에서는 『쿠키런 시리즈』, 『코믹<b>메이플스토리</b> 시리즈』, 『GOGO 카카오프렌즈』등 작년에도 순위에 올랐던 도서들이 꾸준히 사랑받고 있다. 『신비아파트... ', 'pubDate': 'Mon, 20 Dec 2021 10:46:00 +0900'}, {'title': '올 한 해, 가장 화제가 된 이야기! 2021년 PC·IT 10대 뉴스', 'originallink': 'http://www.ilovepc.co.kr/news/articleView.html?idxno=41875', 'link': 'http://www.ilovepc.co.kr/news/articleView.html?idxno=41875', 'description': '마비노기 유저들은 아이템 강화 확률 공개를 요구하며 접속중단, 트럭 시위 등에 나섰고, <b>메이플스토리</b> 유저들은 가챠 아이템 확률 조작에 대규모 시위를 벌이는 한편 로스트아크를 비롯한 타 게임으로의 이주를... ', 'pubDate': 'Mon, 20 Dec 2021 09:36:00 +0900'}, {'title': '오징어 게임 이어 카트라이더 올라탄 정태영 현대카드 부회장', 'originallink': 'https://www.mk.co.kr/economy/view/2021/1146013', 'link': 'https://news.naver.com/main/read.naver?mode=LSD&mid=sec&sid1=101&oid=024&aid=0000072179', 'description': '넥슨은 <b>메이플스토리</b>, 던전앤파이터, 카트라이더, 서든어택 등 인기 게임을 대거 보유하고 있다. 해당 게임들을 활용한 다양한 금융 서비스를 선보일 예정이다. 또한 데이터에 기반한 새로운 편익 서비스를 만들어나갈... ', 'pubDate': 'Mon, 20 Dec 2021 09:28:00 +0900'}, {'title': '[DD주간브리핑] 사라진 크리스마스…코로나 수혜, 수익 배분 갈등 ‘점화’', 'originallink': 'https://www.ddaily.co.kr/news/article.html?no=227724', 'link': 'https://news.naver.com/main/read.naver?mode=LSD&mid=sec&sid1=105&oid=138&aid=0002115605', 'description': '◆넥슨 ‘<b>메이플스토리</b>’, 23일 이용자 쇼케이스 ‘데스티니’=넥슨은 23일 PC 다중접속역할수행게임(MMORPG) ‘<b>메이플스토리</b>’ 이용자를 위한 쇼케이스 ‘데스티니’를 연다. 업데이트 로드맵 공개 자리다. 지난 8월... ', 'pubDate': 'Sun, 19 Dec 2021 16:36:00 +0900'}, {'title': '[스페셜리포트]2022년 대형 게임사 “내가 판 바꾼다”', 'originallink': 'http://www.etnews.com/20211217000163', 'link': 'https://news.naver.com/main/read.naver?mode=LSD&mid=sec&sid1=105&oid=030&aid=0002988632', 'description': \"스테디셀러 온라인 게임 '<b>메이플스토리</b>' 그래픽 리소스를 활용해 콘텐츠를 제작하고 공유할 수 있는 게임이자 플랫폼이자 공간이다. 국내 게임사 중 첫 번째 시도다. 샌드박스 게임에서 나아간 새로운 '놀이공간' 시대를... \", 'pubDate': 'Sun, 19 Dec 2021 15:02:00 +0900'}, {'title': \"[책 속 한 대목] &quot;'원시두뇌' 잘 이용하는 기업이 성공&quot;\", 'originallink': 'http://www.econovill.com/news/articleView.html?idxno=559049', 'link': 'http://www.econovill.com/news/articleView.html?idxno=559049', 'description': \"저자는 이 대목에서 넥슨의 '<b>메이플스토리</b>' 확률형 아이템의 중독성을 예로 든다. 원시인은 사냥에 성공했다고 하여 행복을 길게 가져가면 안 된다. 행복에 젖어 있으면 불시에 누구에게 맞아 죽을지, 들짐승에게 잡혀... \", 'pubDate': 'Sun, 19 Dec 2021 09:02:00 +0900'}, {'title': '日 닌텐도 이어 시총 2위 찍은 韓 게임사…내년 퀀텀점프 노린다', 'originallink': 'http://news.mt.co.kr/mtview.php?no=2021121715583510329', 'link': 'https://news.naver.com/main/read.naver?mode=LSD&mid=sec&sid1=105&oid=008&aid=0004685249', 'description': \"'<b>메이플스토리</b>'·'던전앤파이터'·'서든어택' 등 기존 PC 온라인 스테디셀러가 꾸준한 인기를 끈 가운데, 2019년 출시한 'V4'·'카트라이더 러쉬플러스'·'FIFA 모바일'·'바람의나라: 연' 등 모바일게임이 흥행하며 역대 최대... \", 'pubDate': 'Sun, 19 Dec 2021 08:00:00 +0900'}, {'title': '유료 ‘더보기’ 없앤 금강선 ˝이것이 로스트아크식 재투자˝', 'originallink': 'https://www.gamemeca.com/mv.php?inflow=naver_s&gid=1672680', 'link': 'https://sports.news.naver.com/news.nhn?oid=356&aid=0000051388', 'description': '배틀그라운드와 같은 배틀로얄 게임을 연상시키는 ‘태초의 섬’부터 <b>메이플스토리</b>를 연상시키는 2D 횡스크롤 섬, 롤을 생각나게 하는 AOS 모드, 금강선 디렉터가 “응용문제”라고 소개한 미니게임 종합세트 ‘심연의... ', 'pubDate': 'Sat, 18 Dec 2021 20:25:00 +0900'}, {'title': '<b>메이플스토리</b>·카트라이더·마비노기 아이템 구입 시 가상화폐 결제 가능', 'originallink': 'https://www.etoday.co.kr/news/view/2088198', 'link': 'https://www.etoday.co.kr/news/view/2088198', 'description': '이에 따라 ‘<b>메이플스토리</b>’ ‘카트라이더’ ‘마비노기’ ‘V4’를 비롯한 넥슨 게임 이용 시 가상화폐를 이용해 아이템을 구입할 수 있게 됐다. 플레이어는 넥슨 아메리카가 설정한 가격으로 아이템을 구입할 때... ', 'pubDate': 'Sat, 18 Dec 2021 11:04:00 +0900'}, {'title': '넥슨, 마비노기M 업데이트... V매트릭스 신규 스킬 추가', 'originallink': 'http://www.meconomynews.com/news/articleView.html?idxno=61310', 'link': 'http://www.meconomynews.com/news/articleView.html?idxno=61310', 'description': \"46종 직업\\xa0대상 고유 스킬\\xa01종 추가 200레벨 이용자 코어 젬스톤으로 획득 직업군별 공용 스킬도 새로 등장 [시장경제=최유진 기자] 사진=넥슨 넥슨이 모바일 MMORPG(다중접속역할수행게임) '<b>메이플스토리</b>M'에서 신규... \", 'pubDate': 'Sat, 18 Dec 2021 09:20:00 +0900'}, {'title': \"넥슨 '<b>메이플스토리</b>M' 등 업데이트 공세\", 'originallink': 'http://www.tgdaily.co.kr/news/articleView.html?idxno=313705', 'link': 'http://www.tgdaily.co.kr/news/articleView.html?idxno=313705', 'description': \"'<b>메이플스토리</b>M' 넥슨이 '<b>메이플스토리</b>M' '피파 모바일' '카트라이더 러쉬플러스' 등 모바일게임과 '카운터스트라이크 온라인' '클로저스' 등의 온라인게임에서 새로운 콘텐츠 업데이트를 선보였다. 또 '바람의나라: 연... \", 'pubDate': 'Fri, 17 Dec 2021 20:56:00 +0900'}, {'title': \"[12월 17일] 모바일 신작 '루니아 원정대' 사전예약 실시 등 게임 업계 핫클립\", 'originallink': 'http://www.gameple.co.kr/news/articleView.html?idxno=201042', 'link': 'http://www.gameple.co.kr/news/articleView.html?idxno=201042', 'description': \"'<b>메이플스토리</b>M'은 전체 46종 직업을 대상으로 고유 'V매트릭스 스킬'을 1종씩 추가하고, 모험가와 시그너스 기사단 등 직업군별 공용 스킬을 도입했다. V매트릭스 스킬은 200레벨 이후 획득 가능하다. 또한 난이도에 맞는... \", 'pubDate': 'Fri, 17 Dec 2021 19:48:00 +0900'}, {'title': '넥슨 ‘<b>메이플스토리</b>M’ 전 직업 신규 ‘V매트릭스 스킬’ 업데이트', 'originallink': 'http://www.lawissue.co.kr/view.php?ud=2021121718380229239817d053b9_12', 'link': 'http://www.lawissue.co.kr/view.php?ud=2021121718380229239817d053b9_12', 'description': '넥슨은 자사 모바일 MMORPG ‘<b>메이플스토리</b>M’에서 신규 ‘V매트릭스 스킬’을 비롯한 콘텐츠 업데이트를 진행했다고 17일 밝혔다. 넥슨에 따르면 먼저 전체 46종 직업 대상으로 고유 ‘V매트릭스스킬’을 1종씩... ', 'pubDate': 'Fri, 17 Dec 2021 18:40:00 +0900'}, {'title': '[아!이뉴스] 카카오브레인, 사람 닮은 AI 도전… 박용현 넥슨게임즈 새 선장', 'originallink': 'http://www.inews24.com/view/1433720', 'link': 'https://news.naver.com/main/read.naver?mode=LSD&mid=sec&sid1=105&oid=031&aid=0000643138', 'description': '정 전 부사장은 과거 바람의 나라, 크레이지아케이드비엔비, <b>메이플스토리</b>, 마비노기, 테일즈위버, 카트라이더 등을 성공시키면서 수천억대 매출을 기록해 넥슨을 크게 성장시킨 인물이다. ◆ 음저협 &quot;OTT 저작권 해석... ', 'pubDate': 'Fri, 17 Dec 2021 17:54:00 +0900'}, {'title': '12월 2주차 온라인게임 순위, 배그·오버워치·<b>메이플</b> 순위 ↑…18일부터 PC방...', 'originallink': 'http://kbench.com/?q=node/228220', 'link': 'http://kbench.com/?q=node/228220', 'description': '11위~20위권 순위 권을 살펴보면 ▲<b>메이플 스토리</b> ▲던전앤파이터 순위가 뒤바뀌었으며 ▲카트라이더 ▲사이퍼즈 순위가 상승하고 ▲리니지2 순위는 하락했다. 한편, 코로나 재확산으로 한 달여 만에 사회적... ', 'pubDate': 'Fri, 17 Dec 2021 17:12:00 +0900'}, {'title': '[한주의 게임소식] P2E 기대작에서 퇴출 게임으로 급변한 ‘무한돌파 삼국지', 'originallink': 'https://www.donga.com/news/article/all/20211217/110839981/1', 'link': 'https://news.naver.com/main/read.naver?mode=LSD&mid=sec&sid1=105&oid=020&aid=0003400463', 'description': '여기에 넥슨의 <b>메이플스토리</b>, 카트라이더, 사이퍼즈 등 겨울 방학 시즌 강자들의 사용량이 증가하면서 순위가 한 계단씩 상승하는 등 전통의 강자들 역시 상승세를 기록 중이다. [국내 모바일게임 소식] P2E 기대주에서... ', 'pubDate': 'Fri, 17 Dec 2021 17:01:00 +0900'}, {'title': '[게임월드]&lt;2&gt;넥슨, 신규 IP 발굴로 반등 노린다', 'originallink': 'https://www.fetv.co.kr/news/article.html?no=103842', 'link': 'https://www.fetv.co.kr/news/article.html?no=103842', 'description': '14시간 30분이라는 최장기간 간담회를 진행한 마비노기, 국회 앞까지 트럭이 보내졌던 <b>메이플스토리</b>는 이용자들의 의견을 수집해 그에 맞춰 전반적인 수정·보완을 거치고 있다. 하반기 신작들도 순항중이다. 자회사... ', 'pubDate': 'Fri, 17 Dec 2021 15:02:00 +0900'}, {'title': \"'넥슨게임즈' 출범, 수장엔 '흥행보증' 박용현 넷게임즈 대표\", 'originallink': 'http://www.inews24.com/view/1433564', 'link': 'https://news.naver.com/main/read.naver?mode=LSD&mid=sec&sid1=105&oid=031&aid=0000643068', 'description': '정 전 부사장은 과거 바람의 나라, 크레이지아케이드비엔비, <b>메이플스토리</b>, 마비노기, 테일즈위버, 카트라이더 등을 성공시키면서 수천억대 매출을 기록해 넥슨을 크게 성장시킨 인물이다. 이번 합병으로 넥슨은 800명... ', 'pubDate': 'Fri, 17 Dec 2021 14:31:00 +0900'}, {'title': '넥슨 ‘<b>메이플스토리</b>M’, 신규 V매트릭스 스킬 추가', 'originallink': 'http://game.mk.co.kr/view.php?year=2021&no=1142614', 'link': 'https://news.naver.com/main/read.naver?mode=LSD&mid=sec&sid1=105&oid=009&aid=0004895208', 'description': '넥슨(대표 이정헌)은 모바일 MMORPG ‘<b>메이플스토리</b>M’에 신규 ‘V매트릭스 스킬’을 비롯한 콘텐츠 업데이트를 진행했다고 17일 밝혔다. 전체 46종 직업 대상으로 고유 ‘V매트릭스 스킬’을 1종씩 추가하고 모험가... ', 'pubDate': 'Fri, 17 Dec 2021 13:46:00 +0900'}, {'title': \"넥슨, '<b>메이플스토리</b>M' 전 직업 신규 'V매트릭스 스킬' 업데이트\", 'originallink': 'https://www.insight.co.kr/news/373374', 'link': 'https://www.insight.co.kr/news/373374', 'description': \"넥슨은 자사 모바일 MMORPG '<b>메이플스토리</b>M'에서 신규 'V매트릭스 스킬'을 비롯한 콘텐츠 업데이트를 진행했다고 17일 밝혔다.먼저 전체 46종 직업 대상으로 고유 'V매트릭스 스킬'을 1종씩 추가하고 모험가, 시그너스 기사단... \", 'pubDate': 'Fri, 17 Dec 2021 13:36:00 +0900'}, {'title': '<b>메이플스토리</b>M, 전 직업 신규 ‘V매트릭스 스킬’ 업데이트', 'originallink': 'http://www.gameshot.net/common/con_view.php?code=GA61bc0eb51eb67', 'link': 'http://www.gameshot.net/common/con_view.php?code=GA61bc0eb51eb67', 'description': '넥슨(대표 이정헌)은 자사 모바일 MMORPG ‘<b>메이플스토리</b>M’에서 신규 ‘V매트릭스 스킬’을 비롯한 콘텐츠 업데이트를 진행했다고 17일 밝혔다. 먼저 전체 46종 직업 대상으로 고유 ‘V매트릭스 스킬’을 1종씩 추가하고... ', 'pubDate': 'Fri, 17 Dec 2021 13:26:00 +0900'}, {'title': \"넥슨, '<b>메이플스토리</b>M' 전 직업 신규' 'V매트릭스 스킬' 업데이트\", 'originallink': 'http://www.getnews.co.kr/news/articleView.html?idxno=564649', 'link': 'http://www.getnews.co.kr/news/articleView.html?idxno=564649', 'description': \"넥슨은 자사 모바일 MMORPG '<b>메이플스토리</b>M'에서 신규 'V매트릭스 스킬'을 비롯한 콘텐츠 업데이트를 진행했다고 17일 밝혔다. 먼저 전체 46종 직업 대상으로 고유 V매트릭스 스킬을 1종씩 추가하고 모험가, 시그너스 기사단... \", 'pubDate': 'Fri, 17 Dec 2021 13:20:00 +0900'}, {'title': '넥슨, ‘<b>메이플스토리</b>M’ 전 직업 신규 ‘V매트릭스 스킬’ 업데이트', 'originallink': 'http://www.thebigdata.co.kr/view.php?ud=2021121712583618369071791b3a_23', 'link': 'http://www.thebigdata.co.kr/view.php?ud=2021121712583618369071791b3a_23', 'description': '㈜넥슨(대표 이정헌)은 17일 ‘<b>메이플스토리</b>M’에서 신규 ‘V매트릭스 스킬’을 비롯한 콘텐츠 업데이트를 진행했다고 밝혔다. 먼저 전체 46종 직업 대상으로 고유 ‘V매트릭스 스킬’을 1종씩 추가하고 모험가, 시그너스... ', 'pubDate': 'Fri, 17 Dec 2021 13:10:00 +0900'}, {'title': \"넥슨 '<b>메이플스토리</b>M' 전 직업 신규 'V매트릭스 스킬' 업데이트 실시\", 'originallink': 'http://gamefocus.co.kr/detail.php?number=124878', 'link': 'http://gamefocus.co.kr/detail.php?number=124878', 'description': '넥슨(대표 이정헌)은 자사 모바일 MMORPG ‘<b>메이플스토리</b>M’에서 신규 ‘V매트릭스 스킬’을 비롯한 콘텐츠 업데이트를 진행했다고 17일 밝혔다. 먼저 전체 46종 직업 대상으로 고유 ‘V매트릭스 스킬’을 1종씩 추가하고... ', 'pubDate': 'Fri, 17 Dec 2021 13:04:00 +0900'}, {'title': \"'<b>메이플스토리</b>M', 전 직업 V매트릭스 스킬 1종 업데이트\", 'originallink': 'https://www.fomos.kr/redirect/news_view?news_cate_id=2&entry_id=106450', 'link': 'https://sports.news.naver.com/news.nhn?oid=236&aid=0000219534', 'description': \"넥슨은 모바일 MMORPG '<b>메이플스토리</b>M'에 V매트릭스 스킬을 비롯한 콘텐츠 업데이트를 진행했다. 먼저 전체 46종 직업 대상으로 고유 V매트릭스 스킬을 1종씩 추가하고 모험가, 시그너스 기사단 등 직업군별 공용 스킬을... \", 'pubDate': 'Fri, 17 Dec 2021 12:32:00 +0900'}, {'title': \"넥슨 김대훤 부사장 &quot;새해 'Big &amp; Little' 앞세워 하이브리드 신작 '도전장'&quot;\", 'originallink': 'http://www.khgames.co.kr/news/articleView.html?idxno=132829', 'link': 'http://www.khgames.co.kr/news/articleView.html?idxno=132829', 'description': \"&quot; Profile ● 2007년 넥슨 '<b>메이플스토리</b>' 개발팀장 ● 2008년 넥슨 '<b>메이플스토리</b>' 해외서비스 개발실장 ● 2009년 넥슨지티 개발본부장(이사) '서든어택' 개발총괄 ● 2011년 넥슨지티 개발총괄이사 ● 2017년 넥슨레드 대표이사... \", 'pubDate': 'Fri, 17 Dec 2021 12:16:00 +0900'}, {'title': '넥슨, ‘<b>메이플스토리</b>M’ 전 직업 신규 ‘V매트릭스 스킬’ 업데이트', 'originallink': 'https://www.gamechosun.co.kr/webzine/article/view.php?no=180639', 'link': 'https://www.gamechosun.co.kr/webzine/article/view.php?no=180639', 'description': 'MMORPG ‘<b>메이플스토리</b>M’에서 신규 ‘V매트릭스 스킬’을 비롯한 콘텐츠 업데이트를 진행했다고 17일 밝혔다. 먼저 전체 46종 직업 대상으로 고유 ‘V매트릭스 스킬’을 1종씩 추가하고 모험가, 시그너스 기사단 등... ', 'pubDate': 'Fri, 17 Dec 2021 11:48:00 +0900'}, {'title': \"<b>메이플스토리</b>, 모험가 신규 일러스트 공개 '겨울 업데이트 기대감 상승'\", 'originallink': 'http://www.gameple.co.kr/news/articleView.html?idxno=201033', 'link': 'http://www.gameple.co.kr/news/articleView.html?idxno=201033', 'description': \"기사 요약 - 넥슨의 대표작 '<b>메이플스토리</b>'가 올 겨울 업데이트 기념 쇼케이스 'DESTINY' 2차 티저 영상을 통해 모험가 리마스터 신규 일러스트를 공개하면서 유저들의 기대감을 끌어올렸다. 지난 17일 \\xa0넥슨의 대표 온라인... \", 'pubDate': 'Fri, 17 Dec 2021 11:42:00 +0900'}, {'title': '넥슨, ‘<b>메이플스토리</b>M’ 전 직업 신규 ‘V매트릭스 스킬’ 업데이트', 'originallink': 'https://www.thisisgame.com/webzine/game/nboard/225/?n=139668', 'link': 'https://www.thisisgame.com/webzine/game/nboard/225/?n=139668', 'description': \"MMORPG '<b>메이플스토리</b>M'에서 신규 ‘V매트릭스 스킬’을 비롯한 콘텐츠 업데이트를 진행했다고 오늘(17일) 밝혔다. 먼저 전체 46종 직업 대상으로 고유 ‘V매트릭스 스킬’을 1종씩 추가하고 모험가, 시그너스 기사단 등... \", 'pubDate': 'Fri, 17 Dec 2021 11:22:00 +0900'}, {'title': '넥슨, ‘<b>메이플스토리</b>M’ 전 직업 신규 ‘V매트릭스 스킬’ 업데이트', 'originallink': 'http://www.dizzotv.com/site/data/html_dir/2021/12/17/2021121780076.html', 'link': 'http://www.dizzotv.com/site/data/html_dir/2021/12/17/2021121780076.html', 'description': '넥슨은 모바일 MMORPG ‘<b>메이플스토리</b>M’에 신규 ‘V매트릭스 스킬’을 비롯한 콘텐츠 업데이트를 진행했다고 17일 밝혔다. 먼저, 전체 46종 직업 대상으로 고유 ‘V매트릭스 스킬’을 1종씩 추가하고 모험가, 시그너스... ', 'pubDate': 'Fri, 17 Dec 2021 11:20:00 +0900'}, {'title': '‘<b>메이플</b>M’ 전 직업 신규 ‘V매트릭스 스킬’ 업데이트', 'originallink': 'https://game.donga.com/101632/', 'link': 'https://game.donga.com/101632/', 'description': '넥슨(대표 이정헌)은 자사에서 서비스 중인 모바일 MMORPG ‘<b>메이플스토리</b>M’에 신규 ‘V매트릭스 스킬’을 비롯한 콘텐츠 업데이트를 진행했다고 금일(17일) 밝혔다. 먼저, 전체 46종 직업 대상으로 고유 ‘V매트릭스... ', 'pubDate': 'Fri, 17 Dec 2021 10:40:00 +0900'}, {'title': '<b>메이플스토리</b>M, 전 직업 신규 V매트릭스 스킬 추가', 'originallink': 'https://www.inven.co.kr/webzine/news/?news=266288', 'link': 'https://sports.news.naver.com/news.nhn?oid=442&aid=0000143964', 'description': \"자료제공 - 넥슨 ㈜넥슨(대표 이정헌)은 자사 모바일 MMORPG '<b>메이플스토리</b>M'에서 신규 'V매트릭스 스킬'을 비롯한 콘텐츠 업데이트를 진행했다고 17일 밝혔다. 먼저 전체 46종 직업 대상으로 고유 'V매트릭스 스킬'을 1종씩... \", 'pubDate': 'Fri, 17 Dec 2021 10:40:00 +0900'}, {'title': \"넥슨, '<b>메이플스토리</b>M' 신규 콘텐츠 업데이트\", 'originallink': 'http://www.finomy.com/news/articleView.html?idxno=104056', 'link': 'http://www.finomy.com/news/articleView.html?idxno=104056', 'description': \"넥슨은 자사 모바일\\xa0MMORPG\\xa0'<b>메이플스토리</b>M'에서\\xa0신규 콘텐츠 업데이트를 진행했다고\\xa017일 밝혔다. 넥슨은 전체\\xa046종 직업 대상으로 고유 'V매트릭스 스킬'을\\xa01종씩 추가하고 모험가,\\xa0시그너스 기사단 등 직업군별 공용... \", 'pubDate': 'Fri, 17 Dec 2021 10:40:00 +0900'}, {'title': '넥슨, ‘V매트릭스 스킬’ 업데이트', 'originallink': 'https://www.fetv.co.kr/news/article.html?no=103800', 'link': 'https://www.fetv.co.kr/news/article.html?no=103800', 'description': '\\xa0넥슨은 자사 모바일\\xa0MMORPG\\xa0‘<b>메이플스토리</b>M’에서\\xa0신규 ‘V매트릭스 스킬’을 비롯한 콘텐츠 업데이트를 진행했다고\\xa017일 밝혔다. 먼저 전체\\xa046종 직업 대상으로 고유 ‘V매트릭스 스킬’을\\xa01종씩 추가하고 모험가... ', 'pubDate': 'Fri, 17 Dec 2021 10:12:00 +0900'}, {'title': '넥슨, <b>메이플스토리</b>M 전 직업 신규 ‘V매트릭스 스킬’ 업데이트', 'originallink': 'http://www.nspna.com/news/?mode=view&newsid=544450', 'link': 'http://www.nspna.com/news/?mode=view&newsid=544450', 'description': '레벨별 추천 사냥터 및 콘텐츠 제안하는 길라잡이 시스템 신규 도입 이복현 기자, 넥슨(대표 이정헌)이 모바일 MMORPG <b>메이플스토리</b>M에서 신규 ‘V매트릭스 스킬’을 비롯한 콘텐츠 업데이트를 진행했다. 먼저 전체 46종... ', 'pubDate': 'Fri, 17 Dec 2021 10:10:00 +0900'}, {'title': \"<b>메이플스토리</b>M, 전 직업 신규 'V매트릭스 스킬' 업데이트\", 'originallink': 'http://www.youthdaily.co.kr/news/article.html?no=88512', 'link': 'http://www.youthdaily.co.kr/news/article.html?no=88512', 'description': \"레벨별 추천 사냥터 및 콘텐츠 제안하는 길라잡이 시스템 신규 도입 넥슨은 모바일 MMORPG '<b>메이플스토리</b>M'에서 신규 'V매트릭스 스킬'을 비롯한 콘텐츠 업데이트를 진행했다고 17일 밝혔다. 먼저, 전체 46종 직업 대상으로... \", 'pubDate': 'Fri, 17 Dec 2021 10:02:00 +0900'}, {'title': '<b>메이플스토리</b>M, V매트릭스 스킬 업데이트 진행', 'originallink': 'http://www.betanews.net:8080/article/1297769.html', 'link': 'http://www.betanews.net:8080/article/1297769.html', 'description': \"넥슨은 '<b>메이플스토리</b>M'에 신규 'V매트릭스 스킬'을 비롯한 콘텐츠 업데이트를 진행했다. 먼저 전체 46종 직업 대상으로 고유 'V매트릭스 스킬'을 1종씩 추가하고 모험가, 시그너스 기사단 등 직업군별 공용 스킬을... \", 'pubDate': 'Fri, 17 Dec 2021 10:00:00 +0900'}, {'title': '스마일게이트, 대표 IP로 글로벌 정조준...&quot;로아·크파 출격&quot;', 'originallink': 'http://www.digitaltoday.co.kr/news/articleView.html?idxno=428771', 'link': 'http://www.digitaltoday.co.kr/news/articleView.html?idxno=428771', 'description': \"올 초 확률형 아이템 이슈로 '메난민(<b>메이플스토리</b> 난민의 줄임말)'으로 불리는 <b>메이플스토리</b> 이용자들이 로스트아크로 이동하면서 대중들에게 눈도장을 찍었다. 이에 로스트아크는 출시 이후 2년 만에 PC방 톱... \", 'pubDate': 'Fri, 17 Dec 2021 07:34:00 +0900'}, {'title': \"[단독] 넥슨, '마블 COO 출신' 수석부사장 영입…넥슨 필름&amp;TV 조직 강화\", 'originallink': 'https://www.theguru.co.kr/news/article.html?no=29179', 'link': 'https://www.theguru.co.kr/news/article.html?no=29179', 'description': \"넥슨은 <b>메이플스토리</b>, 카트라이더, 던전앤파이터 등 기존의 대표 IP 뿐 아니라 내년에 출시될 스웨덴의 자회사 엠바크의 신작 '아크 레이더스' 등을 통해 IP 부문을 확장할 계획이다.\", 'pubDate': 'Thu, 16 Dec 2021 16:00:00 +0900'}, {'title': \"'日상장 10년' 넥슨, 영업익 69위…캐논·도시바 앞서\", 'originallink': 'http://news.bizwatch.co.kr/article/industry/2021/12/16/0013', 'link': 'https://news.naver.com/main/read.naver?mode=LSD&mid=sec&sid1=101&oid=648&aid=0000005337', 'description': \"PC온라인게임 '던전앤파이터'가 중국 시장에서 공전의 히트를 기록하며 매출 성장을 이끌었고 '<b>메이플스토리</b>'와 '카트라이더' '마비노기' 등 대표작이 오랜 기간 동안 식지 않은 흥행 열기를 이어가고 있다. 해외 상장... \", 'pubDate': 'Thu, 16 Dec 2021 15:55:00 +0900'}, {'title': \"부천시민, 가장 사랑한 만화 '놓지마 정신줄' 등 '베스트 만화도서 TOP 10' 선...\", 'originallink': 'http://www.kihoilbo.co.kr/news/articleView.html?idxno=959288', 'link': 'http://www.kihoilbo.co.kr/news/articleView.html?idxno=959288', 'description': '아동만화 분야에서는 \\xa0「쿠키런 시리즈」, 「코믹<b>메이플스토리</b> 시리즈」, 「GOGO 카카오프렌즈」등 지난해에도 순위에 올랐던 도서들이 꾸준히 사랑받고 있다. 「신비아파트 시리즈」와 「그리스로마신화」는 이번에... ', 'pubDate': 'Thu, 16 Dec 2021 15:44:00 +0900'}, {'title': '부천시, 2021년 베스트 만 화도서 TOP 10 선정', 'originallink': 'http://www.breaknews.com/856501', 'link': 'http://www.breaknews.com/856501', 'description': '아동만화 분야에서는 ‘쿠키런 시리즈’, ‘코믹<b>메이플스토리</b> 시리즈’, ‘GOGO 카카오프렌즈’등 작년에도 순위에 올랐던 도서들이 꾸준히 사랑받고 있다.... ', 'pubDate': 'Thu, 16 Dec 2021 13:52:00 +0900'}, {'title': '부천시립도서관 베스트 만화 TOP 10 선정', 'originallink': 'http://www.kmaeil.com/news/articleView.html?idxno=326452', 'link': 'http://www.kmaeil.com/news/articleView.html?idxno=326452', 'description': '아동만화 분야에서는 『쿠키런 시리즈』, 『코믹<b>메이플스토리</b> 시리즈』, 『GOGO 카카오프렌즈』등 작년에도 순위에 올랐던 도서들이 꾸준히 사랑받고 있다. 『신비아파트 시리즈』와 『그리스로마신화』는 이번에... ', 'pubDate': 'Thu, 16 Dec 2021 10:16:00 +0900'}, {'title': \"&quot;사실과 다르다&quot;…유튜버 자빱, '스태프 열정페이' 논란 정면 반박\", 'originallink': 'http://www.topstarnews.net/news/articleView.html?idxno=14657390', 'link': 'http://www.topstarnews.net/news/articleView.html?idxno=14657390', 'description': '자빱에게 극심한 노동 강도에 시달렸다고 주장해 파문을 일으킨 바 있다. 한편 자빱은 마인크래프트, 모여봐요 동물의 숲, <b>메이플 스토리</b> 등 인기 게임을 플레이하는 유튜버로, 13만명의 구독자를 보유하고 있다.[톱스타뉴스=]', 'pubDate': 'Thu, 16 Dec 2021 09:44:00 +0900'}, {'title': '넥슨 자회사 넥슨 아메리카, 비트페이와 손잡고 암호화폐 결제 허용', 'originallink': 'http://www.g-enews.com/ko-kr/news/article/news_all/202112160853291876c4c55f9b3d_1/article.html', 'link': 'http://www.g-enews.com/ko-kr/news/article/news_all/202112160853291876c4c55f9b3d_1/article.html', 'description': '암호화폐로 <b>메이플스토리</b>, 카트라이더, 마비노기, 빈딕투스, V4 등 구매 가능 넥슨 자회사 넥슨 아메리카가 고객들에게 암호화폐 결제를 허용했다. PYMNTS는 15일(현지 시간) 넥슨 자회사인 인터랙션 게임 소프트웨어... ', 'pubDate': 'Thu, 16 Dec 2021 09:02:00 +0900'}, {'title': '넥슨 日상장 10년, 기업가치 4배↑…삼국지 명가도 넘었다', 'originallink': 'https://www.asiatime.co.kr/article/20211215500306', 'link': 'https://www.asiatime.co.kr/article/20211215500306', 'description': \"실제 2004년에는 '<b>메이플스토리</b>' 개발사 위젯을 인수하며 우수 IP를 확보했고, 2008년 7월에는 '던전앤파이터' 개발사 네오플을 사들였다. 2010년에는 넥슨지티의 전신인 게임하이를 인수하는 등 과감한 투자를... \", 'pubDate': 'Thu, 16 Dec 2021 06:04:00 +0900'}, {'title': \"발표하는 게임들 '고퀄'이라 현질 유도 빼면 국내 원탑 평가받는 넥슨\", 'originallink': 'https://www.insight.co.kr/news/373119', 'link': 'https://www.insight.co.kr/news/373119', 'description': \"한편 넥슨은 지난 9월 대표 인기 게임 '<b>메이플스토리</b>' 확률 조작 의혹으로 김정주 창업주 등이 10월 국감장에 설 예정이었지만 무산됐다. 당시 넥슨은 <b>메이플스토리</b> 외에도 게임 내 '확률형 아이템' 등 문제로 이용자들의... \", 'pubDate': 'Wed, 15 Dec 2021 17:56:00 +0900'}, {'title': \"[던파 회고록 ⑥] 값진 교훈을 전한 '키리의 약속과 믿음'\", 'originallink': 'http://www.gameple.co.kr/news/articleView.html?idxno=201011', 'link': 'http://www.gameple.co.kr/news/articleView.html?idxno=201011', 'description': '특히, 리니지, <b>메이플스토리</b>, 카트라이더, 서머너즈 워: 천공의 아레나 등 수년간 서비스를 유지하는 장수 게임은 다양한 도전으로 때로는 유저들에게 호평을 받기도, 때로는 혹평을 받으며 성장해왔다. 최근 국내... ', 'pubDate': 'Wed, 15 Dec 2021 17:28:00 +0900'}, {'title': '&quot;9개월 동안 정산 1회&quot;…유튜버 자빱, 스태프 열정페이 추가 폭로 등장', 'originallink': 'http://www.topstarnews.net/news/articleView.html?idxno=14657210', 'link': 'http://www.topstarnews.net/news/articleView.html?idxno=14657210', 'description': '현재 자빱은 입장 표명을 하지 않은 상태다. 한편 자빱은 마인크래프트, 모여봐요 동물의 숲, <b>메이플 스토리</b> 등 인기 게임을 플레이하는 유튜버로, 14만명의 구독자를 보유하고 있다.[톱스타뉴스=]', 'pubDate': 'Wed, 15 Dec 2021 17:20:00 +0900'}, {'title': '글로벌 마케팅 기업 퍼틸레인, e스포츠 전문 기업 DRX에 전략적 투자', 'originallink': 'http://gamefocus.co.kr/detail.php?number=124809', 'link': 'http://gamefocus.co.kr/detail.php?number=124809', 'description': '퍼틸레인은 오딘, <b>메이플스토리</b>, 검은사막 등 다수의 대작 게임 캠페인을 성공적으로 런칭하며 2009년 설립 이후 약 10년 만에 국내 게임 업계 탑티어 에이전시로 발돋움했다. 최근 게임뿐만 아니라 금융, 커머스... ', 'pubDate': 'Wed, 15 Dec 2021 16:46:00 +0900'}, {'title': \"마케팅 기업 퍼틸레인, e스포츠 기업 'DRX'에 전략적 투자\", 'originallink': 'http://www.newsis.com/view/?id=NISX20211215_0001689380&cID=13001&pID=13000', 'link': 'https://news.naver.com/main/read.naver?mode=LSD&mid=sec&sid1=101&oid=003&aid=0010891306', 'description': '퍼틸레인은 오딘, <b>메이플스토리</b>, 검은사막 등 다수의 대작 게임 캠페인을 성공적으로 런칭하며 2009년 설립 이후 약 10년 만에 국내 게임 업계 탑티어 에이전시로 발돋움했다. 최근 게임뿐만 아니라 금융, 커머스... ', 'pubDate': 'Wed, 15 Dec 2021 16:01:00 +0900'}, {'title': '넥슨 日상장 10주년... 기업가치 4배 상승해 시총 3위', 'originallink': 'http://www.econovill.com/news/articleView.html?idxno=559009', 'link': 'http://www.econovill.com/news/articleView.html?idxno=559009', 'description': '<b>메이플스토리</b> 개발사 위젯과 던전앤파이터를 개발한 네오플 등의 인수합병을 통한 성장이 기업가치 증대에 핵심 축으로 작용한 만큼 글로벌 게임사에 대한 M&amp;A도 염두에 두고 있었다. 넥슨은 일본 상장 배경에 대해... ', 'pubDate': 'Wed, 15 Dec 2021 15:54:00 +0900'}, {'title': '암호화폐로 카트라이더 아이템 산다... 넥슨 미국법인, 새 결제 체계 도입', 'originallink': 'https://www.ajunews.com/view/20211215153454685', 'link': 'https://www.ajunews.com/view/20211215153454685', 'description': '비트코인, 이더리움, 도지코인 등으로 넥슨의 <b>메이플스토리</b>, 마비노기, 카트라이더, V4에서 아이템을 구매할 수 있다. 이용자들의 암호화폐 지갑과 거래는 비트페이에서 관리한다. 케니 장 넥슨아메리카 총괄은... ', 'pubDate': 'Wed, 15 Dec 2021 15:40:00 +0900'}, {'title': '넥슨 아메리카, 비트코인·이더리움으로 게임 아이템 구매 지원', 'originallink': 'https://www.asiatoday.co.kr/view.php?key=20211215010009218', 'link': 'https://www.asiatoday.co.kr/view.php?key=20211215010009218', 'description': '이 기능을 통해 유저들은 비트코인, 이더리움, 도지코인 등 가상자산을 사용해 <b>메이플스토리</b>, 카트라이더, 마비노기, 빈딕투스, V4 등 넥슨 게임의 아이템을 구매할 수 있을 전망이다.넥슨 관계자는 “가상자산 결제... ', 'pubDate': 'Wed, 15 Dec 2021 15:24:00 +0900'}, {'title': 'e스포츠 전문기업 ‘DRX’, 퍼틸레인 투자 유치', 'originallink': 'https://www.venturesquare.net/845042', 'link': 'https://www.venturesquare.net/845042', 'description': '퍼틸레인은 오딘, <b>메이플스토리</b>, 검은사막 등 다수의 대작 게임 캠페인을 성공적으로 런칭하며 2009년 설립 이후 약 10년 만에 국내 게임 업계 탑티어 에이전시로 발돋움했다. 최근 게임뿐만 아니라 금융, 커머스... ', 'pubDate': 'Wed, 15 Dec 2021 14:07:00 +0900'}, {'title': '넥슨, 日 상장 10주년… 내년에 한 단계 더 도약할까', 'originallink': 'http://www.sisaweek.com/news/articleView.html?idxno=149533', 'link': 'http://www.sisaweek.com/news/articleView.html?idxno=149533', 'description': '넥슨의 대표 PC온라인 타이틀인 △<b>메이플스토리</b> △던전앤파이터 △서든어택 등의 견조한 상승세와 모바일게임 타이틀인 △V4 △카트라이더 러쉬플러스 △바람의나라:연 등\\xa0핵심 타이틀들이 흥행에 성공한 영향이... ', 'pubDate': 'Wed, 15 Dec 2021 13:26:00 +0900'}, {'title': '넥슨 미국법인 &quot;가상자산으로 게임 아이템 구매 지원&quot;', 'originallink': 'http://www.coindeskkorea.com/news/articleView.html?idxno=76632', 'link': 'http://www.coindeskkorea.com/news/articleView.html?idxno=76632', 'description': '가상자산 결제가 가능해지면 이용자들은 BTC(비트코인) 등을 이용해 <b>메이플스토리</b>, 카트라이더, 마비노기, 빈딕투스, V4 등 넥슨 프랜차이즈의 게임 아이템을 구매할 수 있다. 아이템 결제에 이용하는 전자지갑은... ', 'pubDate': 'Wed, 15 Dec 2021 12:20:00 +0900'}, {'title': '[더벨]넥슨, 일본 상장 10년만에 기업가치 4배 뛰었다', 'originallink': 'http://www.thebell.co.kr/front/free/contents/news/article_view.asp?key=202112151123490520107072', 'link': 'http://www.thebell.co.kr/front/free/contents/news/article_view.asp?key=202112151123490520107072', 'description': '넥슨은 <b>메이플스토리</b> 개발사 위젯과 던전앤파이터를 개발한 네오플 등의 인수 합병을 통한 성장이 기업가치 증대에 핵심 축으로 작용한 만큼, 글로벌 게임사에 대한 M&amp;A 또한 염두에 두고 있었다. 당시 국내와 일본... ', 'pubDate': 'Wed, 15 Dec 2021 11:42:00 +0900'}, {'title': '[넥슨 日상장10년①]닌텐도 이어 시총 2위…기업가치 4배↑', 'originallink': 'http://www.newsis.com/view/?id=NISX20211215_0001688488&cID=13001&pID=13000', 'link': 'https://news.naver.com/main/read.naver?mode=LSD&mid=sec&sid1=101&oid=003&aid=0010890378', 'description': '또한 <b>메이플스토리</b> 개발사 위젯과 던전앤파이터를 개발한 네오플 등의 인수합병을 통한 성장이 기업가치 증대에 핵심 축으로 작용한 만큼, 글로벌 게임사에 대한 M&amp;A도 염두에 두고 있었다. 넥슨은 일본 상장 배경에... ', 'pubDate': 'Wed, 15 Dec 2021 11:29:00 +0900'}, {'title': '[넥슨 日상장10년②]모바일 게임 확장…V4, 카트 등 흥행', 'originallink': 'http://www.newsis.com/view/?id=NISX20211215_0001688666&cID=13001&pID=13000', 'link': 'https://news.naver.com/main/read.naver?mode=LSD&mid=sec&sid1=101&oid=003&aid=0010890379', 'description': '2004년 ‘<b>메이플스토리</b>’ 개발사 위젯을 인수하며 우수 IP 확보에 본격적으로 나섰고, 2008년 7월에 ‘던전앤파이터’ 개발사 네오플을 인수, 2010년 넥슨지티의 전신인 게임하이를 인수하는 등 우수한 온라인게임... ', 'pubDate': 'Wed, 15 Dec 2021 11:29:00 +0900'}, {'title': '글로벌 마케팅 기업 퍼틸레인, e스포츠 시장 진출 ‘신호탄’… DRX에 전략적...', 'originallink': 'https://www.gamechosun.co.kr/webzine/article/view.php?no=180532', 'link': 'https://www.gamechosun.co.kr/webzine/article/view.php?no=180532', 'description': '퍼틸레인은 오딘, <b>메이플스토리</b>, 검은사막 등 다수의 대작 게임 캠페인을 성공적으로 런칭하며 2009년 설립 이후 약 10년 만에 국내 게임 업계 탑티어 에이전시로 발돋움했다. 최근 게임뿐만 아니라 금융, 커머스... ', 'pubDate': 'Wed, 15 Dec 2021 11:00:00 +0900'}, {'title': '넥슨, 미래성장 책임질 신작 만지작...새해부터 순차 출시', 'originallink': 'https://zdnet.co.kr/view/?no=20211215101821', 'link': 'https://news.naver.com/main/read.naver?mode=LSD&mid=sec&sid1=105&oid=092&aid=0002242194', 'description': '연매출 3조 넘은 넥슨, PC 이어 모바일 체질 개선 성공 넥슨은 지난 1993년 설립된 국내 대표 게임사로, 카트라이더와 던전앤파이터, <b>메이플스토리</b> 등을 국내외 시장을 선보이며 안정적인 성장을 이끌어왔다. 또한 이... ', 'pubDate': 'Wed, 15 Dec 2021 10:53:00 +0900'}, {'title': '비트코인, 도지코인 등 암호화폐로 게임 아이템 구매 가능... 넥슨 아메리카 ...', 'originallink': 'http://gamefocus.co.kr/detail.php?number=124765', 'link': 'http://gamefocus.co.kr/detail.php?number=124765', 'description': '유저들은 이더리움, 도지코인, 비트코인을 포함한 다양한 암호화폐를 이용해 <b>메이플스토리</b>, 카트라이더, 마비노기, 마비노기 영웅전, V4 등 넥슨이 서비스 하고 있는 다양한 온라인게임의 유료 물품... ', 'pubDate': 'Wed, 15 Dec 2021 10:40:00 +0900'}, {'title': '글로벌 마케팅 기업 퍼틸레인, e스포츠 시장 진출 ‘신호탄’… DRX에 전략적...', 'originallink': 'https://www.thisisgame.com/webzine/game/nboard/225/?n=139403', 'link': 'https://www.thisisgame.com/webzine/game/nboard/225/?n=139403', 'description': '퍼틸레인은 오딘, <b>메이플스토리</b>, 검은사막 등 다수의 대작 게임 캠페인을 성공적으로 런칭하며 2009년 설립 이후 약 10년 만에 국내 게임 업계 탑티어 에이전시로 발돋움했다. 최근 게임뿐만 아니라 금융, 커머스... ', 'pubDate': 'Wed, 15 Dec 2021 10:38:00 +0900'}, {'title': \"퍼틸레인, DRX에 전략적 투자 단행 ... e스포츠 시장 진출 '신호탄'\", 'originallink': 'http://www.khgames.co.kr/news/articleView.html?idxno=132773', 'link': 'http://www.khgames.co.kr/news/articleView.html?idxno=132773', 'description': '퍼틸레인은 오딘, <b>메이플스토리</b>, 검은사막 등 다수의 대작 게임 캠페인을 성공적으로 런칭하며 2009년 설립 이후 약 10년 만에 국내 게임 업계 탑티어 에이전시로 발돋움했다. 최근 게임뿐만 아니라 금융, 커머스, 플랫폼... ', 'pubDate': 'Wed, 15 Dec 2021 10:32:00 +0900'}, {'title': '퍼틸레인, DRX에 전략적 투자', 'originallink': 'http://kbench.com/?q=node/228106', 'link': 'http://kbench.com/?q=node/228106', 'description': '퍼틸레인은 오딘, <b>메이플스토리</b>, 검은사막 등 다수의 대작 게임 캠페인을 성공적으로 런칭하며 2009년 설립 이후 약 10년 만에 국내 게임 업계 탑티어 에이전시로 발돋움했다. 최근 게임뿐만 아니라 금융, 커머스... ', 'pubDate': 'Wed, 15 Dec 2021 10:06:00 +0900'}, {'title': '넥슨 미국법인, 비트코인·이더리움으로 넥슨 캐시 구매 지원\\xa0', 'originallink': 'https://www.techm.kr/news/articleView.html?idxno=92075', 'link': 'https://www.techm.kr/news/articleView.html?idxno=92075', 'description': '넥슨 미국법인은 <b>메이플스토리</b>, 마비노기, 마비노기 영웅전, 카트라이더 V4 등을 운영하고 있다. 아울러 가상자산 결제를 위한 지갑 서비스 제공은 비트페이(BitPay)에서 맡는다. 일종의 전자결제대행(PG) 역할을 수행하는... ', 'pubDate': 'Wed, 15 Dec 2021 09:58:00 +0900'}, {'title': '‘온플릭’ 김장겸 “새로운 시작, 정말로 설레요” [쿠키인터뷰]', 'originallink': 'http://www.kukinews.com/newsView/kuk202112140077', 'link': 'http://www.kukinews.com/newsView/kuk202112140077', 'description': '이후 또다시 휴가를 받았는데, 그때는 ‘고릴라’ (강)범현이 형이랑 ‘<b>메이플스토리</b>’를 함께 했어요. 코로나바이러스 감염증-19(코로나19) 확산으로 휴가 때 여행을 제대로 못한 것은 좀 아쉬워요. 오랜만에 인터뷰를... ', 'pubDate': 'Wed, 15 Dec 2021 09:48:00 +0900'}, {'title': '&quot;월급이 35만원&quot; 유튜버 자빱, 스태프 열정페이·홀대 논란…무슨 일?\\xa0', 'originallink': 'http://www.topstarnews.net/news/articleView.html?idxno=14657102', 'link': 'http://www.topstarnews.net/news/articleView.html?idxno=14657102', 'description': '부디 피해자들의 목소리에 집중해주시길 바란다&quot;고 호소했다. 한편 자빱은 마인크래프트, 모여봐요 동물의 숲, <b>메이플 스토리</b> 등 인기 게임을 플레이하는 유튜버다.\\xa0[톱스타뉴스=]', 'pubDate': 'Wed, 15 Dec 2021 09:32:00 +0900'}, {'title': '글로벌 마케팅 기업 퍼틸레인, e스포츠 게임팀 DRX에 전략적 투자', 'originallink': 'http://www.onews.tv/news/articleView.html?idxno=103141', 'link': 'http://www.onews.tv/news/articleView.html?idxno=103141', 'description': '퍼틸레인은 오딘,\\xa0<b>메이플스토리</b>,\\xa0검은사막 등 다수의 대작 게임 캠페인을 성공적으로 런칭하며\\xa02009년 설립 이후 약\\xa010년 만에 국내 게임 업계 탑티어 에이전시로 발돋움했다.\\xa0최근 게임뿐만 아니라 금융,\\xa0커머스... ', 'pubDate': 'Wed, 15 Dec 2021 09:24:00 +0900'}, {'title': '[단독]넥슨 미국법인, 비트코인으로 게임 내 아이템 구매 지원한다', 'originallink': 'http://www.newsway.co.kr/news/view?tp=1&ud=2021121509214488309', 'link': 'http://www.newsway.co.kr/news/view?tp=1&ud=2021121509214488309', 'description': '이 기능을 통해 유저들은 비트코인, 이더리움, 도지코인 등 가상자산을 사용해 <b>메이플스토리</b>, 카트라이더, 마비노기, 빈딕투스, V4 등 넥슨 게임의 아이템을 구매할 수 있을 전망이다. 아이템 거래를 위해 사용하는... ', 'pubDate': 'Wed, 15 Dec 2021 09:24:00 +0900'}, {'title': '마케팅 기업 퍼틸레인, DRX에 전략적 투자', 'originallink': 'https://www.fomos.kr/redirect/news_view?news_cate_id=13&entry_id=106387', 'link': 'https://sports.news.naver.com/news.nhn?oid=236&aid=0000219473', 'description': '퍼틸레인은 오딘,\\xa0<b>메이플스토리</b>,\\xa0검은사막 등 다수의 대작 게임 캠페인을 성공적으로 런칭했다. 또한 게임뿐만 아니라 금융,\\xa0커머스,\\xa0플랫폼 등 마케팅 범위를 넓히며 디지털 마케팅 인프라 기업으로 변모하고... ', 'pubDate': 'Wed, 15 Dec 2021 09:19:00 +0900'}, {'title': '유튜버 자빱, 열정페이 강요 의혹 &quot;시급 2천원·월급 35만원&quot;', 'originallink': 'http://star.mk.co.kr/new/view.php?mc=ST&year=2021&no=1136677', 'link': 'https://news.naver.com/main/read.naver?mode=LSD&mid=sec&sid1=102&oid=009&aid=0004893911', 'description': '자빱은 주로 마인크래프트, 모여봐요 동물의 숲, <b>메이플 스토리</b>, 오버워치 등 인기 게임을 플레이하는 콘텐츠를 공개하는 유튜버로 14만 구독자를 보유 중이다. 얼굴이나 실명, 나이 등 정보는 공개하지 않고 있다.', 'pubDate': 'Wed, 15 Dec 2021 09:10:00 +0900'}, {'title': '넥슨 상장 10주년, 기업가치 4배 뛰었다', 'originallink': 'https://www.ajunews.com/view/20211215075206142', 'link': 'https://www.ajunews.com/view/20211215075206142', 'description': '넥슨은 <b>메이플스토리</b> 개발사 위젯과 던전앤파이터를 개발한 네오플 등의 인수합병을 통한 성장이 기업가치 증대에 핵심 축으로 작용한 만큼, 글로벌 게임사에 대한 M&amp;A 또한 염두에 두고 있었다. 넥슨은 창업 이후... ', 'pubDate': 'Wed, 15 Dec 2021 09:08:00 +0900'}, {'title': '상장 10주년 맞이한 넥슨, 미래 10년 위한 신규 IP 발굴에 총력... 이정헌 대...', 'originallink': 'http://gamefocus.co.kr/detail.php?number=124743', 'link': 'http://gamefocus.co.kr/detail.php?number=124743', 'description': \"상장 이후 넥슨은 장기간 서비스해온 '<b>메이플스토리</b>', '던전앤파이터', '서든어택' 등 PC 온라인 스테디셀러의 안정적인 성장과 'HIT'를 시작으로 '다크어벤저 3', '액스(AxE)', 'V4', '카트라이더 러쉬플러스', '바람의나라... \", 'pubDate': 'Wed, 15 Dec 2021 09:04:00 +0900'}, {'title': '메타버스 뛰어든 게임 3N...각기 다른 3색 전략', 'originallink': 'http://www.digitaltoday.co.kr/news/articleView.html?idxno=428448', 'link': 'http://www.digitaltoday.co.kr/news/articleView.html?idxno=428448', 'description': \"넥슨은 <b>메이플스토리</b> 지식재산권(IP)을 기반으로 한 메타버스 생태계 구축에 한창이다. 넥슨은 메타버스 신작 플랫폼 '프로젝트 MOD'를 개발 중이다. 프로젝트 MOD는 <b>메이플스토리</b> 그래픽 자산을 이용자가 적극적으로... \", 'pubDate': 'Wed, 15 Dec 2021 07:38:00 +0900'}, {'title': '[日상장 10주년]①&quot;세계로 가겠다&quot;던 넥슨, 10년 새 기업가치 4배 키웠다', 'originallink': 'https://www.news1.kr/articles/?4522975', 'link': 'https://news.naver.com/main/read.naver?mode=LSD&mid=sec&sid1=105&oid=421&aid=0005784671', 'description': '넥슨은 <b>메이플스토리</b> 개발사 위젯과 던전앤파이터를 개발한 네오플 등의 인수 합병(M&amp;A)을 통한 성장이 기업가치 증대에 핵심축으로 작용한 만큼, 글로벌 게임사에 대한 M&amp;A 또한 염두에 두고 있었다. 어느 정도 규모... ', 'pubDate': 'Wed, 15 Dec 2021 07:00:00 +0900'}, {'title': \"[위클리 PC방]블리자드 대표 프랜차이즈 '약진'\", 'originallink': 'http://www.khgames.co.kr/news/articleView.html?idxno=132758', 'link': 'http://www.khgames.co.kr/news/articleView.html?idxno=132758', 'description': \"'<b>메이플스토리</b>'는 전주 대비 사용시간이 2.3% 증가했고, '발로란트'도 사용량이 3.5% 늘었다. '<b>메이플스토리</b>'는 유저 쇼케이스 'DESTINY' 일정을 23일로 예고해 이용자들의 기대감을 높였고, '발로란트'는 'VAL 조각... \", 'pubDate': 'Tue, 14 Dec 2021 16:30:00 +0900'}, {'title': \"이재명·안철수 &quot;확률아이템 정보 공개&quot;… 게이머 '표심' 구애\", 'originallink': 'http://news.mt.co.kr/mtview.php?no=2021121414433362077', 'link': 'https://news.naver.com/main/read.naver?mode=LSD&mid=sec&sid1=100&oid=008&aid=0004683263', 'description': \"특히 올해 3월 불거진 넥슨의 '<b>메이플스토리</b>' 확률 조작 논란은 자율규제 신뢰도를 떨어뜨리고 입법 규제 여론이 확산한 결정적 계기였다. 확률아이템 입법 규제의 핵심은 확률정보 공개 의무를 부과하고 처벌 근거를... \", 'pubDate': 'Tue, 14 Dec 2021 16:27:00 +0900'}, {'title': 'P2E 퇴출 소식에 게이머들이 분노한 이유 [아이티라떼]', 'originallink': 'http://news.mk.co.kr/newsRead.php?no=1135681&year=2021', 'link': 'https://news.naver.com/main/read.naver?mode=LSD&mid=sec&sid1=105&oid=009&aid=0004893610', 'description': \"십수 년 전에 등장한 리니지, <b>메이플스토리</b>를 비롯한 다른 게임들은 무돌 삼국지처럼 공식적으로 현금 환전 기능을 제공하고 있지는 않습니다. 하지만 실제로는 '아이템매니아' 같은 인터넷 사이트를 통해 얼마든지... \", 'pubDate': 'Tue, 14 Dec 2021 16:03:00 +0900'}, {'title': '넥슨의 과거와 현재, 그리고 미래', 'originallink': 'http://www.gameshot.net/common/con_view.php?code=GA61b83e8769d51', 'link': 'http://www.gameshot.net/common/con_view.php?code=GA61b83e8769d51', 'description': '상장 이후 넥슨은 장기간 서비스해온 ‘<b>메이플스토리</b>’, ‘던전앤파이터’, ‘서든어택’ 등 PC 온라인 스테디셀러의 안정적인 성장과 ‘HIT’를 시작으로 ‘다크어벤저 3’, ‘액스(AxE)’, ‘V4’, ‘카트라이더... ', 'pubDate': 'Tue, 14 Dec 2021 15:52:00 +0900'}, {'title': '넥슨, 10년 사이 기업가치 4배…향후 10년 위한 준비도 ‘척척’', 'originallink': 'http://game.mk.co.kr/view.php?year=2021&no=1135640', 'link': 'https://news.naver.com/main/read.naver?mode=LSD&mid=sec&sid1=105&oid=009&aid=0004893603', 'description': '◆안정적인 PC게임 매출에 모바일 진입도 ‘성공적’ 넥슨의 성장 뒤에는 장기간 서비스해온 ‘<b>메이플스토리</b>’, ‘던전앤파이터’, ‘서든어택’ 등의 대표 PC온라인 게임의 안정적인 성과와 ’히트’를 비롯해... ', 'pubDate': 'Tue, 14 Dec 2021 15:51:00 +0900'}, {'title': '5.7조→ 20.8조… 넥슨, 일본 상장 10년만에 기업가치 4배 뛰었다', 'originallink': 'https://www.news2day.co.kr/article/20211214500159', 'link': 'https://www.news2day.co.kr/article/20211214500159', 'description': '넥슨은 일본 상장 이후 <b>메이플스토리</b> 개발사 위젯과 던전앤파이터를 만든 네오플 등을 인수·합병(M&amp;A)하는 등 새로운 성장 동력 확보를 위해 다양한 시도를 거듭해 왔다. 올해 잠시 ‘숨 고르기 시즌’을 보낸 넥슨은... ', 'pubDate': 'Tue, 14 Dec 2021 15:14:00 +0900'}, {'title': \"'상장 10주년' 넥슨, 기업가치 4배 커졌다\", 'originallink': 'https://www.gametoc.co.kr/news/articleView.html?idxno=64016', 'link': 'https://www.gametoc.co.kr/news/articleView.html?idxno=64016', 'description': \"상장 이후 넥슨은 장기간 서비스해온 '<b>메이플스토리</b>' '던전앤파이터' '서든어택' 등 PC 온라인 스테디셀러의 안정적인 성장과 'HIT(히트)'를 시작으로 '다크어벤저3' '액스(AxE)' 'V4' '카트라이더 러쉬플러스' '바람의나라... \", 'pubDate': 'Tue, 14 Dec 2021 15:00:00 +0900'}, {'title': '넥슨, 日 증시 상장 10년만에 시가총액 4배', 'originallink': 'https://sports.hankooki.com/lpage/economy/202112/sp20211214144809137000.htm?s_ref=nv', 'link': 'https://sports.hankooki.com/lpage/economy/202112/sp20211214144809137000.htm?s_ref=nv', 'description': '실제 넥슨은 <b>메이플스토리</b> 개발사 위젯과 던전앤파이터를 개발한 네오플 등의 인수 합병을 통한 성장이 기업가치 증대에 핵심 축으로 작용한 만큼 글로벌 게임사에 대한 M&amp;A 또한 염두에 두고 있었다. 상장 이후... ', 'pubDate': 'Tue, 14 Dec 2021 14:52:00 +0900'}, {'title': '상장 10주년 넥슨, PC·모바일 매출 균형…내년 신작·인재영입 주력', 'originallink': 'http://www.inews24.com/view/1432323', 'link': 'https://news.naver.com/main/read.naver?mode=LSD&mid=sec&sid1=105&oid=031&aid=0000642310', 'description': \"넥슨은 '바람의나라', '크레이지아케이드 비엔비' 등 자체개발 IP(지식재산권)와 함께 2004년 '<b>메이플스토리</b>' 개발사 위젯을 인수하며 우수 IP 확보에 본격적으로 나섰다. 이후 2008년 7월 '던전앤파이터' 개발사 네오플... \", 'pubDate': 'Tue, 14 Dec 2021 14:36:00 +0900'}, {'title': '넥슨 日 증시 상장 10년, 시총 5.7조 기업이 30조 기업으로...글로벌 게임사 ...', 'originallink': 'https://www.techm.kr/news/articleView.html?idxno=92041', 'link': 'https://www.techm.kr/news/articleView.html?idxno=92041', 'description': '넥슨은 <b>메이플스토리</b> 개발사 위젯과 던전앤파이터를 개발한 네오플 등의 인수 합병을 통한 성장이 기업가치 증대에 핵심 축으로 작용한 만큼, 글로벌 게임사에 대한 M&amp;A 또한 염두에 두고 있었다. 일정 규모 이상의... ', 'pubDate': 'Tue, 14 Dec 2021 14:18:00 +0900'}, {'title': '상장 10주년 넥슨 &quot;재미 충실한 게임으로 10년 준비 중&quot;', 'originallink': 'https://www.fomos.kr/redirect/news_view?news_cate_id=2&entry_id=106371', 'link': 'https://sports.news.naver.com/news.nhn?oid=236&aid=0000219461', 'description': \"상장 이후 넥슨은 장기간 서비스해온 '<b>메이플스토리</b>' '던전앤파이터' '서든어택' '피파온라인 4' 등 PC 온라인 게임의 안정적인 성장과 '히트(HIT)'를 시작으로 '다크어벤저 3' '액스(AxE)' 'V4' '카트라이더 러쉬플러스... \", 'pubDate': 'Tue, 14 Dec 2021 14:17:00 +0900'}]}\n",
      "50816\n"
     ]
    }
   ],
   "source": [
    "main()"
   ]
  },
  {
   "cell_type": "code",
   "execution_count": 24,
   "id": "94ab3931",
   "metadata": {},
   "outputs": [
    {
     "data": {
      "text/plain": [
       "0"
      ]
     },
     "execution_count": 24,
     "metadata": {},
     "output_type": "execute_result"
    }
   ],
   "source": [
    "5001//50000 "
   ]
  },
  {
   "cell_type": "code",
   "execution_count": 26,
   "id": "9faacaf4",
   "metadata": {},
   "outputs": [
    {
     "name": "stdout",
     "output_type": "stream",
     "text": [
      "bbbbb\n"
     ]
    }
   ],
   "source": [
    "if 500001 // 50000 == range(0,20):\n",
    "    print('aaaa')\n",
    "else:\n",
    "    print('bbbbb')"
   ]
  },
  {
   "cell_type": "code",
   "execution_count": null,
   "id": "37c3f775",
   "metadata": {},
   "outputs": [],
   "source": []
  }
 ],
 "metadata": {
  "kernelspec": {
   "display_name": "Python 3 (ipykernel)",
   "language": "python",
   "name": "python3"
  },
  "language_info": {
   "codemirror_mode": {
    "name": "ipython",
    "version": 3
   },
   "file_extension": ".py",
   "mimetype": "text/x-python",
   "name": "python",
   "nbconvert_exporter": "python",
   "pygments_lexer": "ipython3",
   "version": "3.9.7"
  },
  "toc": {
   "base_numbering": 1,
   "nav_menu": {},
   "number_sections": true,
   "sideBar": true,
   "skip_h1_title": false,
   "title_cell": "Table of Contents",
   "title_sidebar": "Contents",
   "toc_cell": false,
   "toc_position": {},
   "toc_section_display": true,
   "toc_window_display": false
  }
 },
 "nbformat": 4,
 "nbformat_minor": 5
}
