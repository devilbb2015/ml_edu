{
 "cells": [
  {
   "cell_type": "code",
   "execution_count": 80,
   "id": "cd5b25c8",
   "metadata": {},
   "outputs": [],
   "source": [
    "from sklearn.feature_extraction.text import TfidfVectorizer, CountVectorizer"
   ]
  },
  {
   "cell_type": "markdown",
   "id": "62e904ee",
   "metadata": {},
   "source": [
    "## 감정분류기\n",
    "- 긍정/부정 사전을 만들어보세요.\n",
    "- input () 이용해서, 문장을 받으면, 긍정인지 부정인지 판단해보세요.\n",
    "- if-idf vectorizer를 사용해주세요."
   ]
  },
  {
   "cell_type": "code",
   "execution_count": 81,
   "id": "57fc4774",
   "metadata": {},
   "outputs": [],
   "source": [
    "dic_pos = [\n",
    "    '임금인상','좋은','행복한','행복하다','좋은','친구','사람','이야기','좋아하다','안전','효과적','가능하다','희망','적극적','도움'\n",
    "]\n",
    "dic_neg = [\n",
    "    '부담','임금체불','차별','미지급','위반','불평등','부담','우려','부작용','차별','피해','논란','힘들다','싫다','나쁘다','무섭다','아쉽다'\n",
    "]"
   ]
  },
  {
   "cell_type": "code",
   "execution_count": 82,
   "id": "28cc078a",
   "metadata": {},
   "outputs": [],
   "source": [
    "tfidf = TfidfVectorizer()"
   ]
  },
  {
   "cell_type": "code",
   "execution_count": 83,
   "id": "c0959d83",
   "metadata": {},
   "outputs": [
    {
     "name": "stdout",
     "output_type": "stream",
     "text": [
      "임금인상 좋은 기회 행복한 불평등\n"
     ]
    },
    {
     "data": {
      "text/plain": [
       "['임금인상 좋은 기회 행복한 불평등']"
      ]
     },
     "execution_count": 83,
     "metadata": {},
     "output_type": "execute_result"
    }
   ],
   "source": [
    "sentense = [input()]\n",
    "sentense\n",
    "# 임금인상 좋은 기회 행복한 불평등"
   ]
  },
  {
   "cell_type": "code",
   "execution_count": 84,
   "id": "1bc4fa87",
   "metadata": {},
   "outputs": [],
   "source": [
    "tfidf_pos = tfidf.fit(dic_pos)"
   ]
  },
  {
   "cell_type": "code",
   "execution_count": 85,
   "id": "65f9df89",
   "metadata": {},
   "outputs": [
    {
     "data": {
      "text/plain": [
       "array([[0.        , 0.        , 0.        , 0.        , 0.        ,\n",
       "        0.60258463, 0.        , 0.        , 0.52324328, 0.        ,\n",
       "        0.        , 0.60258463, 0.        , 0.        ]])"
      ]
     },
     "execution_count": 85,
     "metadata": {},
     "output_type": "execute_result"
    }
   ],
   "source": [
    "result1 = tfidf_pos.transform(sentense).toarray()\n",
    "result1"
   ]
  },
  {
   "cell_type": "code",
   "execution_count": 86,
   "id": "71d93836",
   "metadata": {},
   "outputs": [],
   "source": [
    "tfidf_neg = tfidf.fit(dic_neg)"
   ]
  },
  {
   "cell_type": "code",
   "execution_count": 88,
   "id": "78e98c94",
   "metadata": {},
   "outputs": [
    {
     "data": {
      "text/plain": [
       "array([[0., 0., 0., 0., 0., 0., 1., 0., 0., 0., 0., 0., 0., 0., 0.]])"
      ]
     },
     "execution_count": 88,
     "metadata": {},
     "output_type": "execute_result"
    }
   ],
   "source": [
    "result2 = tfidf_neg.transform(sentense).toarray()\n",
    "result2"
   ]
  },
  {
   "cell_type": "code",
   "execution_count": 89,
   "id": "5d02af94",
   "metadata": {},
   "outputs": [
    {
     "data": {
      "text/plain": [
       "3"
      ]
     },
     "execution_count": 89,
     "metadata": {},
     "output_type": "execute_result"
    }
   ],
   "source": [
    "result1_count = 0\n",
    "for count in result1[0][:]:\n",
    "    if count != 0:\n",
    "        result1_count += 1\n",
    "result1_count"
   ]
  },
  {
   "cell_type": "code",
   "execution_count": 90,
   "id": "7705ae62",
   "metadata": {},
   "outputs": [
    {
     "data": {
      "text/plain": [
       "1"
      ]
     },
     "execution_count": 90,
     "metadata": {},
     "output_type": "execute_result"
    }
   ],
   "source": [
    "result2_count = 0\n",
    "for count in result2[0][:]:\n",
    "    if count != 0:\n",
    "        result2_count += 1\n",
    "result2_count"
   ]
  },
  {
   "cell_type": "code",
   "execution_count": 91,
   "id": "2c3e4637",
   "metadata": {},
   "outputs": [
    {
     "name": "stdout",
     "output_type": "stream",
     "text": [
      "긍정\n"
     ]
    }
   ],
   "source": [
    "if result1_count >= result2_count :\n",
    "    print(\"긍정\")\n",
    "else:\n",
    "    print(\"부정\")"
   ]
  },
  {
   "cell_type": "code",
   "execution_count": null,
   "id": "6eb6f840",
   "metadata": {},
   "outputs": [],
   "source": []
  }
 ],
 "metadata": {
  "kernelspec": {
   "display_name": "Python 3 (ipykernel)",
   "language": "python",
   "name": "python3"
  },
  "language_info": {
   "codemirror_mode": {
    "name": "ipython",
    "version": 3
   },
   "file_extension": ".py",
   "mimetype": "text/x-python",
   "name": "python",
   "nbconvert_exporter": "python",
   "pygments_lexer": "ipython3",
   "version": "3.9.7"
  },
  "toc": {
   "base_numbering": 1,
   "nav_menu": {},
   "number_sections": true,
   "sideBar": true,
   "skip_h1_title": false,
   "title_cell": "Table of Contents",
   "title_sidebar": "Contents",
   "toc_cell": false,
   "toc_position": {},
   "toc_section_display": true,
   "toc_window_display": false
  }
 },
 "nbformat": 4,
 "nbformat_minor": 5
}
