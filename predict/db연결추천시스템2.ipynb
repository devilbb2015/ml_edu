{
 "cells": [
  {
   "cell_type": "code",
   "execution_count": 1,
   "id": "b66652e7",
   "metadata": {},
   "outputs": [
    {
     "name": "stdout",
     "output_type": "stream",
     "text": [
      "Collecting pymysql\n",
      "  Using cached PyMySQL-1.0.2-py3-none-any.whl (43 kB)\n",
      "Installing collected packages: pymysql\n",
      "Successfully installed pymysql-1.0.2\n"
     ]
    }
   ],
   "source": [
    "!pip install pymysql"
   ]
  },
  {
   "cell_type": "code",
   "execution_count": 2,
   "id": "29b12d4c",
   "metadata": {},
   "outputs": [],
   "source": [
    "import pymysql"
   ]
  },
  {
   "cell_type": "code",
   "execution_count": 7,
   "id": "6f2fbb53",
   "metadata": {},
   "outputs": [
    {
     "name": "stdout",
     "output_type": "stream",
     "text": [
      "1. 연결성공\n"
     ]
    }
   ],
   "source": [
    "con = pymysql.connect(host='localhost' , port=3306 , user ='root', password = '1234', db='mldb',charset = 'utf8')\n",
    "con\n",
    "print('1. 연결성공')"
   ]
  },
  {
   "cell_type": "code",
   "execution_count": 10,
   "id": "c73b470b",
   "metadata": {},
   "outputs": [
    {
     "name": "stdout",
     "output_type": "stream",
     "text": [
      "2. 커서 객체 획득\n"
     ]
    }
   ],
   "source": [
    "cur = con.cursor()\n",
    "cur\n",
    "print('2. 커서 객체 획득')"
   ]
  },
  {
   "cell_type": "code",
   "execution_count": 12,
   "id": "bb0448ec",
   "metadata": {},
   "outputs": [
    {
     "name": "stdout",
     "output_type": "stream",
     "text": [
      "3. sql전송 성공  15\n"
     ]
    }
   ],
   "source": [
    "sql= 'select * from member'\n",
    "result = cur.execute(sql)\n",
    "result \n",
    "print('3. sql전송 성공 ', result )"
   ]
  },
  {
   "cell_type": "code",
   "execution_count": 13,
   "id": "948c6188",
   "metadata": {},
   "outputs": [
    {
     "name": "stdout",
     "output_type": "stream",
     "text": [
      "4. 검색결과 ------------\n",
      "(('alicia', 'a100', 'lim', '010'), ('apple', 'apple', 'apple', '555555555'), ('apple111', 'spring', 'hong', '111'), ('com', 'com', 'com', 'com'), ('park', 'park', 'park', '888'), ('pen', 'pen00', 'lim', '010'), ('spring', 'spring', 'spring', 'spring'), ('summer', 'summer', 'summer', 'summer'), ('sun', 'sun', 'sun', 'sun'), ('sunday2', 'sunday2', 'sunday2', 'sunday2'), ('water', 'w1000', 'park', '011'), ('win', 'win', 'win', 'win'), ('win2', 'win2', 'win2', 'win2'), ('win3', 'win3', 'win3', 'win3'), ('winter', 'winter', 'winter', 'winter'))\n"
     ]
    }
   ],
   "source": [
    "rows = cur.fetchall()\n",
    "print('4. 검색결과 ------------')\n",
    "print(rows)"
   ]
  },
  {
   "cell_type": "code",
   "execution_count": 14,
   "id": "602d393b",
   "metadata": {},
   "outputs": [],
   "source": [
    "con.close()"
   ]
  },
  {
   "cell_type": "code",
   "execution_count": 18,
   "id": "b162d19e",
   "metadata": {},
   "outputs": [
    {
     "name": "stdout",
     "output_type": "stream",
     "text": [
      "0 alicia\n",
      "1 apple\n",
      "2 apple111\n",
      "3 com\n",
      "4 park\n",
      "5 pen\n",
      "6 spring\n",
      "7 summer\n",
      "8 sun\n",
      "9 sunday2\n",
      "10 water\n",
      "11 win\n",
      "12 win2\n",
      "13 win3\n",
      "14 winter\n"
     ]
    }
   ],
   "source": [
    "for index, row in enumerate(rows) : \n",
    "    print(index, row[0])"
   ]
  },
  {
   "cell_type": "code",
   "execution_count": 22,
   "id": "3c13e03c",
   "metadata": {},
   "outputs": [
    {
     "name": "stdout",
     "output_type": "stream",
     "text": [
      "\n",
      "SELECT m.name, m.tell, b.contant from board b \n",
      "inner join member m on m.id =b.writer \n",
      "WHERE content like '%java%' \n"
     ]
    }
   ],
   "source": [
    "sql = \"\"\"\n",
    "SELECT m.name, m.tell, b.contant from board b \n",
    "inner join member m on m.id =b.writer \n",
    "WHERE content like '%java%' \"\"\"\n",
    "\n",
    "print(sql)"
   ]
  },
  {
   "cell_type": "code",
   "execution_count": 23,
   "id": "0dbafe00",
   "metadata": {},
   "outputs": [],
   "source": [
    "def connect():\n",
    "    con = pymysql.connect(host='localhost' , \n",
    "                          port=3306 , user ='root', \n",
    "                          password = '1234', db='mldb',charset = 'utf8')\n",
    "    print('1.연결성공')\n",
    "    cur=con.cursor()\n",
    "    print('2. 커서객체 획득')\n",
    "    return cur, con"
   ]
  },
  {
   "cell_type": "code",
   "execution_count": 25,
   "id": "404ab779",
   "metadata": {},
   "outputs": [
    {
     "name": "stdout",
     "output_type": "stream",
     "text": [
      "1.연결성공\n",
      "2. 커서객체 획득\n"
     ]
    },
    {
     "data": {
      "text/plain": [
       "<pymysql.cursors.Cursor at 0x27c694e87f0>"
      ]
     },
     "execution_count": 25,
     "metadata": {},
     "output_type": "execute_result"
    }
   ],
   "source": [
    "cur2 , con =connect()\n",
    "cur2"
   ]
  },
  {
   "cell_type": "code",
   "execution_count": 32,
   "id": "9e455255",
   "metadata": {},
   "outputs": [],
   "source": [
    "def sql_execute(cur2, data):\n",
    "    sql = \"\"\"\n",
    "    select o2.orderid, m.name, o2.productid, o2.totalprice\n",
    "    from orderlist o2\n",
    "    inner join `member` m \n",
    "    on o2.memberid = m.id and m.id = %s \n",
    "    order by productid desc\n",
    "    \"\"\"\n",
    "    result = cur2.execute(sql,data)\n",
    "    return result "
   ]
  },
  {
   "cell_type": "code",
   "execution_count": 47,
   "id": "32f564a3",
   "metadata": {},
   "outputs": [
    {
     "data": {
      "text/plain": [
       "4"
      ]
     },
     "execution_count": 47,
     "metadata": {},
     "output_type": "execute_result"
    }
   ],
   "source": [
    "sql_result = sql_execute(cur2,'park')\n",
    "sql_result"
   ]
  },
  {
   "cell_type": "code",
   "execution_count": 48,
   "id": "2eebb959",
   "metadata": {},
   "outputs": [
    {
     "name": "stdout",
     "output_type": "stream",
     "text": [
      "누가?? >> park\n"
     ]
    },
    {
     "data": {
      "text/plain": [
       "4"
      ]
     },
     "execution_count": 48,
     "metadata": {},
     "output_type": "execute_result"
    }
   ],
   "source": [
    "who= input('누가?? >> ')\n",
    "sql_result2 = sql_execute(cur2,who)\n",
    "sql_result2 "
   ]
  },
  {
   "cell_type": "code",
   "execution_count": 42,
   "id": "b3f7f5d6",
   "metadata": {},
   "outputs": [],
   "source": [
    "def out_data(cur2):\n",
    "    rows = cur2.fetchall()\n",
    "    return rows "
   ]
  },
  {
   "cell_type": "code",
   "execution_count": 49,
   "id": "87561836",
   "metadata": {},
   "outputs": [
    {
     "data": {
      "text/plain": [
       "((2, 'park', '101', 6000),\n",
       " (1, 'park', '100', 5000),\n",
       " (3, 'park', '100', 10000),\n",
       " (4, 'park', '100', 3000))"
      ]
     },
     "execution_count": 49,
     "metadata": {},
     "output_type": "execute_result"
    }
   ],
   "source": [
    "result_rows = out_data(cur2)\n",
    "result_rows"
   ]
  },
  {
   "cell_type": "code",
   "execution_count": 51,
   "id": "1c9fa8db",
   "metadata": {},
   "outputs": [],
   "source": [
    "def db_close(con):\n",
    "    con.close()"
   ]
  },
  {
   "cell_type": "code",
   "execution_count": 52,
   "id": "fe191f22",
   "metadata": {},
   "outputs": [],
   "source": [
    "db_close(con)"
   ]
  },
  {
   "cell_type": "code",
   "execution_count": 53,
   "id": "f597fc77",
   "metadata": {},
   "outputs": [],
   "source": [
    "## 제일 높은 금액은?"
   ]
  },
  {
   "cell_type": "code",
   "execution_count": 55,
   "id": "8186e28a",
   "metadata": {},
   "outputs": [
    {
     "data": {
      "text/plain": [
       "[6000, 5000, 10000, 3000]"
      ]
     },
     "execution_count": 55,
     "metadata": {},
     "output_type": "execute_result"
    }
   ],
   "source": [
    "[x[3] for x in result_rows]"
   ]
  },
  {
   "cell_type": "code",
   "execution_count": 58,
   "id": "b27c15f2",
   "metadata": {},
   "outputs": [
    {
     "data": {
      "text/plain": [
       "10000"
      ]
     },
     "execution_count": 58,
     "metadata": {},
     "output_type": "execute_result"
    }
   ],
   "source": [
    "max([x[3] for x in result_rows])"
   ]
  },
  {
   "cell_type": "code",
   "execution_count": 59,
   "id": "c1979c55",
   "metadata": {},
   "outputs": [],
   "source": [
    "## 제일 많이 산 물건의 id는?"
   ]
  },
  {
   "cell_type": "code",
   "execution_count": 60,
   "id": "347efe76",
   "metadata": {},
   "outputs": [],
   "source": [
    "import pandas as pd"
   ]
  },
  {
   "cell_type": "code",
   "execution_count": 70,
   "id": "6b81b2b6",
   "metadata": {},
   "outputs": [],
   "source": [
    "result_df = pd.DataFrame(data= result_rows, columns=['주문id','name','제품id','주문총가격'])"
   ]
  },
  {
   "cell_type": "code",
   "execution_count": 71,
   "id": "de924192",
   "metadata": {},
   "outputs": [
    {
     "data": {
      "text/html": [
       "<div>\n",
       "<style scoped>\n",
       "    .dataframe tbody tr th:only-of-type {\n",
       "        vertical-align: middle;\n",
       "    }\n",
       "\n",
       "    .dataframe tbody tr th {\n",
       "        vertical-align: top;\n",
       "    }\n",
       "\n",
       "    .dataframe thead th {\n",
       "        text-align: right;\n",
       "    }\n",
       "</style>\n",
       "<table border=\"1\" class=\"dataframe\">\n",
       "  <thead>\n",
       "    <tr style=\"text-align: right;\">\n",
       "      <th></th>\n",
       "      <th>주문id</th>\n",
       "      <th>name</th>\n",
       "      <th>제품id</th>\n",
       "      <th>주문총가격</th>\n",
       "    </tr>\n",
       "  </thead>\n",
       "  <tbody>\n",
       "    <tr>\n",
       "      <th>0</th>\n",
       "      <td>2</td>\n",
       "      <td>park</td>\n",
       "      <td>101</td>\n",
       "      <td>6000</td>\n",
       "    </tr>\n",
       "    <tr>\n",
       "      <th>1</th>\n",
       "      <td>1</td>\n",
       "      <td>park</td>\n",
       "      <td>100</td>\n",
       "      <td>5000</td>\n",
       "    </tr>\n",
       "    <tr>\n",
       "      <th>2</th>\n",
       "      <td>3</td>\n",
       "      <td>park</td>\n",
       "      <td>100</td>\n",
       "      <td>10000</td>\n",
       "    </tr>\n",
       "    <tr>\n",
       "      <th>3</th>\n",
       "      <td>4</td>\n",
       "      <td>park</td>\n",
       "      <td>100</td>\n",
       "      <td>3000</td>\n",
       "    </tr>\n",
       "  </tbody>\n",
       "</table>\n",
       "</div>"
      ],
      "text/plain": [
       "   주문id  name 제품id  주문총가격\n",
       "0     2  park  101   6000\n",
       "1     1  park  100   5000\n",
       "2     3  park  100  10000\n",
       "3     4  park  100   3000"
      ]
     },
     "execution_count": 71,
     "metadata": {},
     "output_type": "execute_result"
    }
   ],
   "source": [
    "result_df"
   ]
  },
  {
   "cell_type": "code",
   "execution_count": 96,
   "id": "639f2cda",
   "metadata": {},
   "outputs": [],
   "source": [
    "from collections import Counter"
   ]
  },
  {
   "cell_type": "code",
   "execution_count": 97,
   "id": "fd154d02",
   "metadata": {},
   "outputs": [],
   "source": [
    "counter_id = Counter(result_df['제품id'])"
   ]
  },
  {
   "cell_type": "code",
   "execution_count": 98,
   "id": "561e66c6",
   "metadata": {},
   "outputs": [
    {
     "data": {
      "text/plain": [
       "Counter({'101': 1, '100': 3})"
      ]
     },
     "execution_count": 98,
     "metadata": {},
     "output_type": "execute_result"
    }
   ],
   "source": [
    "counter_id"
   ]
  },
  {
   "cell_type": "code",
   "execution_count": 99,
   "id": "2c0cbcce",
   "metadata": {},
   "outputs": [
    {
     "data": {
      "text/plain": [
       "'100'"
      ]
     },
     "execution_count": 99,
     "metadata": {},
     "output_type": "execute_result"
    }
   ],
   "source": [
    "max_id= counter_id.most_common(n=1)\n",
    "# print(max_id)\n",
    "# print(max_id[0][0])\n",
    "max_id_result = max_id[0][0]\n",
    "max_id_result"
   ]
  },
  {
   "cell_type": "code",
   "execution_count": 100,
   "id": "74005234",
   "metadata": {},
   "outputs": [],
   "source": [
    "def sql_excute2(cur2,data):\n",
    "    sql=\"\"\"\n",
    "    select * from product\n",
    "    where id =%s\n",
    "    \"\"\"\n",
    "    result2= cur2.execute(sql,data)\n",
    "    return result2"
   ]
  },
  {
   "cell_type": "code",
   "execution_count": 101,
   "id": "298ab26d",
   "metadata": {},
   "outputs": [
    {
     "name": "stdout",
     "output_type": "stream",
     "text": [
      "1.연결성공\n",
      "2. 커서객체 획득\n"
     ]
    },
    {
     "data": {
      "text/plain": [
       "<pymysql.cursors.Cursor at 0x27c6c417430>"
      ]
     },
     "execution_count": 101,
     "metadata": {},
     "output_type": "execute_result"
    }
   ],
   "source": [
    "cur2, con =connect()\n",
    "cur2"
   ]
  },
  {
   "cell_type": "code",
   "execution_count": 102,
   "id": "46287e1e",
   "metadata": {},
   "outputs": [
    {
     "data": {
      "text/plain": [
       "1"
      ]
     },
     "execution_count": 102,
     "metadata": {},
     "output_type": "execute_result"
    }
   ],
   "source": [
    "sql_result2= sql_excute2(cur2,max_id_result)\n",
    "sql_result2"
   ]
  },
  {
   "cell_type": "code",
   "execution_count": 103,
   "id": "01e43a18",
   "metadata": {},
   "outputs": [
    {
     "data": {
      "text/plain": [
       "(('100', 'java', 'fun java', '1000'),)"
      ]
     },
     "execution_count": 103,
     "metadata": {},
     "output_type": "execute_result"
    }
   ],
   "source": [
    "result_rows = out_data(cur2)\n",
    "result_rows"
   ]
  },
  {
   "cell_type": "code",
   "execution_count": 104,
   "id": "02e88d85",
   "metadata": {},
   "outputs": [
    {
     "name": "stdout",
     "output_type": "stream",
     "text": [
      "당신에게 추천하고 싶은 물건은 다음과 같습니다.\n",
      "-----------------------------------------------\n",
      "물건의 이름은  java\n",
      "물건의 내용은  fun java\n",
      "물건의 가격은  1000\n"
     ]
    }
   ],
   "source": [
    "print('당신에게 추천하고 싶은 물건은 다음과 같습니다.')\n",
    "print('-----------------------------------------------')\n",
    "print('물건의 이름은 ' , result_rows[0][1])\n",
    "print('물건의 내용은 ' , result_rows[0][2])\n",
    "print('물건의 가격은 ' , result_rows[0][3])"
   ]
  },
  {
   "cell_type": "code",
   "execution_count": 105,
   "id": "a338e2bd",
   "metadata": {},
   "outputs": [],
   "source": [
    "def sql_excute3(con,cur2 , data):\n",
    "    sql = \"\"\"\n",
    "    insert into orderlist values (null,%s,%s,%s)\n",
    "    \"\"\"\n",
    "    result2 = cur2.execute(sql,data)\n",
    "    con.commit()\n",
    "    return result2 "
   ]
  },
  {
   "cell_type": "code",
   "execution_count": 106,
   "id": "2f6f78e9",
   "metadata": {},
   "outputs": [
    {
     "name": "stdout",
     "output_type": "stream",
     "text": [
      "구매하시겠습니까? (yes/no)  yes\n",
      "-----구매를 진행합니다. ----------\n",
      "당신의 id는 park\n",
      "-------구매 완료---------\n"
     ]
    }
   ],
   "source": [
    "order_question = input('구매하시겠습니까? (yes/no)  ')\n",
    "if order_question =='yes':\n",
    "    print('-----구매를 진행합니다. ----------')\n",
    "    your_id= input('당신의 id는 ')\n",
    "    data_list=[your_id, result_rows[0][0],int(result_rows[0][3])]\n",
    "    result3= sql_excute3(con,cur2,data_list)\n",
    "    if result3==1:\n",
    "        print('-------구매 완료---------')\n",
    "    else:\n",
    "        print('------구매 문제 발생')"
   ]
  },
  {
   "cell_type": "code",
   "execution_count": 107,
   "id": "605894f4",
   "metadata": {},
   "outputs": [
    {
     "name": "stdout",
     "output_type": "stream",
     "text": [
      "누가?? >> park\n"
     ]
    },
    {
     "data": {
      "text/plain": [
       "6"
      ]
     },
     "execution_count": 107,
     "metadata": {},
     "output_type": "execute_result"
    }
   ],
   "source": [
    "who= input('누가?? >> ')\n",
    "sql_result2 = sql_execute(cur2,who)\n",
    "sql_result2 "
   ]
  },
  {
   "cell_type": "code",
   "execution_count": 108,
   "id": "4a593d57",
   "metadata": {},
   "outputs": [],
   "source": [
    "def out_data(cur2):\n",
    "    rows = cur2.fetchall()\n",
    "    return rows "
   ]
  },
  {
   "cell_type": "code",
   "execution_count": 109,
   "id": "2666b50d",
   "metadata": {
    "scrolled": true
   },
   "outputs": [
    {
     "data": {
      "text/plain": [
       "((9, 'park', '109', 8000),\n",
       " (2, 'park', '101', 6000),\n",
       " (1, 'park', '100', 5000),\n",
       " (3, 'park', '100', 10000),\n",
       " (4, 'park', '100', 3000),\n",
       " (8, 'park', '100', 1000))"
      ]
     },
     "execution_count": 109,
     "metadata": {},
     "output_type": "execute_result"
    }
   ],
   "source": [
    "result_rows = out_data(cur2)\n",
    "result_rows"
   ]
  },
  {
   "cell_type": "code",
   "execution_count": 110,
   "id": "54cc1cea",
   "metadata": {},
   "outputs": [],
   "source": [
    "db_close(con)"
   ]
  },
  {
   "cell_type": "code",
   "execution_count": 111,
   "id": "c410c9df",
   "metadata": {},
   "outputs": [],
   "source": [
    "result_df2 = pd.DataFrame(data= result_rows, columns=['주문id','name','제품id','주문총가격'])"
   ]
  },
  {
   "cell_type": "code",
   "execution_count": 112,
   "id": "ad01ecd2",
   "metadata": {
    "scrolled": true
   },
   "outputs": [
    {
     "data": {
      "text/html": [
       "<div>\n",
       "<style scoped>\n",
       "    .dataframe tbody tr th:only-of-type {\n",
       "        vertical-align: middle;\n",
       "    }\n",
       "\n",
       "    .dataframe tbody tr th {\n",
       "        vertical-align: top;\n",
       "    }\n",
       "\n",
       "    .dataframe thead th {\n",
       "        text-align: right;\n",
       "    }\n",
       "</style>\n",
       "<table border=\"1\" class=\"dataframe\">\n",
       "  <thead>\n",
       "    <tr style=\"text-align: right;\">\n",
       "      <th></th>\n",
       "      <th>주문id</th>\n",
       "      <th>name</th>\n",
       "      <th>제품id</th>\n",
       "      <th>주문총가격</th>\n",
       "    </tr>\n",
       "  </thead>\n",
       "  <tbody>\n",
       "    <tr>\n",
       "      <th>0</th>\n",
       "      <td>9</td>\n",
       "      <td>park</td>\n",
       "      <td>109</td>\n",
       "      <td>8000</td>\n",
       "    </tr>\n",
       "    <tr>\n",
       "      <th>1</th>\n",
       "      <td>2</td>\n",
       "      <td>park</td>\n",
       "      <td>101</td>\n",
       "      <td>6000</td>\n",
       "    </tr>\n",
       "    <tr>\n",
       "      <th>2</th>\n",
       "      <td>1</td>\n",
       "      <td>park</td>\n",
       "      <td>100</td>\n",
       "      <td>5000</td>\n",
       "    </tr>\n",
       "    <tr>\n",
       "      <th>3</th>\n",
       "      <td>3</td>\n",
       "      <td>park</td>\n",
       "      <td>100</td>\n",
       "      <td>10000</td>\n",
       "    </tr>\n",
       "    <tr>\n",
       "      <th>4</th>\n",
       "      <td>4</td>\n",
       "      <td>park</td>\n",
       "      <td>100</td>\n",
       "      <td>3000</td>\n",
       "    </tr>\n",
       "    <tr>\n",
       "      <th>5</th>\n",
       "      <td>8</td>\n",
       "      <td>park</td>\n",
       "      <td>100</td>\n",
       "      <td>1000</td>\n",
       "    </tr>\n",
       "  </tbody>\n",
       "</table>\n",
       "</div>"
      ],
      "text/plain": [
       "   주문id  name 제품id  주문총가격\n",
       "0     9  park  109   8000\n",
       "1     2  park  101   6000\n",
       "2     1  park  100   5000\n",
       "3     3  park  100  10000\n",
       "4     4  park  100   3000\n",
       "5     8  park  100   1000"
      ]
     },
     "execution_count": 112,
     "metadata": {},
     "output_type": "execute_result"
    }
   ],
   "source": [
    "result_df2"
   ]
  },
  {
   "cell_type": "markdown",
   "id": "6dca8db4",
   "metadata": {},
   "source": [
    "### mini project \n",
    "\n",
    "\n",
    "추천 알고리즘 : 사용자가 가장 최근 구매한 물품의 카테고리와 같은 제품을 추천한다."
   ]
  },
  {
   "cell_type": "code",
   "execution_count": 202,
   "id": "31e421aa",
   "metadata": {},
   "outputs": [],
   "source": [
    "def connect():\n",
    "    con = pymysql.connect(host='localhost' , \n",
    "                          port=3306 , user ='root', \n",
    "                          password = '1234', db='mldb',charset = 'utf8')\n",
    "    print('1.연결성공')\n",
    "    cur=con.cursor()\n",
    "    print('2. 커서객체 획득')\n",
    "    return cur, con"
   ]
  },
  {
   "cell_type": "code",
   "execution_count": 203,
   "id": "b3203652",
   "metadata": {},
   "outputs": [
    {
     "name": "stdout",
     "output_type": "stream",
     "text": [
      "1.연결성공\n",
      "2. 커서객체 획득\n"
     ]
    }
   ],
   "source": [
    "cur2, con = connect()"
   ]
  },
  {
   "cell_type": "code",
   "execution_count": 204,
   "id": "500d8652",
   "metadata": {},
   "outputs": [],
   "source": [
    "def sql_execute4(cur3, data):\n",
    "    sql = \"\"\"\n",
    "    select o2.orderid, m.name, o2.productid, p.category\n",
    "    from orderlist o2\n",
    "    inner join `member` m \n",
    "    on o2.memberid = m.id and m.id = %s \n",
    "    inner join product p \n",
    "    on o2.productid = p.id \n",
    "    order by productid desc\n",
    "    \"\"\"\n",
    "    result = cur2.execute(sql,data)\n",
    "    return result "
   ]
  },
  {
   "cell_type": "code",
   "execution_count": 205,
   "id": "f8deed9d",
   "metadata": {},
   "outputs": [],
   "source": [
    "result = sql_execute4(cur, 'park')"
   ]
  },
  {
   "cell_type": "code",
   "execution_count": 206,
   "id": "a6ac1c7f",
   "metadata": {
    "scrolled": true
   },
   "outputs": [],
   "source": [
    "result_rows = out_data(cur2)"
   ]
  },
  {
   "cell_type": "code",
   "execution_count": 207,
   "id": "886ce3ff",
   "metadata": {},
   "outputs": [
    {
     "data": {
      "text/plain": [
       "((9, 'park', '109', 4),\n",
       " (2, 'park', '101', 2),\n",
       " (1, 'park', '100', 1),\n",
       " (3, 'park', '100', 1),\n",
       " (4, 'park', '100', 1),\n",
       " (8, 'park', '100', 1))"
      ]
     },
     "execution_count": 207,
     "metadata": {},
     "output_type": "execute_result"
    }
   ],
   "source": [
    "result_rows"
   ]
  },
  {
   "cell_type": "code",
   "execution_count": 208,
   "id": "b147cf91",
   "metadata": {
    "scrolled": true
   },
   "outputs": [
    {
     "data": {
      "text/html": [
       "<div>\n",
       "<style scoped>\n",
       "    .dataframe tbody tr th:only-of-type {\n",
       "        vertical-align: middle;\n",
       "    }\n",
       "\n",
       "    .dataframe tbody tr th {\n",
       "        vertical-align: top;\n",
       "    }\n",
       "\n",
       "    .dataframe thead th {\n",
       "        text-align: right;\n",
       "    }\n",
       "</style>\n",
       "<table border=\"1\" class=\"dataframe\">\n",
       "  <thead>\n",
       "    <tr style=\"text-align: right;\">\n",
       "      <th></th>\n",
       "      <th>orderid</th>\n",
       "      <th>이름</th>\n",
       "      <th>물건id</th>\n",
       "      <th>물건 카테고리</th>\n",
       "    </tr>\n",
       "  </thead>\n",
       "  <tbody>\n",
       "    <tr>\n",
       "      <th>0</th>\n",
       "      <td>9</td>\n",
       "      <td>park</td>\n",
       "      <td>109</td>\n",
       "      <td>4</td>\n",
       "    </tr>\n",
       "    <tr>\n",
       "      <th>1</th>\n",
       "      <td>2</td>\n",
       "      <td>park</td>\n",
       "      <td>101</td>\n",
       "      <td>2</td>\n",
       "    </tr>\n",
       "    <tr>\n",
       "      <th>2</th>\n",
       "      <td>1</td>\n",
       "      <td>park</td>\n",
       "      <td>100</td>\n",
       "      <td>1</td>\n",
       "    </tr>\n",
       "    <tr>\n",
       "      <th>3</th>\n",
       "      <td>3</td>\n",
       "      <td>park</td>\n",
       "      <td>100</td>\n",
       "      <td>1</td>\n",
       "    </tr>\n",
       "    <tr>\n",
       "      <th>4</th>\n",
       "      <td>4</td>\n",
       "      <td>park</td>\n",
       "      <td>100</td>\n",
       "      <td>1</td>\n",
       "    </tr>\n",
       "    <tr>\n",
       "      <th>5</th>\n",
       "      <td>8</td>\n",
       "      <td>park</td>\n",
       "      <td>100</td>\n",
       "      <td>1</td>\n",
       "    </tr>\n",
       "  </tbody>\n",
       "</table>\n",
       "</div>"
      ],
      "text/plain": [
       "   orderid    이름 물건id  물건 카테고리\n",
       "0        9  park  109        4\n",
       "1        2  park  101        2\n",
       "2        1  park  100        1\n",
       "3        3  park  100        1\n",
       "4        4  park  100        1\n",
       "5        8  park  100        1"
      ]
     },
     "execution_count": 208,
     "metadata": {},
     "output_type": "execute_result"
    }
   ],
   "source": [
    "df = pd.DataFrame(result_rows , columns=['orderid','이름','물건id','물건 카테고리'])\n",
    "df"
   ]
  },
  {
   "cell_type": "code",
   "execution_count": 209,
   "id": "9dea6797",
   "metadata": {},
   "outputs": [
    {
     "data": {
      "text/plain": [
       "4"
      ]
     },
     "execution_count": 209,
     "metadata": {},
     "output_type": "execute_result"
    }
   ],
   "source": [
    "latest_id = df[df.orderid == max(df.orderid)]['물건 카테고리'].values\n",
    "latest_id[0]"
   ]
  },
  {
   "cell_type": "code",
   "execution_count": 210,
   "id": "8d205da9",
   "metadata": {},
   "outputs": [],
   "source": [
    "def sql_excute5(cur2,data):\n",
    "    sql=\"\"\"\n",
    "    select * from product p\n",
    "    where p.category = %s\n",
    "    \"\"\"\n",
    "    result2= cur2.execute(sql,data)\n",
    "    return result2"
   ]
  },
  {
   "cell_type": "code",
   "execution_count": 211,
   "id": "cc900203",
   "metadata": {},
   "outputs": [
    {
     "data": {
      "text/plain": [
       "3"
      ]
     },
     "execution_count": 211,
     "metadata": {},
     "output_type": "execute_result"
    }
   ],
   "source": [
    "sql_excute2(cur2,latest_id[0])"
   ]
  },
  {
   "cell_type": "code",
   "execution_count": 212,
   "id": "c012910f",
   "metadata": {},
   "outputs": [
    {
     "data": {
      "text/plain": [
       "(('105', 'ios', 'fun ios', '6000', 4),\n",
       " ('109', 'python', 'good python', '10000', 4),\n",
       " ('112', 'python v2.0', 'old', '5000', 4))"
      ]
     },
     "execution_count": 212,
     "metadata": {},
     "output_type": "execute_result"
    }
   ],
   "source": [
    "recommend = out_data(cur2)\n",
    "recommend"
   ]
  },
  {
   "cell_type": "code",
   "execution_count": 213,
   "id": "648f1c52",
   "metadata": {},
   "outputs": [
    {
     "data": {
      "text/plain": [
       "3"
      ]
     },
     "execution_count": 213,
     "metadata": {},
     "output_type": "execute_result"
    }
   ],
   "source": [
    "len(recommend)"
   ]
  },
  {
   "cell_type": "code",
   "execution_count": 220,
   "id": "9707031b",
   "metadata": {},
   "outputs": [
    {
     "name": "stdout",
     "output_type": "stream",
     "text": [
      "당신에게 추천하고 싶은 물건은 다음과 같습니다.\n",
      "-----------------------------------------------\n",
      "추천 제품 : ios \t 가격 :  6000\n",
      "추천 제품 : python \t 가격 :  10000\n",
      "추천 제품 : python v2.0 \t 가격 :  5000\n"
     ]
    }
   ],
   "source": [
    "print('당신에게 추천하고 싶은 물건은 다음과 같습니다.')\n",
    "print('-----------------------------------------------')\n",
    "\n",
    "for i in recommend :\n",
    "    print('추천 제품 :', i[1], '\\t 가격 : ',i[3])\n"
   ]
  },
  {
   "cell_type": "code",
   "execution_count": 179,
   "id": "abcd6f18",
   "metadata": {},
   "outputs": [],
   "source": [
    "def sql_excute6(con ,cur2 , data):\n",
    "    sql = \"\"\"\n",
    "    insert into orderlist values (null,%s,%s,%s)\n",
    "    \"\"\"\n",
    "    result2 = cur2.execute(sql,data)\n",
    "    con.commit()\n",
    "    return result2 "
   ]
  },
  {
   "cell_type": "code",
   "execution_count": 224,
   "id": "de05169b",
   "metadata": {},
   "outputs": [
    {
     "name": "stdout",
     "output_type": "stream",
     "text": [
      "몇번제품 구매하시겠습니까? (싫으면 n) >>> 1\n",
      "-----구매를 진행합니다. ----------\n",
      "당신의 id는 park\n",
      "-------구매 완료---------\n",
      "몇번제품 구매하시겠습니까? (싫으면 n) >>> 2\n",
      "-----구매를 진행합니다. ----------\n",
      "당신의 id는 park\n",
      "-------구매 완료---------\n",
      "몇번제품 구매하시겠습니까? (싫으면 n) >>> 3\n",
      "-----구매를 진행합니다. ----------\n",
      "당신의 id는 park\n",
      "-------구매 완료---------\n",
      "몇번제품 구매하시겠습니까? (싫으면 n) >>> n\n"
     ]
    }
   ],
   "source": [
    "n=0\n",
    "while n==0:\n",
    "    order_question = input('몇번제품 구매하시겠습니까? (싫으면 n) >>> ')\n",
    "    if order_question !='n':\n",
    "        print('-----구매를 진행합니다. ----------')\n",
    "        your_id= input('당신의 id는 ')\n",
    "        \n",
    "        data_list=[your_id, recommend[int(order_question)-1][0], int(recommend[int(order_question)-1][3])]\n",
    "        result3= sql_excute3(con,cur2,data_list)\n",
    "        if result3==1:\n",
    "            print('-------구매 완료---------')\n",
    "        else:\n",
    "            print('------구매 문제 발생')\n",
    "    else:\n",
    "        n=1"
   ]
  },
  {
   "cell_type": "code",
   "execution_count": null,
   "id": "c6e97c87",
   "metadata": {},
   "outputs": [],
   "source": []
  },
  {
   "cell_type": "code",
   "execution_count": null,
   "id": "136601b1",
   "metadata": {},
   "outputs": [],
   "source": []
  },
  {
   "cell_type": "code",
   "execution_count": null,
   "id": "15ce8655",
   "metadata": {},
   "outputs": [],
   "source": [
    "\n"
   ]
  }
 ],
 "metadata": {
  "kernelspec": {
   "display_name": "Python 3 (ipykernel)",
   "language": "python",
   "name": "python3"
  },
  "language_info": {
   "codemirror_mode": {
    "name": "ipython",
    "version": 3
   },
   "file_extension": ".py",
   "mimetype": "text/x-python",
   "name": "python",
   "nbconvert_exporter": "python",
   "pygments_lexer": "ipython3",
   "version": "3.9.7"
  },
  "toc": {
   "base_numbering": 1,
   "nav_menu": {},
   "number_sections": true,
   "sideBar": true,
   "skip_h1_title": false,
   "title_cell": "Table of Contents",
   "title_sidebar": "Contents",
   "toc_cell": false,
   "toc_position": {},
   "toc_section_display": true,
   "toc_window_display": false
  }
 },
 "nbformat": 4,
 "nbformat_minor": 5
}
