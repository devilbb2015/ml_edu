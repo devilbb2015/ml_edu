{
 "cells": [
  {
   "cell_type": "code",
   "execution_count": 3,
   "id": "b9702dc1",
   "metadata": {},
   "outputs": [],
   "source": [
    "import pymysql"
   ]
  },
  {
   "cell_type": "code",
   "execution_count": 26,
   "id": "c304fdf7",
   "metadata": {},
   "outputs": [
    {
     "name": "stdout",
     "output_type": "stream",
     "text": [
      "1. 연결성공\n"
     ]
    }
   ],
   "source": [
    "conn = pymysql.connect(\n",
    "    host = 'localhost',\n",
    "    port = 3306,\n",
    "    user = 'root',\n",
    "    password = 'root',\n",
    "    db = 'mldb3',\n",
    "    charset = 'utf8'\n",
    ")\n",
    "conn\n",
    "print('1. 연결성공')"
   ]
  },
  {
   "cell_type": "code",
   "execution_count": 27,
   "id": "cc727e72",
   "metadata": {},
   "outputs": [
    {
     "name": "stdout",
     "output_type": "stream",
     "text": [
      "2. cursor 객체 획득\n"
     ]
    }
   ],
   "source": [
    "cur = conn.cursor()\n",
    "cur\n",
    "print('2. cursor 객체 획득')"
   ]
  },
  {
   "cell_type": "code",
   "execution_count": 28,
   "id": "6bacd7af",
   "metadata": {},
   "outputs": [],
   "source": [
    "sql = \"select * from product p \\\n",
    "\twhere p.id in \\\n",
    "\t\t( \\\n",
    "        select distinct o.productid \\\n",
    "\t\tfrom orderlist o \\\n",
    "\t\twhere o.memberid = 'park' \\\n",
    "        );\""
   ]
  },
  {
   "cell_type": "code",
   "execution_count": 29,
   "id": "fc4a1aeb",
   "metadata": {},
   "outputs": [
    {
     "name": "stdout",
     "output_type": "stream",
     "text": [
      "3. sql전송 성공 2\n"
     ]
    }
   ],
   "source": [
    "result = cur.execute(sql)\n",
    "print('3. sql전송 성공', result)  # result 에는 count"
   ]
  },
  {
   "cell_type": "code",
   "execution_count": 30,
   "id": "292466aa",
   "metadata": {},
   "outputs": [
    {
     "name": "stdout",
     "output_type": "stream",
     "text": [
      "4. 검색결과 --------------\n",
      "(('100', 'java', 'fun java', '1000'), ('101', 'jsp', 'fun jsp', '2000'))\n"
     ]
    }
   ],
   "source": [
    "rows = cur.fetchall()\n",
    "print('4. 검색결과 --------------')\n",
    "print(rows)"
   ]
  },
  {
   "cell_type": "code",
   "execution_count": 31,
   "id": "3accfc1e",
   "metadata": {},
   "outputs": [],
   "source": [
    "conn.close()"
   ]
  },
  {
   "cell_type": "code",
   "execution_count": 34,
   "id": "4c31ad58",
   "metadata": {},
   "outputs": [
    {
     "name": "stdout",
     "output_type": "stream",
     "text": [
      "0 ('100', 'java', 'fun java', '1000')\n",
      "1 ('101', 'jsp', 'fun jsp', '2000')\n"
     ]
    }
   ],
   "source": [
    "for index, row in enumerate(rows):\n",
    "    print(index, row)"
   ]
  },
  {
   "cell_type": "code",
   "execution_count": 20,
   "id": "b0138cb4",
   "metadata": {},
   "outputs": [],
   "source": [
    "id = []\n",
    "pw = []\n",
    "name = []\n",
    "tel = []\n",
    "for index, row in enumerate(rows):\n",
    "#     print(index, row)\n",
    "    id.append(row[0])\n",
    "    pw.append(row[1])\n",
    "    name.append(row[2])\n",
    "    tel.append(row[3])"
   ]
  },
  {
   "cell_type": "code",
   "execution_count": 32,
   "id": "30dbbf2d",
   "metadata": {},
   "outputs": [
    {
     "name": "stdout",
     "output_type": "stream",
     "text": [
      "['alicia', 'apple', 'apple111', 'com', 'park', 'pen', 'spring', 'summer', 'sun', 'sunday2', 'water', 'win', 'win2', 'win3', 'winter']\n",
      "['a100', 'apple', 'spring', 'com', 'park', 'pen00', 'spring', 'summer', 'sun', 'sunday2', 'w1000', 'win', 'win2', 'win3', 'winter']\n",
      "['lim', 'apple', 'hong', 'com', 'park', 'lim', 'spring', 'summer', 'sun', 'sunday2', 'park', 'win', 'win2', 'win3', 'winter']\n",
      "['010', '555555555', '111', 'com', '888', '010', 'spring', 'summer', 'sun', 'sunday2', '011', 'win', 'win2', 'win3', 'winter']\n"
     ]
    }
   ],
   "source": [
    "print(id)\n",
    "print(pw)\n",
    "print(name)\n",
    "print(tel)"
   ]
  },
  {
   "cell_type": "code",
   "execution_count": null,
   "id": "8d4d3da6",
   "metadata": {},
   "outputs": [],
   "source": []
  }
 ],
 "metadata": {
  "kernelspec": {
   "display_name": "Python 3 (ipykernel)",
   "language": "python",
   "name": "python3"
  },
  "language_info": {
   "codemirror_mode": {
    "name": "ipython",
    "version": 3
   },
   "file_extension": ".py",
   "mimetype": "text/x-python",
   "name": "python",
   "nbconvert_exporter": "python",
   "pygments_lexer": "ipython3",
   "version": "3.9.7"
  },
  "toc": {
   "base_numbering": 1,
   "nav_menu": {},
   "number_sections": true,
   "sideBar": true,
   "skip_h1_title": false,
   "title_cell": "Table of Contents",
   "title_sidebar": "Contents",
   "toc_cell": false,
   "toc_position": {},
   "toc_section_display": true,
   "toc_window_display": false
  }
 },
 "nbformat": 4,
 "nbformat_minor": 5
}
