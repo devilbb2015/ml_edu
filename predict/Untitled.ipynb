{
 "cells": [
  {
   "cell_type": "code",
   "execution_count": 77,
   "id": "1727f54a",
   "metadata": {},
   "outputs": [],
   "source": [
    "import pymysql"
   ]
  },
  {
   "cell_type": "code",
   "execution_count": 204,
   "id": "3bc57545",
   "metadata": {},
   "outputs": [],
   "source": [
    "def connect():\n",
    "    con = pymysql.connect(\n",
    "        host = 'localhost',\n",
    "        port = 3306,\n",
    "        user = 'root',\n",
    "        password = 'root',\n",
    "        db = 'mldb3',\n",
    "        charset = 'utf8'\n",
    "    )\n",
    "    print('1. 연결성공')\n",
    "        \n",
    "    cur = con.cursor()\n",
    "    print('2. cursor 객체 획득')\n",
    "    \n",
    "    return cur, con"
   ]
  },
  {
   "cell_type": "code",
   "execution_count": 205,
   "id": "ffa01b6a",
   "metadata": {},
   "outputs": [
    {
     "name": "stdout",
     "output_type": "stream",
     "text": [
      "1. 연결성공\n",
      "2. cursor 객체 획득\n"
     ]
    },
    {
     "data": {
      "text/plain": [
       "<pymysql.cursors.Cursor at 0x1abef6ac130>"
      ]
     },
     "execution_count": 205,
     "metadata": {},
     "output_type": "execute_result"
    }
   ],
   "source": [
    "cur2, con = connect()\n",
    "cur2"
   ]
  },
  {
   "cell_type": "code",
   "execution_count": 80,
   "id": "cae63d9e",
   "metadata": {},
   "outputs": [],
   "source": [
    "sql = \"\"\"\n",
    "    select o2.orderid, m.name, o2.productid, o2.totalprice\n",
    "        from orderlist o2\n",
    "            inner join `member` m\n",
    "            on o2.memberid=m.id and m.id='park'\n",
    "        order by productid desc\n",
    "    \"\"\""
   ]
  },
  {
   "cell_type": "code",
   "execution_count": 81,
   "id": "d39cc91b",
   "metadata": {},
   "outputs": [
    {
     "name": "stdout",
     "output_type": "stream",
     "text": [
      "3. sql전송 성공 6\n"
     ]
    }
   ],
   "source": [
    "result_count = cur2.execute(sql)\n",
    "print('3. sql전송 성공', result_count)  # result 에는 count"
   ]
  },
  {
   "cell_type": "code",
   "execution_count": 82,
   "id": "9701e96a",
   "metadata": {},
   "outputs": [
    {
     "name": "stdout",
     "output_type": "stream",
     "text": [
      "4. 검색결과 ----------------------\n",
      "((10, 'park', '103', 5000), (2, 'park', '101', 6000), (1, 'park', '100', 5000), (3, 'park', '100', 10000), (4, 'park', '100', 3000), (8, 'park', '100', 1000))\n"
     ]
    }
   ],
   "source": [
    "rows = cur2.fetchall()\n",
    "print('4. 검색결과 ----------------------')\n",
    "print(rows)"
   ]
  },
  {
   "cell_type": "code",
   "execution_count": 83,
   "id": "e45fbc88",
   "metadata": {},
   "outputs": [],
   "source": [
    "con.close()"
   ]
  },
  {
   "cell_type": "code",
   "execution_count": 84,
   "id": "f6ca15a2",
   "metadata": {},
   "outputs": [
    {
     "name": "stdout",
     "output_type": "stream",
     "text": [
      "1. 연결성공\n",
      "2. cursor 객체 획득\n"
     ]
    },
    {
     "data": {
      "text/plain": [
       "<pymysql.cursors.Cursor at 0x1abec30e970>"
      ]
     },
     "execution_count": 84,
     "metadata": {},
     "output_type": "execute_result"
    }
   ],
   "source": [
    "cur2, con = connect()\n",
    "cur2"
   ]
  },
  {
   "cell_type": "code",
   "execution_count": 85,
   "id": "b144cdc2",
   "metadata": {},
   "outputs": [
    {
     "name": "stdout",
     "output_type": "stream",
     "text": [
      "0 (10, 'park', '103', 5000)\n",
      "1 (2, 'park', '101', 6000)\n",
      "2 (1, 'park', '100', 5000)\n",
      "3 (3, 'park', '100', 10000)\n",
      "4 (4, 'park', '100', 3000)\n",
      "5 (8, 'park', '100', 1000)\n"
     ]
    }
   ],
   "source": [
    "for index, row in enumerate(rows):\n",
    "    print(index, row)"
   ]
  },
  {
   "cell_type": "code",
   "execution_count": 86,
   "id": "b9f44fad",
   "metadata": {},
   "outputs": [],
   "source": [
    "def sql_execute(cur2, data):\n",
    "    sql = \"\"\"\n",
    "        select o2.orderid, m.name, o2.productid, o2.totalprice\n",
    "            from orderlist o2\n",
    "                inner join `member` m\n",
    "                on o2.memberid=m.id and m.id=%s\n",
    "            order by productid desc\n",
    "    \"\"\"\n",
    "    \n",
    "    result = cur2.execute(sql, data)\n",
    "    return result"
   ]
  },
  {
   "cell_type": "code",
   "execution_count": 87,
   "id": "74421405",
   "metadata": {},
   "outputs": [
    {
     "data": {
      "text/plain": [
       "6"
      ]
     },
     "execution_count": 87,
     "metadata": {},
     "output_type": "execute_result"
    }
   ],
   "source": [
    "sql_result = sql_execute(cur2, 'park')\n",
    "sql_result"
   ]
  },
  {
   "cell_type": "code",
   "execution_count": 88,
   "id": "545551ea",
   "metadata": {},
   "outputs": [],
   "source": [
    "def out_data(cur2):\n",
    "    rows = cur2.fetchall()\n",
    "    return rows"
   ]
  },
  {
   "cell_type": "code",
   "execution_count": 89,
   "id": "7b277972",
   "metadata": {},
   "outputs": [
    {
     "data": {
      "text/plain": [
       "((10, 'park', '103', 5000),\n",
       " (2, 'park', '101', 6000),\n",
       " (1, 'park', '100', 5000),\n",
       " (3, 'park', '100', 10000),\n",
       " (4, 'park', '100', 3000),\n",
       " (8, 'park', '100', 1000))"
      ]
     },
     "execution_count": 89,
     "metadata": {},
     "output_type": "execute_result"
    }
   ],
   "source": [
    "result_rows = out_data(cur2)\n",
    "result_rows"
   ]
  },
  {
   "cell_type": "code",
   "execution_count": 90,
   "id": "1c04d2cd",
   "metadata": {},
   "outputs": [],
   "source": [
    "def db_close(con):\n",
    "    con.close()"
   ]
  },
  {
   "cell_type": "code",
   "execution_count": 91,
   "id": "7dc87f5c",
   "metadata": {},
   "outputs": [],
   "source": [
    "db_close(con)"
   ]
  },
  {
   "cell_type": "code",
   "execution_count": 92,
   "id": "43bc4cc6",
   "metadata": {},
   "outputs": [],
   "source": [
    "## 제일 높은 금액은?"
   ]
  },
  {
   "cell_type": "code",
   "execution_count": 93,
   "id": "5002ff33",
   "metadata": {},
   "outputs": [
    {
     "data": {
      "text/plain": [
       "[5000, 6000, 5000, 10000, 3000, 1000]"
      ]
     },
     "execution_count": 93,
     "metadata": {},
     "output_type": "execute_result"
    }
   ],
   "source": [
    "[x[3] for x in result_rows]"
   ]
  },
  {
   "cell_type": "code",
   "execution_count": 94,
   "id": "9431968e",
   "metadata": {},
   "outputs": [
    {
     "data": {
      "text/plain": [
       "10000"
      ]
     },
     "execution_count": 94,
     "metadata": {},
     "output_type": "execute_result"
    }
   ],
   "source": [
    "max([x[3] for x in result_rows])"
   ]
  },
  {
   "cell_type": "code",
   "execution_count": 95,
   "id": "fd6397e9",
   "metadata": {},
   "outputs": [],
   "source": [
    "## 제일 많이 산 물건의 id 는?"
   ]
  },
  {
   "cell_type": "code",
   "execution_count": 96,
   "id": "d4af94ba",
   "metadata": {},
   "outputs": [],
   "source": [
    "import pandas as pd"
   ]
  },
  {
   "cell_type": "code",
   "execution_count": 97,
   "id": "a2f422ef",
   "metadata": {},
   "outputs": [],
   "source": [
    "result_df = pd.DataFrame(data = result_rows, columns=['주문id','name','제품id','주문총가격'])"
   ]
  },
  {
   "cell_type": "code",
   "execution_count": 98,
   "id": "b7c8303c",
   "metadata": {},
   "outputs": [
    {
     "data": {
      "text/html": [
       "<div>\n",
       "<style scoped>\n",
       "    .dataframe tbody tr th:only-of-type {\n",
       "        vertical-align: middle;\n",
       "    }\n",
       "\n",
       "    .dataframe tbody tr th {\n",
       "        vertical-align: top;\n",
       "    }\n",
       "\n",
       "    .dataframe thead th {\n",
       "        text-align: right;\n",
       "    }\n",
       "</style>\n",
       "<table border=\"1\" class=\"dataframe\">\n",
       "  <thead>\n",
       "    <tr style=\"text-align: right;\">\n",
       "      <th></th>\n",
       "      <th>주문id</th>\n",
       "      <th>name</th>\n",
       "      <th>제품id</th>\n",
       "      <th>주문총가격</th>\n",
       "    </tr>\n",
       "  </thead>\n",
       "  <tbody>\n",
       "    <tr>\n",
       "      <th>0</th>\n",
       "      <td>10</td>\n",
       "      <td>park</td>\n",
       "      <td>103</td>\n",
       "      <td>5000</td>\n",
       "    </tr>\n",
       "    <tr>\n",
       "      <th>1</th>\n",
       "      <td>2</td>\n",
       "      <td>park</td>\n",
       "      <td>101</td>\n",
       "      <td>6000</td>\n",
       "    </tr>\n",
       "    <tr>\n",
       "      <th>2</th>\n",
       "      <td>1</td>\n",
       "      <td>park</td>\n",
       "      <td>100</td>\n",
       "      <td>5000</td>\n",
       "    </tr>\n",
       "    <tr>\n",
       "      <th>3</th>\n",
       "      <td>3</td>\n",
       "      <td>park</td>\n",
       "      <td>100</td>\n",
       "      <td>10000</td>\n",
       "    </tr>\n",
       "    <tr>\n",
       "      <th>4</th>\n",
       "      <td>4</td>\n",
       "      <td>park</td>\n",
       "      <td>100</td>\n",
       "      <td>3000</td>\n",
       "    </tr>\n",
       "    <tr>\n",
       "      <th>5</th>\n",
       "      <td>8</td>\n",
       "      <td>park</td>\n",
       "      <td>100</td>\n",
       "      <td>1000</td>\n",
       "    </tr>\n",
       "  </tbody>\n",
       "</table>\n",
       "</div>"
      ],
      "text/plain": [
       "   주문id  name 제품id  주문총가격\n",
       "0    10  park  103   5000\n",
       "1     2  park  101   6000\n",
       "2     1  park  100   5000\n",
       "3     3  park  100  10000\n",
       "4     4  park  100   3000\n",
       "5     8  park  100   1000"
      ]
     },
     "execution_count": 98,
     "metadata": {},
     "output_type": "execute_result"
    }
   ],
   "source": [
    "result_df"
   ]
  },
  {
   "cell_type": "code",
   "execution_count": 99,
   "id": "b55f15ca",
   "metadata": {},
   "outputs": [
    {
     "data": {
      "text/plain": [
       "['103', '101', '100', '100', '100', '100']"
      ]
     },
     "execution_count": 99,
     "metadata": {},
     "output_type": "execute_result"
    }
   ],
   "source": [
    "[x for x in result_df['제품id']]"
   ]
  },
  {
   "cell_type": "code",
   "execution_count": 100,
   "id": "983c8c13",
   "metadata": {},
   "outputs": [],
   "source": [
    "from collections import Counter"
   ]
  },
  {
   "cell_type": "code",
   "execution_count": 101,
   "id": "fd67d808",
   "metadata": {},
   "outputs": [],
   "source": [
    "counter_id = Counter(result_df['제품id'])"
   ]
  },
  {
   "cell_type": "code",
   "execution_count": 102,
   "id": "ec56b6cd",
   "metadata": {},
   "outputs": [
    {
     "data": {
      "text/plain": [
       "Counter({'103': 1, '101': 1, '100': 4})"
      ]
     },
     "execution_count": 102,
     "metadata": {},
     "output_type": "execute_result"
    }
   ],
   "source": [
    "counter_id"
   ]
  },
  {
   "cell_type": "code",
   "execution_count": 113,
   "id": "28c32e02",
   "metadata": {},
   "outputs": [
    {
     "name": "stdout",
     "output_type": "stream",
     "text": [
      "[('100', 4), ('103', 1), ('101', 1)]\n",
      "100\n"
     ]
    },
    {
     "data": {
      "text/plain": [
       "'100'"
      ]
     },
     "execution_count": 113,
     "metadata": {},
     "output_type": "execute_result"
    }
   ],
   "source": [
    "max_id = counter_id.most_common(n=3)\n",
    "print(max_id)\n",
    "print(max_id[0][0])\n",
    "max_id_result = max_id[0][0]\n",
    "max_id_result"
   ]
  },
  {
   "cell_type": "code",
   "execution_count": 104,
   "id": "e1cfa8c8",
   "metadata": {},
   "outputs": [],
   "source": [
    "def sql_execute2(cur2, data):\n",
    "    sql=\"\"\"\n",
    "        select * from product\n",
    "        where id = %s\n",
    "    \"\"\"\n",
    "    result2 = cur2.execute(sql, data)\n",
    "    return result2"
   ]
  },
  {
   "cell_type": "code",
   "execution_count": 105,
   "id": "76aff7cc",
   "metadata": {},
   "outputs": [
    {
     "name": "stdout",
     "output_type": "stream",
     "text": [
      "1. 연결성공\n",
      "2. cursor 객체 획득\n"
     ]
    },
    {
     "data": {
      "text/plain": [
       "<pymysql.cursors.Cursor at 0x1abed5b2040>"
      ]
     },
     "execution_count": 105,
     "metadata": {},
     "output_type": "execute_result"
    }
   ],
   "source": [
    "cur2, con = connect()\n",
    "cur2"
   ]
  },
  {
   "cell_type": "code",
   "execution_count": 106,
   "id": "8bd1b9e2",
   "metadata": {},
   "outputs": [
    {
     "data": {
      "text/plain": [
       "1"
      ]
     },
     "execution_count": 106,
     "metadata": {},
     "output_type": "execute_result"
    }
   ],
   "source": [
    "sql_result2 = sql_execute2(cur2, max_id_result)\n",
    "sql_result2"
   ]
  },
  {
   "cell_type": "code",
   "execution_count": 107,
   "id": "0829b8a1",
   "metadata": {},
   "outputs": [
    {
     "data": {
      "text/plain": [
       "('100', 'java', 'fun java', '1000')"
      ]
     },
     "execution_count": 107,
     "metadata": {},
     "output_type": "execute_result"
    }
   ],
   "source": [
    "result_rows = out_data(cur2)\n",
    "result_rows[0]"
   ]
  },
  {
   "cell_type": "code",
   "execution_count": 108,
   "id": "d4362967",
   "metadata": {},
   "outputs": [
    {
     "name": "stdout",
     "output_type": "stream",
     "text": [
      "당신에게 추천하고 싶은 물건은 다음과 같습니다.\n",
      "----------------------------------------------\n",
      "물건의 이름은  java\n",
      "물건의 내용은  fun java\n",
      "물건의 가격은  1000\n"
     ]
    }
   ],
   "source": [
    "print('당신에게 추천하고 싶은 물건은 다음과 같습니다.')\n",
    "print('----------------------------------------------')\n",
    "print('물건의 이름은 ', result_rows[0][1])\n",
    "print('물건의 내용은 ', result_rows[0][2])\n",
    "print('물건의 가격은 ', result_rows[0][3])"
   ]
  },
  {
   "cell_type": "code",
   "execution_count": 70,
   "id": "3b06c1ea",
   "metadata": {},
   "outputs": [],
   "source": [
    "def sql_execute3(con, cur2, data):\n",
    "    sql = \"\"\"\n",
    "        insert into orderlist values (null, %s, %s, %s)\n",
    "    \"\"\"\n",
    "    result2 = cur2.execute(sql, data)\n",
    "    con.commit()\n",
    "    return result2"
   ]
  },
  {
   "cell_type": "code",
   "execution_count": 71,
   "id": "76ab6d40",
   "metadata": {},
   "outputs": [
    {
     "name": "stdout",
     "output_type": "stream",
     "text": [
      "구매하시겠습니까?(yes/no)yes\n",
      "------------구매를 진행합니다.-----------------\n",
      "당신의 id는 park\n",
      "------구매가 완료되었습니다.\n"
     ]
    }
   ],
   "source": [
    "order_question = input(\"구매하시겠습니까?(yes/no)\")\n",
    "if order_question == 'yes':\n",
    "    print('------------구매를 진행합니다.-----------------')\n",
    "    your_id = input('당신의 id는 ')\n",
    "    data_list = [your_id, result_rows[0][0], int(result_rows[0][3])]\n",
    "    result3 = sql_execute3(con, cur2, data_list)\n",
    "    if result3 == 1:\n",
    "        print('------구매가 완료되었습니다.')\n",
    "    else:\n",
    "        print('------구매에 문제가 발생했습니다.')"
   ]
  },
  {
   "cell_type": "code",
   "execution_count": 243,
   "id": "f8c20731",
   "metadata": {},
   "outputs": [],
   "source": [
    "### 추천을 하고자 하는 컨텐츠기반 룰을 정하고,\n",
    "### 물건을 3개 이상 추천하는 추천시스템을 완성하시오.\n",
    "### db의 데이터를 임의로 추가할 수 있음."
   ]
  },
  {
   "cell_type": "code",
   "execution_count": 259,
   "id": "26ee7758",
   "metadata": {},
   "outputs": [
    {
     "name": "stdout",
     "output_type": "stream",
     "text": [
      "1. 연결성공\n",
      "2. cursor 객체 획득\n"
     ]
    },
    {
     "data": {
      "text/plain": [
       "<pymysql.cursors.Cursor at 0x1abef6ac880>"
      ]
     },
     "execution_count": 259,
     "metadata": {},
     "output_type": "execute_result"
    }
   ],
   "source": [
    "cur2, con = connect()\n",
    "cur2"
   ]
  },
  {
   "cell_type": "code",
   "execution_count": 260,
   "id": "107652ef",
   "metadata": {},
   "outputs": [],
   "source": [
    "from sqlalchemy import text"
   ]
  },
  {
   "cell_type": "code",
   "execution_count": 261,
   "id": "9be06682",
   "metadata": {},
   "outputs": [],
   "source": [
    "def sql_execute(cur2, data):\n",
    "    \n",
    "    print(data)\n",
    "    sql = \"\"\"\n",
    "        select o2.memberid, p.content, o2.productid, o2.totalprice\n",
    "            from product p\n",
    "                inner join orderlist o2\n",
    "                on p.id = o2.productid \n",
    "            where p.content like %s\n",
    "        \"\"\"\n",
    "    \n",
    "    result = cur2.execute(sql, data)\n",
    "    return result"
   ]
  },
  {
   "cell_type": "code",
   "execution_count": 262,
   "id": "d9dc4d84",
   "metadata": {},
   "outputs": [
    {
     "name": "stdout",
     "output_type": "stream",
     "text": [
      "검색하고자 하는 물품명을 입력하세요js\n",
      "%js%\n"
     ]
    },
    {
     "data": {
      "text/plain": [
       "19"
      ]
     },
     "execution_count": 262,
     "metadata": {},
     "output_type": "execute_result"
    }
   ],
   "source": [
    "data = input('검색하고자 하는 물품명을 입력하세요')\n",
    "sql_result = sql_execute(cur2, '%%%s%%' %data)\n",
    "sql_result"
   ]
  },
  {
   "cell_type": "code",
   "execution_count": 263,
   "id": "baf5cfe1",
   "metadata": {},
   "outputs": [
    {
     "data": {
      "text/plain": [
       "(('park', 'fun jsp', '101', 6000),\n",
       " ('apple', 'fun jsp', '101', 2000),\n",
       " ('sun', 'fun jsp', '101', 4000),\n",
       " ('win', 'fun jsp', '101', 7000),\n",
       " ('win2', 'fun nodejs', '106', 3000),\n",
       " ('win3', 'fun nodejs', '106', 7000),\n",
       " ('park', 'nodejs nice', '111', 5000),\n",
       " ('apple', 'nodejs nice', '111', 7000),\n",
       " ('win3', 'nodejs nice', '111', 15000),\n",
       " ('park', 'javajsp nice', '112', 8000),\n",
       " ('apple', 'nodejsjsp good', '114', 13000),\n",
       " ('apple', 'nodejsjsp good', '114', 12000),\n",
       " ('win', 'nodejsjsp good', '114', 6000),\n",
       " ('win3', 'jspypoawo haha', '116', 15000),\n",
       " ('win3', 'jspypoawo haha', '116', 14000),\n",
       " ('apple', 'jspypoawo haha', '116', 11000),\n",
       " ('park', 'jsininini nice', '117', 12000),\n",
       " ('win', 'nodejs poor', '120', 5000),\n",
       " ('win2', 'nodejs very', '121', 4000))"
      ]
     },
     "execution_count": 263,
     "metadata": {},
     "output_type": "execute_result"
    }
   ],
   "source": [
    "result_rows = out_data(cur2)\n",
    "result_rows"
   ]
  },
  {
   "cell_type": "code",
   "execution_count": 264,
   "id": "fffa001e",
   "metadata": {},
   "outputs": [
    {
     "data": {
      "text/plain": [
       "2000"
      ]
     },
     "execution_count": 264,
     "metadata": {},
     "output_type": "execute_result"
    }
   ],
   "source": [
    "min([x[3] for x in result_rows])"
   ]
  },
  {
   "cell_type": "code",
   "execution_count": 265,
   "id": "13d17e0b",
   "metadata": {},
   "outputs": [
    {
     "data": {
      "text/html": [
       "<div>\n",
       "<style scoped>\n",
       "    .dataframe tbody tr th:only-of-type {\n",
       "        vertical-align: middle;\n",
       "    }\n",
       "\n",
       "    .dataframe tbody tr th {\n",
       "        vertical-align: top;\n",
       "    }\n",
       "\n",
       "    .dataframe thead th {\n",
       "        text-align: right;\n",
       "    }\n",
       "</style>\n",
       "<table border=\"1\" class=\"dataframe\">\n",
       "  <thead>\n",
       "    <tr style=\"text-align: right;\">\n",
       "      <th></th>\n",
       "      <th>name</th>\n",
       "      <th>content</th>\n",
       "      <th>제품id</th>\n",
       "      <th>주문총가격</th>\n",
       "    </tr>\n",
       "  </thead>\n",
       "  <tbody>\n",
       "    <tr>\n",
       "      <th>0</th>\n",
       "      <td>park</td>\n",
       "      <td>fun jsp</td>\n",
       "      <td>101</td>\n",
       "      <td>6000</td>\n",
       "    </tr>\n",
       "    <tr>\n",
       "      <th>1</th>\n",
       "      <td>apple</td>\n",
       "      <td>fun jsp</td>\n",
       "      <td>101</td>\n",
       "      <td>2000</td>\n",
       "    </tr>\n",
       "    <tr>\n",
       "      <th>2</th>\n",
       "      <td>sun</td>\n",
       "      <td>fun jsp</td>\n",
       "      <td>101</td>\n",
       "      <td>4000</td>\n",
       "    </tr>\n",
       "    <tr>\n",
       "      <th>3</th>\n",
       "      <td>win</td>\n",
       "      <td>fun jsp</td>\n",
       "      <td>101</td>\n",
       "      <td>7000</td>\n",
       "    </tr>\n",
       "    <tr>\n",
       "      <th>4</th>\n",
       "      <td>win2</td>\n",
       "      <td>fun nodejs</td>\n",
       "      <td>106</td>\n",
       "      <td>3000</td>\n",
       "    </tr>\n",
       "    <tr>\n",
       "      <th>5</th>\n",
       "      <td>win3</td>\n",
       "      <td>fun nodejs</td>\n",
       "      <td>106</td>\n",
       "      <td>7000</td>\n",
       "    </tr>\n",
       "    <tr>\n",
       "      <th>6</th>\n",
       "      <td>park</td>\n",
       "      <td>nodejs nice</td>\n",
       "      <td>111</td>\n",
       "      <td>5000</td>\n",
       "    </tr>\n",
       "    <tr>\n",
       "      <th>7</th>\n",
       "      <td>apple</td>\n",
       "      <td>nodejs nice</td>\n",
       "      <td>111</td>\n",
       "      <td>7000</td>\n",
       "    </tr>\n",
       "    <tr>\n",
       "      <th>8</th>\n",
       "      <td>win3</td>\n",
       "      <td>nodejs nice</td>\n",
       "      <td>111</td>\n",
       "      <td>15000</td>\n",
       "    </tr>\n",
       "    <tr>\n",
       "      <th>9</th>\n",
       "      <td>park</td>\n",
       "      <td>javajsp nice</td>\n",
       "      <td>112</td>\n",
       "      <td>8000</td>\n",
       "    </tr>\n",
       "    <tr>\n",
       "      <th>10</th>\n",
       "      <td>apple</td>\n",
       "      <td>nodejsjsp good</td>\n",
       "      <td>114</td>\n",
       "      <td>13000</td>\n",
       "    </tr>\n",
       "    <tr>\n",
       "      <th>11</th>\n",
       "      <td>apple</td>\n",
       "      <td>nodejsjsp good</td>\n",
       "      <td>114</td>\n",
       "      <td>12000</td>\n",
       "    </tr>\n",
       "    <tr>\n",
       "      <th>12</th>\n",
       "      <td>win</td>\n",
       "      <td>nodejsjsp good</td>\n",
       "      <td>114</td>\n",
       "      <td>6000</td>\n",
       "    </tr>\n",
       "    <tr>\n",
       "      <th>13</th>\n",
       "      <td>win3</td>\n",
       "      <td>jspypoawo haha</td>\n",
       "      <td>116</td>\n",
       "      <td>15000</td>\n",
       "    </tr>\n",
       "    <tr>\n",
       "      <th>14</th>\n",
       "      <td>win3</td>\n",
       "      <td>jspypoawo haha</td>\n",
       "      <td>116</td>\n",
       "      <td>14000</td>\n",
       "    </tr>\n",
       "    <tr>\n",
       "      <th>15</th>\n",
       "      <td>apple</td>\n",
       "      <td>jspypoawo haha</td>\n",
       "      <td>116</td>\n",
       "      <td>11000</td>\n",
       "    </tr>\n",
       "    <tr>\n",
       "      <th>16</th>\n",
       "      <td>park</td>\n",
       "      <td>jsininini nice</td>\n",
       "      <td>117</td>\n",
       "      <td>12000</td>\n",
       "    </tr>\n",
       "    <tr>\n",
       "      <th>17</th>\n",
       "      <td>win</td>\n",
       "      <td>nodejs poor</td>\n",
       "      <td>120</td>\n",
       "      <td>5000</td>\n",
       "    </tr>\n",
       "    <tr>\n",
       "      <th>18</th>\n",
       "      <td>win2</td>\n",
       "      <td>nodejs very</td>\n",
       "      <td>121</td>\n",
       "      <td>4000</td>\n",
       "    </tr>\n",
       "  </tbody>\n",
       "</table>\n",
       "</div>"
      ],
      "text/plain": [
       "     name         content 제품id  주문총가격\n",
       "0    park         fun jsp  101   6000\n",
       "1   apple         fun jsp  101   2000\n",
       "2     sun         fun jsp  101   4000\n",
       "3     win         fun jsp  101   7000\n",
       "4    win2      fun nodejs  106   3000\n",
       "5    win3      fun nodejs  106   7000\n",
       "6    park     nodejs nice  111   5000\n",
       "7   apple     nodejs nice  111   7000\n",
       "8    win3     nodejs nice  111  15000\n",
       "9    park    javajsp nice  112   8000\n",
       "10  apple  nodejsjsp good  114  13000\n",
       "11  apple  nodejsjsp good  114  12000\n",
       "12    win  nodejsjsp good  114   6000\n",
       "13   win3  jspypoawo haha  116  15000\n",
       "14   win3  jspypoawo haha  116  14000\n",
       "15  apple  jspypoawo haha  116  11000\n",
       "16   park  jsininini nice  117  12000\n",
       "17    win     nodejs poor  120   5000\n",
       "18   win2     nodejs very  121   4000"
      ]
     },
     "execution_count": 265,
     "metadata": {},
     "output_type": "execute_result"
    }
   ],
   "source": [
    "result_df = pd.DataFrame(data = result_rows, columns=['name','content','제품id','주문총가격'])\n",
    "result_df"
   ]
  },
  {
   "cell_type": "code",
   "execution_count": 266,
   "id": "f191e9bd",
   "metadata": {},
   "outputs": [
    {
     "data": {
      "text/plain": [
       "['101',\n",
       " '101',\n",
       " '101',\n",
       " '101',\n",
       " '106',\n",
       " '106',\n",
       " '111',\n",
       " '111',\n",
       " '111',\n",
       " '112',\n",
       " '114',\n",
       " '114',\n",
       " '114',\n",
       " '116',\n",
       " '116',\n",
       " '116',\n",
       " '117',\n",
       " '120',\n",
       " '121']"
      ]
     },
     "execution_count": 266,
     "metadata": {},
     "output_type": "execute_result"
    }
   ],
   "source": [
    "[x for x in result_df['제품id']]"
   ]
  },
  {
   "cell_type": "code",
   "execution_count": 267,
   "id": "d8afd4ac",
   "metadata": {},
   "outputs": [
    {
     "data": {
      "text/plain": [
       "Counter({'101': 4,\n",
       "         '106': 2,\n",
       "         '111': 3,\n",
       "         '112': 1,\n",
       "         '114': 3,\n",
       "         '116': 3,\n",
       "         '117': 1,\n",
       "         '120': 1,\n",
       "         '121': 1})"
      ]
     },
     "execution_count": 267,
     "metadata": {},
     "output_type": "execute_result"
    }
   ],
   "source": [
    "counter_id = Counter(result_df['제품id'])\n",
    "counter_id"
   ]
  },
  {
   "cell_type": "code",
   "execution_count": 268,
   "id": "f100bb3b",
   "metadata": {},
   "outputs": [
    {
     "name": "stdout",
     "output_type": "stream",
     "text": [
      "[('101', 4), ('111', 3), ('114', 3)]\n",
      "101\n"
     ]
    },
    {
     "data": {
      "text/plain": [
       "['101', '111', '114']"
      ]
     },
     "execution_count": 268,
     "metadata": {},
     "output_type": "execute_result"
    }
   ],
   "source": [
    "max_id = counter_id.most_common(n=3)\n",
    "print(max_id)\n",
    "print(max_id[0][0])\n",
    "max_id_result = [max_id[0][0], max_id[1][0], max_id[2][0]]\n",
    "max_id_result"
   ]
  },
  {
   "cell_type": "code",
   "execution_count": 269,
   "id": "e76dffc8",
   "metadata": {},
   "outputs": [
    {
     "data": {
      "text/plain": [
       "3"
      ]
     },
     "execution_count": 269,
     "metadata": {},
     "output_type": "execute_result"
    }
   ],
   "source": [
    "len(max_id_result)"
   ]
  },
  {
   "cell_type": "code",
   "execution_count": 270,
   "id": "ce48aadf",
   "metadata": {},
   "outputs": [
    {
     "ename": "IndexError",
     "evalue": "tuple index out of range",
     "output_type": "error",
     "traceback": [
      "\u001b[1;31m---------------------------------------------------------------------------\u001b[0m",
      "\u001b[1;31mIndexError\u001b[0m                                Traceback (most recent call last)",
      "\u001b[1;32mC:\\Users\\TS17EF~1.SBY\\AppData\\Local\\Temp/ipykernel_7652/2266510720.py\u001b[0m in \u001b[0;36m<module>\u001b[1;34m\u001b[0m\n\u001b[0;32m      1\u001b[0m \u001b[0mresult_rows\u001b[0m \u001b[1;33m=\u001b[0m \u001b[0mout_data\u001b[0m\u001b[1;33m(\u001b[0m\u001b[0mcur2\u001b[0m\u001b[1;33m)\u001b[0m\u001b[1;33m\u001b[0m\u001b[1;33m\u001b[0m\u001b[0m\n\u001b[1;32m----> 2\u001b[1;33m \u001b[0mresult_rows\u001b[0m\u001b[1;33m[\u001b[0m\u001b[1;36m0\u001b[0m\u001b[1;33m]\u001b[0m\u001b[1;33m\u001b[0m\u001b[1;33m\u001b[0m\u001b[0m\n\u001b[0m",
      "\u001b[1;31mIndexError\u001b[0m: tuple index out of range"
     ]
    }
   ],
   "source": [
    "result_rows = out_data(cur2)\n",
    "result_rows[0]"
   ]
  },
  {
   "cell_type": "code",
   "execution_count": null,
   "id": "7e69e2dc",
   "metadata": {},
   "outputs": [],
   "source": []
  },
  {
   "cell_type": "code",
   "execution_count": 256,
   "id": "9599e532",
   "metadata": {},
   "outputs": [
    {
     "ename": "IndexError",
     "evalue": "tuple index out of range",
     "output_type": "error",
     "traceback": [
      "\u001b[1;31m---------------------------------------------------------------------------\u001b[0m",
      "\u001b[1;31mIndexError\u001b[0m                                Traceback (most recent call last)",
      "\u001b[1;32mC:\\Users\\TS17EF~1.SBY\\AppData\\Local\\Temp/ipykernel_7652/1101992300.py\u001b[0m in \u001b[0;36m<module>\u001b[1;34m\u001b[0m\n\u001b[0;32m      1\u001b[0m \u001b[0mresult_rows\u001b[0m \u001b[1;33m=\u001b[0m \u001b[0mout_data\u001b[0m\u001b[1;33m(\u001b[0m\u001b[0mcur2\u001b[0m\u001b[1;33m)\u001b[0m\u001b[1;33m\u001b[0m\u001b[1;33m\u001b[0m\u001b[0m\n\u001b[0;32m      2\u001b[0m \u001b[1;32mfor\u001b[0m \u001b[0mi\u001b[0m \u001b[1;32min\u001b[0m \u001b[0mrange\u001b[0m\u001b[1;33m(\u001b[0m\u001b[0mlen\u001b[0m\u001b[1;33m(\u001b[0m\u001b[0mmax_id_result\u001b[0m\u001b[1;33m)\u001b[0m\u001b[1;33m)\u001b[0m\u001b[1;33m:\u001b[0m\u001b[1;33m\u001b[0m\u001b[1;33m\u001b[0m\u001b[0m\n\u001b[1;32m----> 3\u001b[1;33m     \u001b[0mprint\u001b[0m\u001b[1;33m(\u001b[0m\u001b[0mresult_rows\u001b[0m\u001b[1;33m[\u001b[0m\u001b[0mi\u001b[0m\u001b[1;33m]\u001b[0m\u001b[1;33m)\u001b[0m\u001b[1;33m\u001b[0m\u001b[1;33m\u001b[0m\u001b[0m\n\u001b[0m",
      "\u001b[1;31mIndexError\u001b[0m: tuple index out of range"
     ]
    }
   ],
   "source": [
    "result_rows = out_data(cur2)\n",
    "for i in range(len(max_id_result)):\n",
    "    print(result_rows[i])"
   ]
  },
  {
   "cell_type": "code",
   "execution_count": null,
   "id": "7e4204c9",
   "metadata": {},
   "outputs": [],
   "source": []
  }
 ],
 "metadata": {
  "kernelspec": {
   "display_name": "Python 3 (ipykernel)",
   "language": "python",
   "name": "python3"
  },
  "language_info": {
   "codemirror_mode": {
    "name": "ipython",
    "version": 3
   },
   "file_extension": ".py",
   "mimetype": "text/x-python",
   "name": "python",
   "nbconvert_exporter": "python",
   "pygments_lexer": "ipython3",
   "version": "3.9.7"
  },
  "toc": {
   "base_numbering": 1,
   "nav_menu": {},
   "number_sections": true,
   "sideBar": true,
   "skip_h1_title": false,
   "title_cell": "Table of Contents",
   "title_sidebar": "Contents",
   "toc_cell": false,
   "toc_position": {},
   "toc_section_display": true,
   "toc_window_display": false
  }
 },
 "nbformat": 4,
 "nbformat_minor": 5
}
