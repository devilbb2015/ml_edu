{
 "cells": [
  {
   "cell_type": "code",
   "execution_count": 1,
   "id": "114181d0",
   "metadata": {},
   "outputs": [],
   "source": [
    "from sklearn.feature_extraction.text import TfidfVectorizer, CountVectorizer"
   ]
  },
  {
   "cell_type": "code",
   "execution_count": 13,
   "id": "0cced785",
   "metadata": {},
   "outputs": [],
   "source": [
    "corpus = [\n",
    "    'you know I want your love',\n",
    "    'I like you',\n",
    "    'what should I do',\n",
    "    'smile face',\n",
    "    'I hate you',\n",
    "    'Happy new year'\n",
    "]"
   ]
  },
  {
   "cell_type": "code",
   "execution_count": 14,
   "id": "7590fbaa",
   "metadata": {},
   "outputs": [],
   "source": [
    "cv = CountVectorizer()"
   ]
  },
  {
   "cell_type": "markdown",
   "id": "67e22616",
   "metadata": {},
   "source": [
    "### 사전을 만들어라.!! => fit()\n",
    "### 사전에 들어있는 id로 인코딩을 해라.!! => tranfrom()\n",
    "### 1,2을 함께 처리하고자 하는 경우는 => fit_transform()"
   ]
  },
  {
   "cell_type": "code",
   "execution_count": 15,
   "id": "27b02b51",
   "metadata": {},
   "outputs": [
    {
     "data": {
      "text/plain": [
       "<6x15 sparse matrix of type '<class 'numpy.int64'>'\n",
       "\twith 17 stored elements in Compressed Sparse Row format>"
      ]
     },
     "execution_count": 15,
     "metadata": {},
     "output_type": "execute_result"
    }
   ],
   "source": [
    "cv.fit_transform(corpus)"
   ]
  },
  {
   "cell_type": "code",
   "execution_count": 16,
   "id": "e0f72191",
   "metadata": {},
   "outputs": [
    {
     "data": {
      "text/plain": [
       "array([[0, 0, 0, 0, 1, 0, 1, 0, 0, 0, 1, 0, 0, 1, 1],\n",
       "       [0, 0, 0, 0, 0, 1, 0, 0, 0, 0, 0, 0, 0, 1, 0],\n",
       "       [1, 0, 0, 0, 0, 0, 0, 0, 1, 0, 0, 1, 0, 0, 0],\n",
       "       [0, 1, 0, 0, 0, 0, 0, 0, 0, 1, 0, 0, 0, 0, 0],\n",
       "       [0, 0, 0, 1, 0, 0, 0, 0, 0, 0, 0, 0, 0, 1, 0],\n",
       "       [0, 0, 1, 0, 0, 0, 0, 1, 0, 0, 0, 0, 1, 0, 0]], dtype=int64)"
      ]
     },
     "execution_count": 16,
     "metadata": {},
     "output_type": "execute_result"
    }
   ],
   "source": [
    "cv.fit_transform(corpus).toarray()"
   ]
  },
  {
   "cell_type": "markdown",
   "id": "530d565e",
   "metadata": {},
   "source": [
    "### fit --> transform"
   ]
  },
  {
   "cell_type": "code",
   "execution_count": 29,
   "id": "be406b66",
   "metadata": {},
   "outputs": [],
   "source": [
    "tfidf = TfidfVectorizer()"
   ]
  },
  {
   "cell_type": "code",
   "execution_count": 30,
   "id": "51d3f91e",
   "metadata": {},
   "outputs": [],
   "source": [
    "tfidf = tfidf.fit(corpus)"
   ]
  },
  {
   "cell_type": "code",
   "execution_count": 31,
   "id": "d67a2216",
   "metadata": {},
   "outputs": [
    {
     "data": {
      "text/plain": [
       "<6x15 sparse matrix of type '<class 'numpy.float64'>'\n",
       "\twith 17 stored elements in Compressed Sparse Row format>"
      ]
     },
     "execution_count": 31,
     "metadata": {},
     "output_type": "execute_result"
    }
   ],
   "source": [
    "tfidf.transform(corpus)"
   ]
  },
  {
   "cell_type": "code",
   "execution_count": 32,
   "id": "660b8ca6",
   "metadata": {},
   "outputs": [
    {
     "data": {
      "text/plain": [
       "array([[0.        , 0.        , 0.        , 0.        , 0.47249269,\n",
       "        0.        , 0.47249269, 0.        , 0.        , 0.        ,\n",
       "        0.47249269, 0.        , 0.        , 0.32711256, 0.47249269],\n",
       "       [0.        , 0.        , 0.        , 0.        , 0.        ,\n",
       "        0.82219037, 0.        , 0.        , 0.        , 0.        ,\n",
       "        0.        , 0.        , 0.        , 0.56921261, 0.        ],\n",
       "       [0.57735027, 0.        , 0.        , 0.        , 0.        ,\n",
       "        0.        , 0.        , 0.        , 0.57735027, 0.        ,\n",
       "        0.        , 0.57735027, 0.        , 0.        , 0.        ],\n",
       "       [0.        , 0.70710678, 0.        , 0.        , 0.        ,\n",
       "        0.        , 0.        , 0.        , 0.        , 0.70710678,\n",
       "        0.        , 0.        , 0.        , 0.        , 0.        ],\n",
       "       [0.        , 0.        , 0.        , 0.82219037, 0.        ,\n",
       "        0.        , 0.        , 0.        , 0.        , 0.        ,\n",
       "        0.        , 0.        , 0.        , 0.56921261, 0.        ],\n",
       "       [0.        , 0.        , 0.57735027, 0.        , 0.        ,\n",
       "        0.        , 0.        , 0.57735027, 0.        , 0.        ,\n",
       "        0.        , 0.        , 0.57735027, 0.        , 0.        ]])"
      ]
     },
     "execution_count": 32,
     "metadata": {},
     "output_type": "execute_result"
    }
   ],
   "source": [
    "tfidf.fit_transform(corpus).toarray()"
   ]
  },
  {
   "cell_type": "code",
   "execution_count": 33,
   "id": "53e461e5",
   "metadata": {},
   "outputs": [],
   "source": [
    "sentence  = [\"i like like like hate smile\"]"
   ]
  },
  {
   "cell_type": "code",
   "execution_count": 34,
   "id": "f8bb37e3",
   "metadata": {},
   "outputs": [
    {
     "data": {
      "text/plain": [
       "array([[0, 0, 0, 1, 0, 3, 0, 0, 0, 1, 0, 0, 0, 0, 0]], dtype=int64)"
      ]
     },
     "execution_count": 34,
     "metadata": {},
     "output_type": "execute_result"
    }
   ],
   "source": [
    "nd2array = cv.transform(sentence).toarray()\n",
    "nd2array"
   ]
  },
  {
   "cell_type": "code",
   "execution_count": 35,
   "id": "2244fb05",
   "metadata": {},
   "outputs": [
    {
     "data": {
      "text/plain": [
       "array([0, 0, 0, 1, 0, 3, 0, 0, 0, 1, 0, 0, 0, 0, 0], dtype=int64)"
      ]
     },
     "execution_count": 35,
     "metadata": {},
     "output_type": "execute_result"
    }
   ],
   "source": [
    "nd2array[0]"
   ]
  },
  {
   "cell_type": "code",
   "execution_count": 36,
   "id": "85223f37",
   "metadata": {},
   "outputs": [
    {
     "data": {
      "text/plain": [
       "array([[0.        , 0.        , 0.        , 0.30151134, 0.        ,\n",
       "        0.90453403, 0.        , 0.        , 0.        , 0.30151134,\n",
       "        0.        , 0.        , 0.        , 0.        , 0.        ]])"
      ]
     },
     "execution_count": 36,
     "metadata": {},
     "output_type": "execute_result"
    }
   ],
   "source": [
    "nd2array2 = tfidf.transform(sentence).toarray()\n",
    "nd2array2"
   ]
  },
  {
   "cell_type": "code",
   "execution_count": 37,
   "id": "6e6c3757",
   "metadata": {},
   "outputs": [
    {
     "data": {
      "text/plain": [
       "[array(['hate', 'like', 'smile'], dtype='<U6')]"
      ]
     },
     "execution_count": 37,
     "metadata": {},
     "output_type": "execute_result"
    }
   ],
   "source": [
    "cv.inverse_transform(nd2array)"
   ]
  },
  {
   "cell_type": "code",
   "execution_count": 38,
   "id": "6f9cd776",
   "metadata": {},
   "outputs": [
    {
     "data": {
      "text/plain": [
       "[array(['hate', 'like', 'smile'], dtype='<U6')]"
      ]
     },
     "execution_count": 38,
     "metadata": {},
     "output_type": "execute_result"
    }
   ],
   "source": [
    "tfidf.inverse_transform(nd2array2)"
   ]
  },
  {
   "cell_type": "code",
   "execution_count": 53,
   "id": "c429de1f",
   "metadata": {},
   "outputs": [
    {
     "data": {
      "text/plain": [
       "{'you': 13,\n",
       " 'know': 4,\n",
       " 'want': 10,\n",
       " 'your': 14,\n",
       " 'love': 6,\n",
       " 'like': 5,\n",
       " 'what': 11,\n",
       " 'should': 8,\n",
       " 'do': 0,\n",
       " 'smile': 9,\n",
       " 'face': 1,\n",
       " 'hate': 3,\n",
       " 'happy': 2,\n",
       " 'new': 7,\n",
       " 'year': 12}"
      ]
     },
     "execution_count": 53,
     "metadata": {},
     "output_type": "execute_result"
    }
   ],
   "source": [
    "voc_list = cv.vocabulary_\n",
    "voc_list"
   ]
  },
  {
   "cell_type": "code",
   "execution_count": 46,
   "id": "d00e0aa1",
   "metadata": {},
   "outputs": [
    {
     "data": {
      "text/plain": [
       "['do',\n",
       " 'face',\n",
       " 'happy',\n",
       " 'hate',\n",
       " 'know',\n",
       " 'like',\n",
       " 'love',\n",
       " 'new',\n",
       " 'should',\n",
       " 'smile',\n",
       " 'want',\n",
       " 'what',\n",
       " 'year',\n",
       " 'you',\n",
       " 'your']"
      ]
     },
     "execution_count": 46,
     "metadata": {},
     "output_type": "execute_result"
    }
   ],
   "source": [
    "feature_list = cv.get_feature_names() # 사전에 무었이 들어있는지\n",
    "feature_list"
   ]
  },
  {
   "cell_type": "code",
   "execution_count": 45,
   "id": "7cc61748",
   "metadata": {},
   "outputs": [],
   "source": [
    "# dic <--- list"
   ]
  },
  {
   "cell_type": "code",
   "execution_count": 48,
   "id": "b4043160",
   "metadata": {},
   "outputs": [],
   "source": [
    "dictionary = dict()"
   ]
  },
  {
   "cell_type": "code",
   "execution_count": 56,
   "id": "29c38c17",
   "metadata": {},
   "outputs": [
    {
     "data": {
      "text/plain": [
       "{0: 'do',\n",
       " 1: 'face',\n",
       " 2: 'happy',\n",
       " 3: 'hate',\n",
       " 4: 'know',\n",
       " 5: 'like',\n",
       " 6: 'love',\n",
       " 7: 'new',\n",
       " 8: 'should',\n",
       " 9: 'smile',\n",
       " 10: 'want',\n",
       " 11: 'what',\n",
       " 12: 'year',\n",
       " 13: 'you',\n",
       " 14: 'your'}"
      ]
     },
     "execution_count": 56,
     "metadata": {},
     "output_type": "execute_result"
    }
   ],
   "source": [
    "for idnex, element in enumerate(feature_list):\n",
    "    dictionary[idnex] = element\n",
    "dictionary"
   ]
  },
  {
   "cell_type": "code",
   "execution_count": 59,
   "id": "38239d24",
   "metadata": {},
   "outputs": [],
   "source": [
    "### 스팸을 나타내는 사전을 만들어주세요.(10개)\n",
    "### 스팸이 아닌 사전을 만들어주세요.(10개)"
   ]
  },
  {
   "cell_type": "code",
   "execution_count": 58,
   "id": "b94926d4",
   "metadata": {},
   "outputs": [],
   "source": [
    "## 광고!! 짱 좋은 판매 홍보전략입니다.!! => 스팸입니다.!!"
   ]
  },
  {
   "cell_type": "code",
   "execution_count": 85,
   "id": "d586afd4",
   "metadata": {},
   "outputs": [],
   "source": [
    "li_spam = ['advertise','promotion','sales','sign','member','lucky','present','raffle','hero','special']\n",
    "li_nspam = ['confirm','order','check','customer','payment','delivery','normal','club']"
   ]
  },
  {
   "cell_type": "code",
   "execution_count": 80,
   "id": "78df218c",
   "metadata": {},
   "outputs": [],
   "source": [
    "dic_spam = dict()\n",
    "dic_nspam = dict()"
   ]
  },
  {
   "cell_type": "code",
   "execution_count": 89,
   "id": "99d22f50",
   "metadata": {},
   "outputs": [],
   "source": [
    "spam_cv_fit = cv.fit(li_spam)"
   ]
  },
  {
   "cell_type": "code",
   "execution_count": 90,
   "id": "73a1feb3",
   "metadata": {},
   "outputs": [],
   "source": [
    "email = [\"promotion !! this is a great sales promotion strategy..!!\"]"
   ]
  },
  {
   "cell_type": "code",
   "execution_count": 91,
   "id": "8f17ffa8",
   "metadata": {},
   "outputs": [
    {
     "data": {
      "text/plain": [
       "array([[0, 0, 0, 0, 0, 2, 0, 1, 0, 0]], dtype=int64)"
      ]
     },
     "execution_count": 91,
     "metadata": {},
     "output_type": "execute_result"
    }
   ],
   "source": [
    "email_spam_array = spam_cv_fit.transform(email).toarray()\n",
    "email_spam_array"
   ]
  },
  {
   "cell_type": "code",
   "execution_count": 93,
   "id": "5a05a3cd",
   "metadata": {},
   "outputs": [],
   "source": [
    "nspam_cv_fit = cv.fit(li_nspam)"
   ]
  },
  {
   "cell_type": "code",
   "execution_count": 94,
   "id": "84dd2181",
   "metadata": {},
   "outputs": [
    {
     "data": {
      "text/plain": [
       "array([[0, 0, 0, 0, 0, 0, 0, 0]], dtype=int64)"
      ]
     },
     "execution_count": 94,
     "metadata": {},
     "output_type": "execute_result"
    }
   ],
   "source": [
    "email_nspam_array = nspam_cv_fit.transform(email).toarray()\n",
    "email_nspam_array"
   ]
  },
  {
   "cell_type": "code",
   "execution_count": 141,
   "id": "244dfd02",
   "metadata": {},
   "outputs": [],
   "source": [
    "li_spam = ['광고','특가','판매','가입','회원','행운','선물','홍보']\n",
    "li_nspam = ['승인','주문','확인','고객','지불','배송','일반','동호회']"
   ]
  },
  {
   "cell_type": "code",
   "execution_count": 142,
   "id": "8ba58b15",
   "metadata": {},
   "outputs": [],
   "source": [
    "email = [\"광고!! 특가 입니다 !! 지금 가입 하시는 고객 분께 좋은 판매 빠른 배송 보장 합니다.!!\"]"
   ]
  },
  {
   "cell_type": "code",
   "execution_count": 143,
   "id": "ba9051d5",
   "metadata": {},
   "outputs": [],
   "source": [
    "spam_cv_fit = cv.fit(li_spam)"
   ]
  },
  {
   "cell_type": "code",
   "execution_count": 144,
   "id": "ab903d3d",
   "metadata": {},
   "outputs": [
    {
     "data": {
      "text/plain": [
       "array([[1, 1, 0, 1, 1, 0, 0, 0]], dtype=int64)"
      ]
     },
     "execution_count": 144,
     "metadata": {},
     "output_type": "execute_result"
    }
   ],
   "source": [
    "result1 = spam_cv_fit.transform(email).toarray()\n",
    "result1"
   ]
  },
  {
   "cell_type": "code",
   "execution_count": 145,
   "id": "27ceea60",
   "metadata": {},
   "outputs": [],
   "source": [
    "nspam_cv_fit = cv.fit(li_nspam)"
   ]
  },
  {
   "cell_type": "code",
   "execution_count": 146,
   "id": "127820df",
   "metadata": {},
   "outputs": [
    {
     "data": {
      "text/plain": [
       "array([[1, 0, 1, 0, 0, 0, 0, 0]], dtype=int64)"
      ]
     },
     "execution_count": 146,
     "metadata": {},
     "output_type": "execute_result"
    }
   ],
   "source": [
    "result2 = nspam_cv_fit.transform(email).toarray()\n",
    "result2"
   ]
  },
  {
   "cell_type": "code",
   "execution_count": 147,
   "id": "1598cf1e",
   "metadata": {},
   "outputs": [],
   "source": [
    "## result1의 0이 아닌 갯수의 합, result2의 0이 아닌 갯수의 합"
   ]
  },
  {
   "cell_type": "code",
   "execution_count": 148,
   "id": "74997db2",
   "metadata": {},
   "outputs": [
    {
     "data": {
      "text/plain": [
       "4"
      ]
     },
     "execution_count": 148,
     "metadata": {},
     "output_type": "execute_result"
    }
   ],
   "source": [
    "result1_count = 0\n",
    "for count in result1[0]:\n",
    "    if count != 0:\n",
    "        result1_count += 1\n",
    "result1_count"
   ]
  },
  {
   "cell_type": "code",
   "execution_count": 149,
   "id": "1a1a44d5",
   "metadata": {},
   "outputs": [
    {
     "data": {
      "text/plain": [
       "2"
      ]
     },
     "execution_count": 149,
     "metadata": {},
     "output_type": "execute_result"
    }
   ],
   "source": [
    "result2_count = 0\n",
    "for count in result2[0]:\n",
    "    if count != 0:\n",
    "        result2_count += 1\n",
    "result2_count"
   ]
  },
  {
   "cell_type": "code",
   "execution_count": 150,
   "id": "a3b5da0e",
   "metadata": {},
   "outputs": [
    {
     "name": "stdout",
     "output_type": "stream",
     "text": [
      "스팸메일 입니다!!!\n"
     ]
    }
   ],
   "source": [
    "if result1_count >= result2_count :\n",
    "    print(\"스팸메일 입니다!!!\")\n",
    "else:\n",
    "    print(\"스팸메일이 아닙니다!!!\")"
   ]
  },
  {
   "cell_type": "code",
   "execution_count": null,
   "id": "23860dad",
   "metadata": {},
   "outputs": [],
   "source": []
  }
 ],
 "metadata": {
  "kernelspec": {
   "display_name": "Python 3 (ipykernel)",
   "language": "python",
   "name": "python3"
  },
  "language_info": {
   "codemirror_mode": {
    "name": "ipython",
    "version": 3
   },
   "file_extension": ".py",
   "mimetype": "text/x-python",
   "name": "python",
   "nbconvert_exporter": "python",
   "pygments_lexer": "ipython3",
   "version": "3.9.7"
  },
  "toc": {
   "base_numbering": 1,
   "nav_menu": {},
   "number_sections": true,
   "sideBar": true,
   "skip_h1_title": false,
   "title_cell": "Table of Contents",
   "title_sidebar": "Contents",
   "toc_cell": false,
   "toc_position": {},
   "toc_section_display": true,
   "toc_window_display": false
  }
 },
 "nbformat": 4,
 "nbformat_minor": 5
}
