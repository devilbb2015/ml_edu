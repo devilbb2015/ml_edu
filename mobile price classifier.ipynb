{
 "cells": [
  {
   "cell_type": "code",
   "execution_count": 5,
   "id": "fbda065e",
   "metadata": {},
   "outputs": [],
   "source": [
    "import pandas as pd\n",
    "import numpy as np"
   ]
  },
  {
   "cell_type": "code",
   "execution_count": 6,
   "id": "e6c56c34",
   "metadata": {},
   "outputs": [
    {
     "data": {
      "text/html": [
       "<div>\n",
       "<style scoped>\n",
       "    .dataframe tbody tr th:only-of-type {\n",
       "        vertical-align: middle;\n",
       "    }\n",
       "\n",
       "    .dataframe tbody tr th {\n",
       "        vertical-align: top;\n",
       "    }\n",
       "\n",
       "    .dataframe thead th {\n",
       "        text-align: right;\n",
       "    }\n",
       "</style>\n",
       "<table border=\"1\" class=\"dataframe\">\n",
       "  <thead>\n",
       "    <tr style=\"text-align: right;\">\n",
       "      <th></th>\n",
       "      <th>battery_power</th>\n",
       "      <th>blue</th>\n",
       "      <th>clock_speed</th>\n",
       "      <th>dual_sim</th>\n",
       "      <th>fc</th>\n",
       "      <th>four_g</th>\n",
       "      <th>int_memory</th>\n",
       "      <th>m_dep</th>\n",
       "      <th>mobile_wt</th>\n",
       "      <th>n_cores</th>\n",
       "      <th>...</th>\n",
       "      <th>px_height</th>\n",
       "      <th>px_width</th>\n",
       "      <th>ram</th>\n",
       "      <th>sc_h</th>\n",
       "      <th>sc_w</th>\n",
       "      <th>talk_time</th>\n",
       "      <th>three_g</th>\n",
       "      <th>touch_screen</th>\n",
       "      <th>wifi</th>\n",
       "      <th>price_range</th>\n",
       "    </tr>\n",
       "  </thead>\n",
       "  <tbody>\n",
       "    <tr>\n",
       "      <th>0</th>\n",
       "      <td>842</td>\n",
       "      <td>0</td>\n",
       "      <td>2.2</td>\n",
       "      <td>0</td>\n",
       "      <td>1</td>\n",
       "      <td>0</td>\n",
       "      <td>7</td>\n",
       "      <td>0.6</td>\n",
       "      <td>188</td>\n",
       "      <td>2</td>\n",
       "      <td>...</td>\n",
       "      <td>20</td>\n",
       "      <td>756</td>\n",
       "      <td>2549</td>\n",
       "      <td>9</td>\n",
       "      <td>7</td>\n",
       "      <td>19</td>\n",
       "      <td>0</td>\n",
       "      <td>0</td>\n",
       "      <td>1</td>\n",
       "      <td>1</td>\n",
       "    </tr>\n",
       "    <tr>\n",
       "      <th>1</th>\n",
       "      <td>1021</td>\n",
       "      <td>1</td>\n",
       "      <td>0.5</td>\n",
       "      <td>1</td>\n",
       "      <td>0</td>\n",
       "      <td>1</td>\n",
       "      <td>53</td>\n",
       "      <td>0.7</td>\n",
       "      <td>136</td>\n",
       "      <td>3</td>\n",
       "      <td>...</td>\n",
       "      <td>905</td>\n",
       "      <td>1988</td>\n",
       "      <td>2631</td>\n",
       "      <td>17</td>\n",
       "      <td>3</td>\n",
       "      <td>7</td>\n",
       "      <td>1</td>\n",
       "      <td>1</td>\n",
       "      <td>0</td>\n",
       "      <td>2</td>\n",
       "    </tr>\n",
       "    <tr>\n",
       "      <th>2</th>\n",
       "      <td>563</td>\n",
       "      <td>1</td>\n",
       "      <td>0.5</td>\n",
       "      <td>1</td>\n",
       "      <td>2</td>\n",
       "      <td>1</td>\n",
       "      <td>41</td>\n",
       "      <td>0.9</td>\n",
       "      <td>145</td>\n",
       "      <td>5</td>\n",
       "      <td>...</td>\n",
       "      <td>1263</td>\n",
       "      <td>1716</td>\n",
       "      <td>2603</td>\n",
       "      <td>11</td>\n",
       "      <td>2</td>\n",
       "      <td>9</td>\n",
       "      <td>1</td>\n",
       "      <td>1</td>\n",
       "      <td>0</td>\n",
       "      <td>2</td>\n",
       "    </tr>\n",
       "    <tr>\n",
       "      <th>3</th>\n",
       "      <td>615</td>\n",
       "      <td>1</td>\n",
       "      <td>2.5</td>\n",
       "      <td>0</td>\n",
       "      <td>0</td>\n",
       "      <td>0</td>\n",
       "      <td>10</td>\n",
       "      <td>0.8</td>\n",
       "      <td>131</td>\n",
       "      <td>6</td>\n",
       "      <td>...</td>\n",
       "      <td>1216</td>\n",
       "      <td>1786</td>\n",
       "      <td>2769</td>\n",
       "      <td>16</td>\n",
       "      <td>8</td>\n",
       "      <td>11</td>\n",
       "      <td>1</td>\n",
       "      <td>0</td>\n",
       "      <td>0</td>\n",
       "      <td>2</td>\n",
       "    </tr>\n",
       "    <tr>\n",
       "      <th>4</th>\n",
       "      <td>1821</td>\n",
       "      <td>1</td>\n",
       "      <td>1.2</td>\n",
       "      <td>0</td>\n",
       "      <td>13</td>\n",
       "      <td>1</td>\n",
       "      <td>44</td>\n",
       "      <td>0.6</td>\n",
       "      <td>141</td>\n",
       "      <td>2</td>\n",
       "      <td>...</td>\n",
       "      <td>1208</td>\n",
       "      <td>1212</td>\n",
       "      <td>1411</td>\n",
       "      <td>8</td>\n",
       "      <td>2</td>\n",
       "      <td>15</td>\n",
       "      <td>1</td>\n",
       "      <td>1</td>\n",
       "      <td>0</td>\n",
       "      <td>1</td>\n",
       "    </tr>\n",
       "    <tr>\n",
       "      <th>...</th>\n",
       "      <td>...</td>\n",
       "      <td>...</td>\n",
       "      <td>...</td>\n",
       "      <td>...</td>\n",
       "      <td>...</td>\n",
       "      <td>...</td>\n",
       "      <td>...</td>\n",
       "      <td>...</td>\n",
       "      <td>...</td>\n",
       "      <td>...</td>\n",
       "      <td>...</td>\n",
       "      <td>...</td>\n",
       "      <td>...</td>\n",
       "      <td>...</td>\n",
       "      <td>...</td>\n",
       "      <td>...</td>\n",
       "      <td>...</td>\n",
       "      <td>...</td>\n",
       "      <td>...</td>\n",
       "      <td>...</td>\n",
       "      <td>...</td>\n",
       "    </tr>\n",
       "    <tr>\n",
       "      <th>1995</th>\n",
       "      <td>794</td>\n",
       "      <td>1</td>\n",
       "      <td>0.5</td>\n",
       "      <td>1</td>\n",
       "      <td>0</td>\n",
       "      <td>1</td>\n",
       "      <td>2</td>\n",
       "      <td>0.8</td>\n",
       "      <td>106</td>\n",
       "      <td>6</td>\n",
       "      <td>...</td>\n",
       "      <td>1222</td>\n",
       "      <td>1890</td>\n",
       "      <td>668</td>\n",
       "      <td>13</td>\n",
       "      <td>4</td>\n",
       "      <td>19</td>\n",
       "      <td>1</td>\n",
       "      <td>1</td>\n",
       "      <td>0</td>\n",
       "      <td>0</td>\n",
       "    </tr>\n",
       "    <tr>\n",
       "      <th>1996</th>\n",
       "      <td>1965</td>\n",
       "      <td>1</td>\n",
       "      <td>2.6</td>\n",
       "      <td>1</td>\n",
       "      <td>0</td>\n",
       "      <td>0</td>\n",
       "      <td>39</td>\n",
       "      <td>0.2</td>\n",
       "      <td>187</td>\n",
       "      <td>4</td>\n",
       "      <td>...</td>\n",
       "      <td>915</td>\n",
       "      <td>1965</td>\n",
       "      <td>2032</td>\n",
       "      <td>11</td>\n",
       "      <td>10</td>\n",
       "      <td>16</td>\n",
       "      <td>1</td>\n",
       "      <td>1</td>\n",
       "      <td>1</td>\n",
       "      <td>2</td>\n",
       "    </tr>\n",
       "    <tr>\n",
       "      <th>1997</th>\n",
       "      <td>1911</td>\n",
       "      <td>0</td>\n",
       "      <td>0.9</td>\n",
       "      <td>1</td>\n",
       "      <td>1</td>\n",
       "      <td>1</td>\n",
       "      <td>36</td>\n",
       "      <td>0.7</td>\n",
       "      <td>108</td>\n",
       "      <td>8</td>\n",
       "      <td>...</td>\n",
       "      <td>868</td>\n",
       "      <td>1632</td>\n",
       "      <td>3057</td>\n",
       "      <td>9</td>\n",
       "      <td>1</td>\n",
       "      <td>5</td>\n",
       "      <td>1</td>\n",
       "      <td>1</td>\n",
       "      <td>0</td>\n",
       "      <td>3</td>\n",
       "    </tr>\n",
       "    <tr>\n",
       "      <th>1998</th>\n",
       "      <td>1512</td>\n",
       "      <td>0</td>\n",
       "      <td>0.9</td>\n",
       "      <td>0</td>\n",
       "      <td>4</td>\n",
       "      <td>1</td>\n",
       "      <td>46</td>\n",
       "      <td>0.1</td>\n",
       "      <td>145</td>\n",
       "      <td>5</td>\n",
       "      <td>...</td>\n",
       "      <td>336</td>\n",
       "      <td>670</td>\n",
       "      <td>869</td>\n",
       "      <td>18</td>\n",
       "      <td>10</td>\n",
       "      <td>19</td>\n",
       "      <td>1</td>\n",
       "      <td>1</td>\n",
       "      <td>1</td>\n",
       "      <td>0</td>\n",
       "    </tr>\n",
       "    <tr>\n",
       "      <th>1999</th>\n",
       "      <td>510</td>\n",
       "      <td>1</td>\n",
       "      <td>2.0</td>\n",
       "      <td>1</td>\n",
       "      <td>5</td>\n",
       "      <td>1</td>\n",
       "      <td>45</td>\n",
       "      <td>0.9</td>\n",
       "      <td>168</td>\n",
       "      <td>6</td>\n",
       "      <td>...</td>\n",
       "      <td>483</td>\n",
       "      <td>754</td>\n",
       "      <td>3919</td>\n",
       "      <td>19</td>\n",
       "      <td>4</td>\n",
       "      <td>2</td>\n",
       "      <td>1</td>\n",
       "      <td>1</td>\n",
       "      <td>1</td>\n",
       "      <td>3</td>\n",
       "    </tr>\n",
       "  </tbody>\n",
       "</table>\n",
       "<p>2000 rows × 21 columns</p>\n",
       "</div>"
      ],
      "text/plain": [
       "      battery_power  blue  clock_speed  dual_sim  fc  four_g  int_memory  \\\n",
       "0               842     0          2.2         0   1       0           7   \n",
       "1              1021     1          0.5         1   0       1          53   \n",
       "2               563     1          0.5         1   2       1          41   \n",
       "3               615     1          2.5         0   0       0          10   \n",
       "4              1821     1          1.2         0  13       1          44   \n",
       "...             ...   ...          ...       ...  ..     ...         ...   \n",
       "1995            794     1          0.5         1   0       1           2   \n",
       "1996           1965     1          2.6         1   0       0          39   \n",
       "1997           1911     0          0.9         1   1       1          36   \n",
       "1998           1512     0          0.9         0   4       1          46   \n",
       "1999            510     1          2.0         1   5       1          45   \n",
       "\n",
       "      m_dep  mobile_wt  n_cores  ...  px_height  px_width   ram  sc_h  sc_w  \\\n",
       "0       0.6        188        2  ...         20       756  2549     9     7   \n",
       "1       0.7        136        3  ...        905      1988  2631    17     3   \n",
       "2       0.9        145        5  ...       1263      1716  2603    11     2   \n",
       "3       0.8        131        6  ...       1216      1786  2769    16     8   \n",
       "4       0.6        141        2  ...       1208      1212  1411     8     2   \n",
       "...     ...        ...      ...  ...        ...       ...   ...   ...   ...   \n",
       "1995    0.8        106        6  ...       1222      1890   668    13     4   \n",
       "1996    0.2        187        4  ...        915      1965  2032    11    10   \n",
       "1997    0.7        108        8  ...        868      1632  3057     9     1   \n",
       "1998    0.1        145        5  ...        336       670   869    18    10   \n",
       "1999    0.9        168        6  ...        483       754  3919    19     4   \n",
       "\n",
       "      talk_time  three_g  touch_screen  wifi  price_range  \n",
       "0            19        0             0     1            1  \n",
       "1             7        1             1     0            2  \n",
       "2             9        1             1     0            2  \n",
       "3            11        1             0     0            2  \n",
       "4            15        1             1     0            1  \n",
       "...         ...      ...           ...   ...          ...  \n",
       "1995         19        1             1     0            0  \n",
       "1996         16        1             1     1            2  \n",
       "1997          5        1             1     0            3  \n",
       "1998         19        1             1     1            0  \n",
       "1999          2        1             1     1            3  \n",
       "\n",
       "[2000 rows x 21 columns]"
      ]
     },
     "execution_count": 6,
     "metadata": {},
     "output_type": "execute_result"
    }
   ],
   "source": [
    "df=pd.read_csv('train.csv')\n",
    "df"
   ]
  },
  {
   "cell_type": "code",
   "execution_count": 88,
   "id": "d1382c71",
   "metadata": {},
   "outputs": [],
   "source": [
    "col = []\n",
    "for li in df.columns:\n",
    "    col.append(li)\n",
    "col.remove('price_range')"
   ]
  },
  {
   "cell_type": "code",
   "execution_count": 7,
   "id": "060b7bb4",
   "metadata": {},
   "outputs": [],
   "source": [
    "from sklearn.model_selection import train_test_split"
   ]
  },
  {
   "cell_type": "code",
   "execution_count": 8,
   "id": "fdeb6af4",
   "metadata": {},
   "outputs": [],
   "source": [
    "X_train, X_test, y_train, y_test = train_test_split(df.iloc[:,:-1], df.iloc[:,-1], test_size=0.2, random_state=42)"
   ]
  },
  {
   "cell_type": "code",
   "execution_count": 9,
   "id": "f825b8f0",
   "metadata": {
    "scrolled": true
   },
   "outputs": [
    {
     "data": {
      "text/html": [
       "<div>\n",
       "<style scoped>\n",
       "    .dataframe tbody tr th:only-of-type {\n",
       "        vertical-align: middle;\n",
       "    }\n",
       "\n",
       "    .dataframe tbody tr th {\n",
       "        vertical-align: top;\n",
       "    }\n",
       "\n",
       "    .dataframe thead th {\n",
       "        text-align: right;\n",
       "    }\n",
       "</style>\n",
       "<table border=\"1\" class=\"dataframe\">\n",
       "  <thead>\n",
       "    <tr style=\"text-align: right;\">\n",
       "      <th></th>\n",
       "      <th>battery_power</th>\n",
       "      <th>blue</th>\n",
       "      <th>clock_speed</th>\n",
       "      <th>dual_sim</th>\n",
       "      <th>fc</th>\n",
       "      <th>four_g</th>\n",
       "      <th>int_memory</th>\n",
       "      <th>m_dep</th>\n",
       "      <th>mobile_wt</th>\n",
       "      <th>n_cores</th>\n",
       "      <th>pc</th>\n",
       "      <th>px_height</th>\n",
       "      <th>px_width</th>\n",
       "      <th>ram</th>\n",
       "      <th>sc_h</th>\n",
       "      <th>sc_w</th>\n",
       "      <th>talk_time</th>\n",
       "      <th>three_g</th>\n",
       "      <th>touch_screen</th>\n",
       "      <th>wifi</th>\n",
       "    </tr>\n",
       "  </thead>\n",
       "  <tbody>\n",
       "    <tr>\n",
       "      <th>968</th>\n",
       "      <td>1923</td>\n",
       "      <td>0</td>\n",
       "      <td>0.5</td>\n",
       "      <td>1</td>\n",
       "      <td>7</td>\n",
       "      <td>0</td>\n",
       "      <td>46</td>\n",
       "      <td>0.5</td>\n",
       "      <td>191</td>\n",
       "      <td>1</td>\n",
       "      <td>10</td>\n",
       "      <td>767</td>\n",
       "      <td>1759</td>\n",
       "      <td>1489</td>\n",
       "      <td>10</td>\n",
       "      <td>9</td>\n",
       "      <td>3</td>\n",
       "      <td>1</td>\n",
       "      <td>1</td>\n",
       "      <td>1</td>\n",
       "    </tr>\n",
       "    <tr>\n",
       "      <th>240</th>\n",
       "      <td>633</td>\n",
       "      <td>1</td>\n",
       "      <td>2.2</td>\n",
       "      <td>0</td>\n",
       "      <td>0</td>\n",
       "      <td>1</td>\n",
       "      <td>49</td>\n",
       "      <td>0.1</td>\n",
       "      <td>139</td>\n",
       "      <td>8</td>\n",
       "      <td>1</td>\n",
       "      <td>529</td>\n",
       "      <td>1009</td>\n",
       "      <td>3560</td>\n",
       "      <td>11</td>\n",
       "      <td>1</td>\n",
       "      <td>16</td>\n",
       "      <td>1</td>\n",
       "      <td>1</td>\n",
       "      <td>1</td>\n",
       "    </tr>\n",
       "    <tr>\n",
       "      <th>819</th>\n",
       "      <td>1236</td>\n",
       "      <td>0</td>\n",
       "      <td>0.9</td>\n",
       "      <td>1</td>\n",
       "      <td>2</td>\n",
       "      <td>1</td>\n",
       "      <td>57</td>\n",
       "      <td>0.1</td>\n",
       "      <td>188</td>\n",
       "      <td>1</td>\n",
       "      <td>14</td>\n",
       "      <td>517</td>\n",
       "      <td>809</td>\n",
       "      <td>1406</td>\n",
       "      <td>14</td>\n",
       "      <td>12</td>\n",
       "      <td>20</td>\n",
       "      <td>1</td>\n",
       "      <td>0</td>\n",
       "      <td>1</td>\n",
       "    </tr>\n",
       "    <tr>\n",
       "      <th>692</th>\n",
       "      <td>781</td>\n",
       "      <td>0</td>\n",
       "      <td>1.1</td>\n",
       "      <td>0</td>\n",
       "      <td>2</td>\n",
       "      <td>0</td>\n",
       "      <td>38</td>\n",
       "      <td>0.4</td>\n",
       "      <td>198</td>\n",
       "      <td>5</td>\n",
       "      <td>7</td>\n",
       "      <td>304</td>\n",
       "      <td>1674</td>\n",
       "      <td>3508</td>\n",
       "      <td>13</td>\n",
       "      <td>8</td>\n",
       "      <td>5</td>\n",
       "      <td>0</td>\n",
       "      <td>0</td>\n",
       "      <td>1</td>\n",
       "    </tr>\n",
       "    <tr>\n",
       "      <th>420</th>\n",
       "      <td>1456</td>\n",
       "      <td>1</td>\n",
       "      <td>0.5</td>\n",
       "      <td>1</td>\n",
       "      <td>7</td>\n",
       "      <td>0</td>\n",
       "      <td>7</td>\n",
       "      <td>0.4</td>\n",
       "      <td>105</td>\n",
       "      <td>5</td>\n",
       "      <td>12</td>\n",
       "      <td>823</td>\n",
       "      <td>1104</td>\n",
       "      <td>1587</td>\n",
       "      <td>6</td>\n",
       "      <td>5</td>\n",
       "      <td>20</td>\n",
       "      <td>1</td>\n",
       "      <td>0</td>\n",
       "      <td>1</td>\n",
       "    </tr>\n",
       "    <tr>\n",
       "      <th>...</th>\n",
       "      <td>...</td>\n",
       "      <td>...</td>\n",
       "      <td>...</td>\n",
       "      <td>...</td>\n",
       "      <td>...</td>\n",
       "      <td>...</td>\n",
       "      <td>...</td>\n",
       "      <td>...</td>\n",
       "      <td>...</td>\n",
       "      <td>...</td>\n",
       "      <td>...</td>\n",
       "      <td>...</td>\n",
       "      <td>...</td>\n",
       "      <td>...</td>\n",
       "      <td>...</td>\n",
       "      <td>...</td>\n",
       "      <td>...</td>\n",
       "      <td>...</td>\n",
       "      <td>...</td>\n",
       "      <td>...</td>\n",
       "    </tr>\n",
       "    <tr>\n",
       "      <th>1130</th>\n",
       "      <td>1975</td>\n",
       "      <td>1</td>\n",
       "      <td>1.9</td>\n",
       "      <td>1</td>\n",
       "      <td>2</td>\n",
       "      <td>0</td>\n",
       "      <td>31</td>\n",
       "      <td>0.9</td>\n",
       "      <td>151</td>\n",
       "      <td>1</td>\n",
       "      <td>17</td>\n",
       "      <td>775</td>\n",
       "      <td>1607</td>\n",
       "      <td>3022</td>\n",
       "      <td>13</td>\n",
       "      <td>5</td>\n",
       "      <td>19</td>\n",
       "      <td>0</td>\n",
       "      <td>0</td>\n",
       "      <td>1</td>\n",
       "    </tr>\n",
       "    <tr>\n",
       "      <th>1294</th>\n",
       "      <td>589</td>\n",
       "      <td>1</td>\n",
       "      <td>0.5</td>\n",
       "      <td>0</td>\n",
       "      <td>1</td>\n",
       "      <td>1</td>\n",
       "      <td>59</td>\n",
       "      <td>0.7</td>\n",
       "      <td>146</td>\n",
       "      <td>8</td>\n",
       "      <td>4</td>\n",
       "      <td>759</td>\n",
       "      <td>1858</td>\n",
       "      <td>362</td>\n",
       "      <td>16</td>\n",
       "      <td>10</td>\n",
       "      <td>6</td>\n",
       "      <td>1</td>\n",
       "      <td>1</td>\n",
       "      <td>1</td>\n",
       "    </tr>\n",
       "    <tr>\n",
       "      <th>860</th>\n",
       "      <td>1829</td>\n",
       "      <td>1</td>\n",
       "      <td>0.5</td>\n",
       "      <td>0</td>\n",
       "      <td>0</td>\n",
       "      <td>1</td>\n",
       "      <td>15</td>\n",
       "      <td>0.4</td>\n",
       "      <td>160</td>\n",
       "      <td>5</td>\n",
       "      <td>7</td>\n",
       "      <td>729</td>\n",
       "      <td>1267</td>\n",
       "      <td>2080</td>\n",
       "      <td>16</td>\n",
       "      <td>11</td>\n",
       "      <td>12</td>\n",
       "      <td>1</td>\n",
       "      <td>0</td>\n",
       "      <td>1</td>\n",
       "    </tr>\n",
       "    <tr>\n",
       "      <th>1459</th>\n",
       "      <td>1927</td>\n",
       "      <td>0</td>\n",
       "      <td>0.9</td>\n",
       "      <td>1</td>\n",
       "      <td>3</td>\n",
       "      <td>0</td>\n",
       "      <td>11</td>\n",
       "      <td>0.4</td>\n",
       "      <td>190</td>\n",
       "      <td>8</td>\n",
       "      <td>12</td>\n",
       "      <td>491</td>\n",
       "      <td>1506</td>\n",
       "      <td>2916</td>\n",
       "      <td>16</td>\n",
       "      <td>11</td>\n",
       "      <td>18</td>\n",
       "      <td>0</td>\n",
       "      <td>1</td>\n",
       "      <td>1</td>\n",
       "    </tr>\n",
       "    <tr>\n",
       "      <th>1126</th>\n",
       "      <td>635</td>\n",
       "      <td>1</td>\n",
       "      <td>0.6</td>\n",
       "      <td>1</td>\n",
       "      <td>1</td>\n",
       "      <td>1</td>\n",
       "      <td>50</td>\n",
       "      <td>0.3</td>\n",
       "      <td>97</td>\n",
       "      <td>5</td>\n",
       "      <td>13</td>\n",
       "      <td>193</td>\n",
       "      <td>989</td>\n",
       "      <td>2107</td>\n",
       "      <td>13</td>\n",
       "      <td>12</td>\n",
       "      <td>12</td>\n",
       "      <td>1</td>\n",
       "      <td>0</td>\n",
       "      <td>0</td>\n",
       "    </tr>\n",
       "  </tbody>\n",
       "</table>\n",
       "<p>1600 rows × 20 columns</p>\n",
       "</div>"
      ],
      "text/plain": [
       "      battery_power  blue  clock_speed  dual_sim  fc  four_g  int_memory  \\\n",
       "968            1923     0          0.5         1   7       0          46   \n",
       "240             633     1          2.2         0   0       1          49   \n",
       "819            1236     0          0.9         1   2       1          57   \n",
       "692             781     0          1.1         0   2       0          38   \n",
       "420            1456     1          0.5         1   7       0           7   \n",
       "...             ...   ...          ...       ...  ..     ...         ...   \n",
       "1130           1975     1          1.9         1   2       0          31   \n",
       "1294            589     1          0.5         0   1       1          59   \n",
       "860            1829     1          0.5         0   0       1          15   \n",
       "1459           1927     0          0.9         1   3       0          11   \n",
       "1126            635     1          0.6         1   1       1          50   \n",
       "\n",
       "      m_dep  mobile_wt  n_cores  pc  px_height  px_width   ram  sc_h  sc_w  \\\n",
       "968     0.5        191        1  10        767      1759  1489    10     9   \n",
       "240     0.1        139        8   1        529      1009  3560    11     1   \n",
       "819     0.1        188        1  14        517       809  1406    14    12   \n",
       "692     0.4        198        5   7        304      1674  3508    13     8   \n",
       "420     0.4        105        5  12        823      1104  1587     6     5   \n",
       "...     ...        ...      ...  ..        ...       ...   ...   ...   ...   \n",
       "1130    0.9        151        1  17        775      1607  3022    13     5   \n",
       "1294    0.7        146        8   4        759      1858   362    16    10   \n",
       "860     0.4        160        5   7        729      1267  2080    16    11   \n",
       "1459    0.4        190        8  12        491      1506  2916    16    11   \n",
       "1126    0.3         97        5  13        193       989  2107    13    12   \n",
       "\n",
       "      talk_time  three_g  touch_screen  wifi  \n",
       "968           3        1             1     1  \n",
       "240          16        1             1     1  \n",
       "819          20        1             0     1  \n",
       "692           5        0             0     1  \n",
       "420          20        1             0     1  \n",
       "...         ...      ...           ...   ...  \n",
       "1130         19        0             0     1  \n",
       "1294          6        1             1     1  \n",
       "860          12        1             0     1  \n",
       "1459         18        0             1     1  \n",
       "1126         12        1             0     0  \n",
       "\n",
       "[1600 rows x 20 columns]"
      ]
     },
     "execution_count": 9,
     "metadata": {},
     "output_type": "execute_result"
    }
   ],
   "source": [
    "X_train"
   ]
  },
  {
   "cell_type": "code",
   "execution_count": 10,
   "id": "21338178",
   "metadata": {},
   "outputs": [
    {
     "data": {
      "text/plain": [
       "968     1\n",
       "240     2\n",
       "819     0\n",
       "692     3\n",
       "420     1\n",
       "       ..\n",
       "1130    3\n",
       "1294    0\n",
       "860     2\n",
       "1459    3\n",
       "1126    1\n",
       "Name: price_range, Length: 1600, dtype: int64"
      ]
     },
     "execution_count": 10,
     "metadata": {},
     "output_type": "execute_result"
    }
   ],
   "source": [
    "y_train"
   ]
  },
  {
   "cell_type": "code",
   "execution_count": 11,
   "id": "4d99d1d5",
   "metadata": {},
   "outputs": [
    {
     "name": "stdout",
     "output_type": "stream",
     "text": [
      "(1600, 20) (1600,)\n"
     ]
    }
   ],
   "source": [
    "print(X_train.shape,y_train.shape)"
   ]
  },
  {
   "cell_type": "code",
   "execution_count": 12,
   "id": "b59f4d51",
   "metadata": {},
   "outputs": [
    {
     "name": "stdout",
     "output_type": "stream",
     "text": [
      "(400, 20) (400,)\n"
     ]
    }
   ],
   "source": [
    "print(X_test.shape,y_test.shape)"
   ]
  },
  {
   "cell_type": "code",
   "execution_count": 13,
   "id": "3caba2ef",
   "metadata": {},
   "outputs": [],
   "source": [
    "from sklearn.neighbors import KNeighborsClassifier\n",
    "from sklearn.linear_model import LogisticRegression\n",
    "from sklearn.ensemble import VotingClassifier\n",
    "from sklearn.tree import DecisionTreeClassifier\n",
    "from sklearn.metrics import accuracy_score\n",
    "from warnings import filterwarnings\n",
    "filterwarnings('ignore')"
   ]
  },
  {
   "cell_type": "code",
   "execution_count": 25,
   "id": "9c2faac7",
   "metadata": {},
   "outputs": [],
   "source": [
    "import matplotlib.pyplot as plt\n",
    "import numpy as np"
   ]
  },
  {
   "cell_type": "code",
   "execution_count": 14,
   "id": "a4179cef",
   "metadata": {},
   "outputs": [],
   "source": [
    "logistic_regression = LogisticRegression()\n",
    "knn = KNeighborsClassifier(n_neighbors=8)\n",
    "de=DecisionTreeClassifier()"
   ]
  },
  {
   "cell_type": "markdown",
   "id": "eae76afb",
   "metadata": {},
   "source": [
    "### voting soft"
   ]
  },
  {
   "cell_type": "code",
   "execution_count": 36,
   "id": "851b0d41",
   "metadata": {
    "scrolled": true
   },
   "outputs": [
    {
     "name": "stdout",
     "output_type": "stream",
     "text": [
      "보팅 분류기의 정확도:  0.8625\n",
      "LogisticRegression 정확도: 0.6325\n",
      "KNeighborsClassifier 정확도: 0.9400\n",
      "DecisionTreeClassifier 정확도: 0.8275\n"
     ]
    }
   ],
   "source": [
    "voting_model = VotingClassifier(estimators=[ ('LogisticRegression', logistic_regression), ('KNN', knn),('DecisionTreeClassifier',de)], \n",
    "                                voting='soft')\n",
    "voting_model.fit(X_train, y_train)\n",
    "pred = voting_model.predict(X_test)\n",
    "print('보팅 분류기의 정확도: {0: .4f}'.format(accuracy_score(y_test, pred)))\n",
    "# 개별 모델의 학습/예측/평가\n",
    "classifiers = [logistic_regression, knn, de]\n",
    "x_voting_soft = []\n",
    "y_voting_soft = []\n",
    "for classifier in classifiers:\n",
    "    classifier.fit(X_train, y_train)\n",
    "    pred = classifier.predict(X_test)\n",
    "    class_name = classifier.__class__.__name__\n",
    "    print('{0} 정확도: {1:.4f}'.format(class_name, accuracy_score(y_test, pred)))\n",
    "    x_voting_soft.append(accuracy_score(y_test, pred))\n",
    "    y_voting_soft.append(class_name)"
   ]
  },
  {
   "cell_type": "code",
   "execution_count": 48,
   "id": "fd2bf339",
   "metadata": {},
   "outputs": [
    {
     "data": {
      "image/png": "[encoded data removed]",
      "text/plain": [
       "<Figure size 432x288 with 1 Axes>"
      ]
     },
     "metadata": {
      "needs_background": "light"
     },
     "output_type": "display_data"
    }
   ],
   "source": [
    "x = np.arange(3)\n",
    "plt.title('Voting Soft', fontsize=20)\n",
    "plt.xlabel('Classifier', fontsize=12)\n",
    "plt.ylabel('Accuracy', fontsize=12)\n",
    "plt.bar(x, x_voting_soft)\n",
    "plt.xticks(x, y_voting_soft)\n",
    "plt.show()"
   ]
  },
  {
   "cell_type": "markdown",
   "id": "2317339b",
   "metadata": {},
   "source": [
    "### voting hard"
   ]
  },
  {
   "cell_type": "code",
   "execution_count": 46,
   "id": "c20d804c",
   "metadata": {},
   "outputs": [
    {
     "name": "stdout",
     "output_type": "stream",
     "text": [
      "보팅 분류기의 정확도:  0.8950\n",
      "LogisticRegression 정확도: 0.6325\n",
      "KNeighborsClassifier 정확도: 0.9400\n",
      "DecisionTreeClassifier 정확도: 0.8250\n"
     ]
    }
   ],
   "source": [
    "voting_model = VotingClassifier(estimators=[ ('LogisticRegression', logistic_regression), ('KNN', knn),('DecisionTreeClassifier',de)], \n",
    "                                voting='hard')\n",
    "voting_model.fit(X_train, y_train)\n",
    "pred = voting_model.predict(X_test)\n",
    "print('보팅 분류기의 정확도: {0: .4f}'.format(accuracy_score(y_test, pred)))\n",
    "# 개별 모델의 학습/예측/평가\n",
    "classifiers = [logistic_regression, knn, de]\n",
    "x_voting_hard = []\n",
    "y_voting_hard = []\n",
    "for classifier in classifiers:\n",
    "    classifier.fit(X_train, y_train)\n",
    "    pred = classifier.predict(X_test)\n",
    "    class_name = classifier.__class__.__name__\n",
    "    print('{0} 정확도: {1:.4f}'.format(class_name, accuracy_score(y_test, pred)))\n",
    "    x_voting_hard.append(accuracy_score(y_test, pred))\n",
    "    y_voting_hard.append(class_name)"
   ]
  },
  {
   "cell_type": "code",
   "execution_count": 49,
   "id": "ce1fd6f0",
   "metadata": {},
   "outputs": [
    {
     "data": {
      "image/png": "[encoded data removed]",
      "text/plain": [
       "<Figure size 432x288 with 1 Axes>"
      ]
     },
     "metadata": {
      "needs_background": "light"
     },
     "output_type": "display_data"
    }
   ],
   "source": [
    "x = np.arange(3)\n",
    "plt.title('Voting Hard', fontsize=20)\n",
    "plt.xlabel('Classifier', fontsize=12)\n",
    "plt.ylabel('Accuracy', fontsize=12)\n",
    "plt.bar(x, x_voting_hard)\n",
    "plt.xticks(x, y_voting_hard)\n",
    "plt.show()"
   ]
  },
  {
   "cell_type": "code",
   "execution_count": 51,
   "id": "d7beaf91",
   "metadata": {},
   "outputs": [],
   "source": [
    "import seaborn as sns"
   ]
  },
  {
   "cell_type": "code",
   "execution_count": 69,
   "id": "5f6ab68c",
   "metadata": {},
   "outputs": [
    {
     "data": {
      "text/html": [
       "<div>\n",
       "<style scoped>\n",
       "    .dataframe tbody tr th:only-of-type {\n",
       "        vertical-align: middle;\n",
       "    }\n",
       "\n",
       "    .dataframe tbody tr th {\n",
       "        vertical-align: top;\n",
       "    }\n",
       "\n",
       "    .dataframe thead th {\n",
       "        text-align: right;\n",
       "    }\n",
       "</style>\n",
       "<table border=\"1\" class=\"dataframe\">\n",
       "  <thead>\n",
       "    <tr style=\"text-align: right;\">\n",
       "      <th></th>\n",
       "      <th>Accuracy</th>\n",
       "      <th>Classifier</th>\n",
       "      <th>cls</th>\n",
       "    </tr>\n",
       "  </thead>\n",
       "  <tbody>\n",
       "    <tr>\n",
       "      <th>0</th>\n",
       "      <td>0.6325</td>\n",
       "      <td>LogisticRegression</td>\n",
       "      <td>soft</td>\n",
       "    </tr>\n",
       "    <tr>\n",
       "      <th>1</th>\n",
       "      <td>0.9400</td>\n",
       "      <td>KNeighborsClassifier</td>\n",
       "      <td>soft</td>\n",
       "    </tr>\n",
       "    <tr>\n",
       "      <th>2</th>\n",
       "      <td>0.8275</td>\n",
       "      <td>DecisionTreeClassifier</td>\n",
       "      <td>soft</td>\n",
       "    </tr>\n",
       "    <tr>\n",
       "      <th>3</th>\n",
       "      <td>0.6325</td>\n",
       "      <td>LogisticRegression</td>\n",
       "      <td>hard</td>\n",
       "    </tr>\n",
       "    <tr>\n",
       "      <th>4</th>\n",
       "      <td>0.9400</td>\n",
       "      <td>KNeighborsClassifier</td>\n",
       "      <td>hard</td>\n",
       "    </tr>\n",
       "    <tr>\n",
       "      <th>5</th>\n",
       "      <td>0.8250</td>\n",
       "      <td>DecisionTreeClassifier</td>\n",
       "      <td>hard</td>\n",
       "    </tr>\n",
       "  </tbody>\n",
       "</table>\n",
       "</div>"
      ],
      "text/plain": [
       "   Accuracy              Classifier   cls\n",
       "0    0.6325      LogisticRegression  soft\n",
       "1    0.9400    KNeighborsClassifier  soft\n",
       "2    0.8275  DecisionTreeClassifier  soft\n",
       "3    0.6325      LogisticRegression  hard\n",
       "4    0.9400    KNeighborsClassifier  hard\n",
       "5    0.8250  DecisionTreeClassifier  hard"
      ]
     },
     "execution_count": 69,
     "metadata": {},
     "output_type": "execute_result"
    }
   ],
   "source": [
    "voting_accuracy = x_voting_soft + x_voting_hard\n",
    "voting_classifier = y_voting_soft + y_voting_hard\n",
    "cls = ['soft', 'soft', 'soft', 'hard', 'hard', 'hard']\n",
    "df1 = pd.DataFrame({'Accuracy':voting_accuracy, 'Classifier':voting_classifier, 'cls':cls})\n",
    "df1"
   ]
  },
  {
   "cell_type": "code",
   "execution_count": 73,
   "id": "5810d0f9",
   "metadata": {},
   "outputs": [
    {
     "data": {
      "text/plain": [
       "<AxesSubplot:xlabel='Classifier', ylabel='Accuracy'>"
      ]
     },
     "execution_count": 73,
     "metadata": {},
     "output_type": "execute_result"
    },
    {
     "data": {
      "image/png": "[encoded data removed]",
      "text/plain": [
       "<Figure size 432x288 with 1 Axes>"
      ]
     },
     "metadata": {
      "needs_background": "light"
     },
     "output_type": "display_data"
    }
   ],
   "source": [
    "sns.barplot(data=df1, x='Classifier', y='Accuracy', hue='cls')"
   ]
  },
  {
   "cell_type": "markdown",
   "id": "03715f06",
   "metadata": {},
   "source": [
    "### 랜덤 포레스트 훈련"
   ]
  },
  {
   "cell_type": "code",
   "execution_count": 17,
   "id": "eea526ba",
   "metadata": {},
   "outputs": [],
   "source": [
    "from sklearn.model_selection import cross_validate\n",
    "from sklearn.ensemble import RandomForestClassifier"
   ]
  },
  {
   "cell_type": "code",
   "execution_count": 100,
   "id": "bbd78bfd",
   "metadata": {},
   "outputs": [],
   "source": [
    "scores_li = []"
   ]
  },
  {
   "cell_type": "code",
   "execution_count": 101,
   "id": "6859220c",
   "metadata": {},
   "outputs": [
    {
     "name": "stdout",
     "output_type": "stream",
     "text": [
      "1.0 0.869375\n"
     ]
    }
   ],
   "source": [
    "rf = RandomForestClassifier (n_jobs=-1 ,random_state=42)\n",
    "scores = cross_validate(rf ,X_train , y_train,\n",
    "                       return_train_score=True ,n_jobs=-1)\n",
    "print(np.mean(scores['train_score']), np.mean(scores['test_score']))"
   ]
  },
  {
   "cell_type": "code",
   "execution_count": 102,
   "id": "4e360d89",
   "metadata": {},
   "outputs": [],
   "source": [
    "scores_li.append(scores['test_score'])"
   ]
  },
  {
   "cell_type": "code",
   "execution_count": 19,
   "id": "43d43457",
   "metadata": {},
   "outputs": [
    {
     "name": "stdout",
     "output_type": "stream",
     "text": [
      "[0.07479623 0.00659466 0.02905768 0.00642978 0.02451429 0.00563382\n",
      " 0.03792802 0.02413367 0.04143425 0.02397791 0.0307449  0.05853758\n",
      " 0.05672197 0.47096225 0.02844735 0.02813431 0.03244095 0.00684051\n",
      " 0.0063519  0.00631797]\n"
     ]
    }
   ],
   "source": [
    "rf.fit(X_train,y_train)\n",
    "print(rf.feature_importances_)"
   ]
  },
  {
   "cell_type": "code",
   "execution_count": 20,
   "id": "6771088d",
   "metadata": {},
   "outputs": [
    {
     "name": "stdout",
     "output_type": "stream",
     "text": [
      "0.859375\n"
     ]
    }
   ],
   "source": [
    "rf= RandomForestClassifier(oob_score=True, n_jobs=-1, random_state=42)\n",
    "rf.fit(X_train,y_train)\n",
    "print(rf.oob_score_)"
   ]
  },
  {
   "cell_type": "markdown",
   "id": "74955ded",
   "metadata": {},
   "source": [
    "#### 부품(컬럼) 에 대한 중요도"
   ]
  },
  {
   "cell_type": "code",
   "execution_count": 98,
   "id": "d51fcc0b",
   "metadata": {},
   "outputs": [
    {
     "data": {
      "image/png": "[encoded data removed]",
      "text/plain": [
       "<Figure size 2160x720 with 1 Axes>"
      ]
     },
     "metadata": {
      "needs_background": "light"
     },
     "output_type": "display_data"
    }
   ],
   "source": [
    "df2 = pd.DataFrame({'part':col, 'importance':rf.feature_importances_})\n",
    "plt.figure(figsize=(30, 10))\n",
    "df2_sns = sns.barplot(data=df2, x='part', y='importance')\n",
    "df2_sns.set_xlabel('part', fontsize=30)\n",
    "df2_sns.set_ylabel('importance', fontsize=30)\n",
    "df2_sns.tick_params(labelsize=20)\n",
    "plt.xticks(rotation=45)\n",
    "plt.show()"
   ]
  },
  {
   "cell_type": "markdown",
   "id": "61df92fe",
   "metadata": {},
   "source": [
    "### XGBoost vs LightGBM"
   ]
  },
  {
   "cell_type": "code",
   "execution_count": 21,
   "id": "b36c1253",
   "metadata": {},
   "outputs": [],
   "source": [
    "from xgboost import XGBClassifier"
   ]
  },
  {
   "cell_type": "code",
   "execution_count": 103,
   "id": "0a70273f",
   "metadata": {
    "scrolled": true
   },
   "outputs": [
    {
     "name": "stdout",
     "output_type": "stream",
     "text": [
      "1.0 0.9043749999999999\n"
     ]
    }
   ],
   "source": [
    "xgb = XGBClassifier(tree_method='hist' ,random_state=42)\n",
    "scores =cross_validate(xgb,X_train,y_train,return_train_score=True,n_jobs=-1)\n",
    "print(np.mean(scores['train_score']),np.mean(scores['test_score']))"
   ]
  },
  {
   "cell_type": "code",
   "execution_count": 104,
   "id": "a5278f3b",
   "metadata": {},
   "outputs": [],
   "source": [
    "scores_li.append(scores['test_score'])"
   ]
  },
  {
   "cell_type": "code",
   "execution_count": 105,
   "id": "a31bbafe",
   "metadata": {},
   "outputs": [],
   "source": [
    "from lightgbm import LGBMClassifier"
   ]
  },
  {
   "cell_type": "code",
   "execution_count": 106,
   "id": "bb24df1c",
   "metadata": {},
   "outputs": [
    {
     "name": "stdout",
     "output_type": "stream",
     "text": [
      "1.0 0.9018749999999999\n"
     ]
    }
   ],
   "source": [
    "lgb=LGBMClassifier(random_state=42)\n",
    "scores =cross_validate(lgb,X_train,y_train,return_train_score=True,n_jobs=-1)\n",
    "print(np.mean(scores['train_score']),np.mean(scores['test_score']))"
   ]
  },
  {
   "cell_type": "code",
   "execution_count": 107,
   "id": "d36a554e",
   "metadata": {},
   "outputs": [],
   "source": [
    "scores_li.append(scores['test_score'])"
   ]
  },
  {
   "cell_type": "code",
   "execution_count": 108,
   "id": "ed7888be",
   "metadata": {},
   "outputs": [
    {
     "data": {
      "text/plain": [
       "[array([0.88125 , 0.884375, 0.88125 , 0.85    , 0.85    ]),\n",
       " array([0.9     , 0.9125  , 0.890625, 0.9125  , 0.90625 ]),\n",
       " array([0.91875 , 0.915625, 0.890625, 0.8875  , 0.896875])]"
      ]
     },
     "execution_count": 108,
     "metadata": {},
     "output_type": "execute_result"
    }
   ],
   "source": [
    "scores_li"
   ]
  },
  {
   "cell_type": "code",
   "execution_count": 112,
   "id": "06d5875a",
   "metadata": {},
   "outputs": [],
   "source": [
    "rf_score = scores_li[0]\n",
    "xgb_score = scores_li[1]\n",
    "lgb_score = scores_li[2]"
   ]
  },
  {
   "cell_type": "code",
   "execution_count": 132,
   "id": "d4f40f58",
   "metadata": {},
   "outputs": [
    {
     "data": {
      "text/plain": [
       "['RandomForest',\n",
       " 'XGBoost',\n",
       " 'LightGBM',\n",
       " 'RandomForest',\n",
       " 'XGBoost',\n",
       " 'LightGBM',\n",
       " 'RandomForest',\n",
       " 'XGBoost',\n",
       " 'LightGBM',\n",
       " 'RandomForest',\n",
       " 'XGBoost',\n",
       " 'LightGBM',\n",
       " 'RandomForest',\n",
       " 'XGBoost',\n",
       " 'LightGBM']"
      ]
     },
     "execution_count": 132,
     "metadata": {},
     "output_type": "execute_result"
    }
   ],
   "source": [
    "num = np.arange(1,6)\n",
    "num = np.repeat(num, 3)\n",
    "num\n",
    "cls_list = ['RandomForest','XGBoost','LightGBM']*5\n",
    "cls_list"
   ]
  },
  {
   "cell_type": "code",
   "execution_count": 137,
   "id": "065176b7",
   "metadata": {},
   "outputs": [
    {
     "data": {
      "text/plain": [
       "[0.88125,\n",
       " 0.884375,\n",
       " 0.88125,\n",
       " 0.85,\n",
       " 0.85,\n",
       " 0.9,\n",
       " 0.9125,\n",
       " 0.890625,\n",
       " 0.9125,\n",
       " 0.90625,\n",
       " 0.91875,\n",
       " 0.915625,\n",
       " 0.890625,\n",
       " 0.8875,\n",
       " 0.896875]"
      ]
     },
     "execution_count": 137,
     "metadata": {},
     "output_type": "execute_result"
    }
   ],
   "source": [
    "rf_score_1 = rf_score[0]\n",
    "rf_score_2 = rf_score[1]\n",
    "rf_score_3 = rf_score[2]\n",
    "rf_score_4 = rf_score[3]\n",
    "rf_score_5 = rf_score[4]\n",
    "xgb_score_1 = xgb_score[0]\n",
    "xgb_score_2 = xgb_score[1]\n",
    "xgb_score_3 = xgb_score[2]\n",
    "xgb_score_4 = xgb_score[3]\n",
    "xgb_score_5 = xgb_score[4]\n",
    "lgb_score_1 = lgb_score[0]\n",
    "lgb_score_2 = lgb_score[1]\n",
    "lgb_score_3 = lgb_score[2]\n",
    "lgb_score_4 = lgb_score[3]\n",
    "lgb_score_5 = lgb_score[4]\n",
    "cls_score = [rf_score_1,rf_score_2,rf_score_3,rf_score_4,rf_score_5,xgb_score_1,xgb_score_2,xgb_score_3,xgb_score_4,xgb_score_5,lgb_score_1,lgb_score_2,lgb_score_3,lgb_score_4,lgb_score_5]\n",
    "cls_score"
   ]
  },
  {
   "cell_type": "code",
   "execution_count": 138,
   "id": "c87f2bcf",
   "metadata": {},
   "outputs": [
    {
     "data": {
      "text/html": [
       "<div>\n",
       "<style scoped>\n",
       "    .dataframe tbody tr th:only-of-type {\n",
       "        vertical-align: middle;\n",
       "    }\n",
       "\n",
       "    .dataframe tbody tr th {\n",
       "        vertical-align: top;\n",
       "    }\n",
       "\n",
       "    .dataframe thead th {\n",
       "        text-align: right;\n",
       "    }\n",
       "</style>\n",
       "<table border=\"1\" class=\"dataframe\">\n",
       "  <thead>\n",
       "    <tr style=\"text-align: right;\">\n",
       "      <th></th>\n",
       "      <th>Classifier</th>\n",
       "      <th>Score</th>\n",
       "      <th>count</th>\n",
       "    </tr>\n",
       "  </thead>\n",
       "  <tbody>\n",
       "    <tr>\n",
       "      <th>0</th>\n",
       "      <td>RandomForest</td>\n",
       "      <td>0.881250</td>\n",
       "      <td>1</td>\n",
       "    </tr>\n",
       "    <tr>\n",
       "      <th>1</th>\n",
       "      <td>XGBoost</td>\n",
       "      <td>0.884375</td>\n",
       "      <td>1</td>\n",
       "    </tr>\n",
       "    <tr>\n",
       "      <th>2</th>\n",
       "      <td>LightGBM</td>\n",
       "      <td>0.881250</td>\n",
       "      <td>1</td>\n",
       "    </tr>\n",
       "    <tr>\n",
       "      <th>3</th>\n",
       "      <td>RandomForest</td>\n",
       "      <td>0.850000</td>\n",
       "      <td>2</td>\n",
       "    </tr>\n",
       "    <tr>\n",
       "      <th>4</th>\n",
       "      <td>XGBoost</td>\n",
       "      <td>0.850000</td>\n",
       "      <td>2</td>\n",
       "    </tr>\n",
       "    <tr>\n",
       "      <th>5</th>\n",
       "      <td>LightGBM</td>\n",
       "      <td>0.900000</td>\n",
       "      <td>2</td>\n",
       "    </tr>\n",
       "    <tr>\n",
       "      <th>6</th>\n",
       "      <td>RandomForest</td>\n",
       "      <td>0.912500</td>\n",
       "      <td>3</td>\n",
       "    </tr>\n",
       "    <tr>\n",
       "      <th>7</th>\n",
       "      <td>XGBoost</td>\n",
       "      <td>0.890625</td>\n",
       "      <td>3</td>\n",
       "    </tr>\n",
       "    <tr>\n",
       "      <th>8</th>\n",
       "      <td>LightGBM</td>\n",
       "      <td>0.912500</td>\n",
       "      <td>3</td>\n",
       "    </tr>\n",
       "    <tr>\n",
       "      <th>9</th>\n",
       "      <td>RandomForest</td>\n",
       "      <td>0.906250</td>\n",
       "      <td>4</td>\n",
       "    </tr>\n",
       "    <tr>\n",
       "      <th>10</th>\n",
       "      <td>XGBoost</td>\n",
       "      <td>0.918750</td>\n",
       "      <td>4</td>\n",
       "    </tr>\n",
       "    <tr>\n",
       "      <th>11</th>\n",
       "      <td>LightGBM</td>\n",
       "      <td>0.915625</td>\n",
       "      <td>4</td>\n",
       "    </tr>\n",
       "    <tr>\n",
       "      <th>12</th>\n",
       "      <td>RandomForest</td>\n",
       "      <td>0.890625</td>\n",
       "      <td>5</td>\n",
       "    </tr>\n",
       "    <tr>\n",
       "      <th>13</th>\n",
       "      <td>XGBoost</td>\n",
       "      <td>0.887500</td>\n",
       "      <td>5</td>\n",
       "    </tr>\n",
       "    <tr>\n",
       "      <th>14</th>\n",
       "      <td>LightGBM</td>\n",
       "      <td>0.896875</td>\n",
       "      <td>5</td>\n",
       "    </tr>\n",
       "  </tbody>\n",
       "</table>\n",
       "</div>"
      ],
      "text/plain": [
       "      Classifier     Score  count\n",
       "0   RandomForest  0.881250      1\n",
       "1        XGBoost  0.884375      1\n",
       "2       LightGBM  0.881250      1\n",
       "3   RandomForest  0.850000      2\n",
       "4        XGBoost  0.850000      2\n",
       "5       LightGBM  0.900000      2\n",
       "6   RandomForest  0.912500      3\n",
       "7        XGBoost  0.890625      3\n",
       "8       LightGBM  0.912500      3\n",
       "9   RandomForest  0.906250      4\n",
       "10       XGBoost  0.918750      4\n",
       "11      LightGBM  0.915625      4\n",
       "12  RandomForest  0.890625      5\n",
       "13       XGBoost  0.887500      5\n",
       "14      LightGBM  0.896875      5"
      ]
     },
     "execution_count": 138,
     "metadata": {},
     "output_type": "execute_result"
    }
   ],
   "source": [
    "cls_list = ['RandomForest','XGBoost','LightGBM']*5\n",
    "num = np.arange(1,6)\n",
    "num = np.repeat(num, 3)\n",
    "df3 = pd.DataFrame({'Classifier':cls_list,'Score':cls_score, 'count':num})\n",
    "df3"
   ]
  },
  {
   "cell_type": "markdown",
   "id": "90408690",
   "metadata": {},
   "source": [
    "#### RandomForest, XGBoost, LightGBM 시도별 점수"
   ]
  },
  {
   "cell_type": "code",
   "execution_count": 140,
   "id": "fbb5a4dc",
   "metadata": {},
   "outputs": [
    {
     "data": {
      "image/png": "[encoded data removed]",
      "text/plain": [
       "<Figure size 2160x720 with 1 Axes>"
      ]
     },
     "metadata": {
      "needs_background": "light"
     },
     "output_type": "display_data"
    }
   ],
   "source": [
    "plt.figure(figsize=(30, 10))\n",
    "df2_sns = sns.barplot(data=df3, x='Classifier', y='Score', hue='count')\n",
    "df2_sns.set_xlabel('Classifier', fontsize=30)\n",
    "df2_sns.set_ylabel('Score', fontsize=30)\n",
    "df2_sns.tick_params(labelsize=20)\n",
    "plt.show()"
   ]
  },
  {
   "cell_type": "code",
   "execution_count": null,
   "id": "292d630f",
   "metadata": {},
   "outputs": [],
   "source": []
  }
 ],
 "metadata": {
  "kernelspec": {
   "display_name": "Python 3 (ipykernel)",
   "language": "python",
   "name": "python3"
  },
  "language_info": {
   "codemirror_mode": {
    "name": "ipython",
    "version": 3
   },
   "file_extension": ".py",
   "mimetype": "text/x-python",
   "name": "python",
   "nbconvert_exporter": "python",
   "pygments_lexer": "ipython3",
   "version": "3.9.7"
  },
  "toc": {
   "base_numbering": 1,
   "nav_menu": {},
   "number_sections": true,
   "sideBar": true,
   "skip_h1_title": false,
   "title_cell": "Table of Contents",
   "title_sidebar": "Contents",
   "toc_cell": false,
   "toc_position": {},
   "toc_section_display": true,
   "toc_window_display": false
  }
 },
 "nbformat": 4,
 "nbformat_minor": 5
}
